{
 "metadata": {
  "language_info": {
   "codemirror_mode": {
    "name": "ipython",
    "version": 3
   },
   "file_extension": ".py",
   "mimetype": "text/x-python",
   "name": "python",
   "nbconvert_exporter": "python",
   "pygments_lexer": "ipython3",
   "version": 3
  },
  "orig_nbformat": 2
 },
 "nbformat": 4,
 "nbformat_minor": 2,
 "cells": [
  {
   "source": [
    "# Scipy 3\n",
    "\n",
    "## Stadística (scipy.stats)\n",
    "## scipy.linalg Linear algebra routines\n",
    "## scipy.odr Orthogonal distance regression\n",
    "## scipy.signal Signal processing\n",
    "## scipy.sparse Sparse matrices\n",
    "## scipy.spatial Spatial data structures and algorithms\n",
    "## scipy.special Any special mathematical functions\n"
   ],
   "cell_type": "markdown",
   "metadata": {}
  }
 ]
}