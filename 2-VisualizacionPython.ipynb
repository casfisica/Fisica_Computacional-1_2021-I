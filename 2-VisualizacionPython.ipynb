{
 "metadata": {
  "language_info": {
   "codemirror_mode": {
    "name": "ipython",
    "version": 3
   },
   "file_extension": ".py",
   "mimetype": "text/x-python",
   "name": "python",
   "nbconvert_exporter": "python",
   "pygments_lexer": "ipython3",
   "version": "3.9.6"
  },
  "orig_nbformat": 2,
  "kernelspec": {
   "name": "python3",
   "display_name": "Python 3.9.6 64-bit"
  },
  "interpreter": {
   "hash": "ef4c800377bbf5e33c22b32317d08627756e48ff809c13c8c6fbaacd1e58e059"
  }
 },
 "nbformat": 4,
 "nbformat_minor": 2,
 "cells": [
  {
   "cell_type": "markdown",
   "source": [
    "# Numpy y MatPlotLib \n",
    "\n",
    "Una de las grandes ventajas de Python es la gran cantidad de librerías especializadas que tiene. En este documento veremos tres de las más relevantes en ciencias. \n",
    "\n",
    "## Numpy \n",
    "\n",
    "Las listas de Python son muy útiles, pero tienen algunas limitaciones. Las listas en Python no se comportan como elementos matemáticos i.e. vectores o matrices, luego el programador tiene, en principio, que crear estos nuevos objetos. Numpy tiene muchos de los elementos matemáticos que comúnmente usamos, y la mayoría de sus propiedades. \n",
    "\n",
    "  \n",
    "__Ejemplo:__ creemos un arreglo de arreglos (Matriz) usando listas de Python, y veamos si la podemos operar como lo haríamos con una Matriz "
   ],
   "metadata": {}
  },
  {
   "cell_type": "code",
   "execution_count": null,
   "source": [
    "M=[[11,12] , [21,22]]"
   ],
   "outputs": [],
   "metadata": {}
  },
  {
   "cell_type": "code",
   "execution_count": null,
   "source": [
    "#La representación\r\n",
    "print(\"M=\",M)\r\n",
    "#Elementos\r\n",
    "print(\"M[1,1]=\",M[0][0],\", M[1,2]=\",M[0][1],\", M[2,1]=\",M[1][0],\", M[2,2]=\",M[1][1])\r\n",
    "#Suma\r\n",
    "print(\"M+M=\",M+M)\r\n",
    "#Multiplicación por un escalar (si se pone un float da error)\r\n",
    "print(\"4M=\",4*M)\r\n",
    "#Multiplicación \r\n",
    "print(\"M*M=\",M*M)"
   ],
   "outputs": [],
   "metadata": {
    "tags": []
   }
  },
  {
   "cell_type": "markdown",
   "source": [
    "__Ejemplo:__ Intentemos algo similar usando arreglos de numpy"
   ],
   "metadata": {}
  },
  {
   "cell_type": "code",
   "execution_count": null,
   "source": [
    "# Importamos numpy y le damos un sobrenombre np\r\n",
    "import numpy as np\r\n",
    "# Usamos el mismo arreglo anterior para inicializar el arreglo de numpy\r\n",
    "M = np.matrix(\r\n",
    "    [\r\n",
    "        [11,12],\r\n",
    "        [21,22]\r\n",
    "    ]\r\n",
    "    )\r\n",
    "#La representación\r\n",
    "print(\"M=\")\r\n",
    "print(M)\r\n",
    "#Elementos, note que se usa la notación M[F,C]\r\n",
    "print(\"M[1,1]=\",M[0,0],\", M[1,2]=\",M[0,1],\", M[2 1]=\",M[1,0],\", M[2,2]=\",M[1,1])\r\n",
    "#Suma\r\n",
    "print(\"M+M=\")\r\n",
    "print(M+M)\r\n",
    "#Multiplicación por un escalar\r\n",
    "print(\"1.5*M=\")\r\n",
    "print(1.5*M)\r\n",
    "#Multiplicación por entrada\r\n",
    "print(\"M*M=\")\r\n",
    "print(M*M)\r\n",
    "#producto punto (escalar)\r\n",
    "print(\"M.M=\")\r\n",
    "print(np.dot(M,M))\r\n",
    "#producto cruz\r\n",
    "print(\"MxM=\")\r\n",
    "print(np.cross(M,M))"
   ],
   "outputs": [],
   "metadata": {
    "tags": []
   }
  },
  {
   "cell_type": "markdown",
   "source": [
    "__Nota:__ Lo anterior se puede hacer con arreglos de numpy, pero se debe de tener en cuenta que el producto interno de matrices está definido para objetos matrices y para arreglos se debe de especificar el método `.dot`.\n",
    "\n",
    "\n",
    "También están casi todas las operaciones más comunes sobre matrices. \n",
    " \n",
    "\n",
    "__Ejemplos:__ Determinantes, transposición, inversa, autovalores ... "
   ],
   "metadata": {}
  },
  {
   "cell_type": "code",
   "execution_count": null,
   "source": [
    "#Transpuesta\r\n",
    "print(\"MT=\")\r\n",
    "print(np.transpose(M))\r\n",
    "#Inverza\r\n",
    "print(\"M-1=\")\r\n",
    "print(np.invert(M))\r\n",
    "#Determinante\r\n",
    "print(\"det(M)=\")\r\n",
    "print(np.linalg.det(M))\r\n",
    "#Autovalores\r\n",
    "print(\"lamda(M)=\")\r\n",
    "print(np.linalg.eigvals(M))\r\n",
    "#Autovectores\r\n",
    "print(\"AutoVec(M)=\")\r\n",
    "print(np.linalg.eig(M))"
   ],
   "outputs": [],
   "metadata": {
    "tags": []
   }
  },
  {
   "cell_type": "markdown",
   "source": [
    "### Uso de memoria con Numpy\n",
    "Numpy proporciona especifcación de arregols de tamaño de bytes en Python. \n",
    "\n",
    "__Ejemplo:__ \n",
    "a continuación creamos una vector de tres números, cada uno de cuatro bytes de longitud (32 bits) como se muestra en la propiedad *itemize*. La primera línea importa Numpy como `np`, que es la convención recomendada. La siguiente línea crea un arreglo de números float de 32 bits. La propiedad *itemize* muestra el número de bytes por elemento."
   ],
   "metadata": {}
  },
  {
   "cell_type": "code",
   "execution_count": null,
   "source": [
    "import numpy as np # convención recommendada\r\n",
    "#Creo vector x de punto flotante de 32 bits\r\n",
    "x = np.array([1,2,3],dtype=np.float32)\r\n",
    "x.itemsize"
   ],
   "outputs": [],
   "metadata": {}
  },
  {
   "cell_type": "markdown",
   "source": [
    "Una ventaja de numpy sobre otras librerías numéricas en pthon es el uso del paquete de algebra lineal escrito en `Fortran` _LINPACK_, que es mucho más rápido que cualquier implementación hecha en python directamente. Otra ventaja que tienen los arreglos de numpy, es que son interpretados naturalmente por las funciones dentro de numpy, luego una función que calcula algo sobre un numero, si se le pasa un arreglo de numpy, entrega un arreglo de resultados.\n",
    "\n",
    "__Ejemplo:__ Calculemos coseno de un arreglo de numpy"
   ],
   "metadata": {}
  },
  {
   "cell_type": "code",
   "execution_count": null,
   "source": [
    "#Numpy también tiene constantes matemáticas incluidas \r\n",
    "Pi=np.pi    #Uso el pi de numpy\r\n",
    "x=np.array([Pi/2,Pi/4,Pi/6,Pi/8,Pi/10])\r\n",
    "print(np.cos(x))"
   ],
   "outputs": [],
   "metadata": {
    "tags": []
   }
  },
  {
   "cell_type": "markdown",
   "source": [
    "En el caso de ecuaciones lineales, numpy tiene herramientas que pueden llegar a ser muy útiles\n",
    "\n",
    "__Ejemplo:__ Si tenemos un sistema de ecuaciones cuya solución está dado por el $Mx=b$ donde $b=[0,1,2,6]$ y $M=[[1,2,2,3],[1,1,1,2],[2,3,4,5],[1,2,3,4]]$. Se puede encontrar la solución usando `linalg.solve() ` "
   ],
   "metadata": {}
  },
  {
   "cell_type": "code",
   "execution_count": null,
   "source": [
    "#Defino el la matriz\r\n",
    "M=np.array([[1,2,2,3],[1,1,1,2],[2,3,4,5],[1,2,3,4]])\r\n",
    "#Defino el vector\r\n",
    "b=np.array([0,1,2,6])\r\n",
    "#asigno el vector x que soluciona el sistema de ecuaciones\r\n",
    "x= np.linalg.solve(M,b)\r\n",
    "print(x)"
   ],
   "outputs": [],
   "metadata": {
    "tags": []
   }
  },
  {
   "cell_type": "markdown",
   "source": [
    "Otras funciones interesantes en _Numpy_ son:\n",
    "> - `arange(inicio, final, separacion)`: Similar a `range()` pero entrega un arreglo de numpy, y su paso no tiene que ser entero\n",
    "> - `linspace(inicio, final, npuntos)`: Crea arreglos linearmente espaciados,\n",
    "> - `logspace(inicio, final, npuntos)`: Crea arreglos logaritmicamente espaciados.\n",
    "> - `zeros([npuntos])`: Entrega arreglos de ceros, y se puede espesificar el tipo de dato i.e. float, int u otro. _npuntos_ puede ser un arreglo\n",
    "> - `ones([npuntos])`: como _zeros_ pero con unos\n",
    "\n",
    "__Ejemplos:__ Veamos un ejemplo de cada uno de estas funciones"
   ],
   "metadata": {}
  },
  {
   "cell_type": "code",
   "execution_count": null,
   "source": [
    "# arreglo de 0 a 2 con pasos de 0.3\r\n",
    "print(np.arange(0, 2, 0.3))"
   ],
   "outputs": [],
   "metadata": {
    "tags": []
   }
  },
  {
   "cell_type": "code",
   "execution_count": null,
   "source": [
    "# Rango linearmente espaciado de 0 a 100 con 11 puntos\r\n",
    "print(np.linspace(0, 100, 11))"
   ],
   "outputs": [],
   "metadata": {
    "tags": []
   }
  },
  {
   "cell_type": "code",
   "execution_count": null,
   "source": [
    "# Rango logaritmicamente espaciado de 1 a 100 con 10 puntos\r\n",
    "print(np.logspace(1, 100, 11))"
   ],
   "outputs": [],
   "metadata": {
    "tags": []
   }
  },
  {
   "cell_type": "code",
   "execution_count": null,
   "source": [
    "# matriz de 3x5 de ceros enteros\r\n",
    "print(np.zeros([3,5]),int)"
   ],
   "outputs": [],
   "metadata": {
    "tags": []
   }
  },
  {
   "cell_type": "code",
   "execution_count": null,
   "source": [
    "# matriz de 5x3 de unos de texto\r\n",
    "print(np.ones([5,3]), str)"
   ],
   "outputs": [],
   "metadata": {
    "tags": []
   }
  },
  {
   "cell_type": "markdown",
   "source": [
    "### Iterando en NumPy\n",
    "\n",
    "El paquete NumPy contiene un objeto iterador `numpy.nditer`. Este objeto iterador multidimensional mediante el cual es posible iterar sobre cualquier arreglo de NumPy. Cada elemento de una matriz se visita mediante la interfaz Iterator estándar de Python.\n",
    "\n",
    "__Ejemplo:__ Creemos una matriz 3X4 usando la función `arange()` e iteremos sobre ella usando `nditer`."
   ],
   "metadata": {}
  },
  {
   "cell_type": "code",
   "execution_count": null,
   "source": [
    "import numpy as np\r\n",
    "a = np.arange(0,60,5)\r\n",
    "# reshape Da una nueva forma a un arreglo sin cambiar sus datos\r\n",
    "a = a.reshape(3,4)\r\n",
    "\r\n",
    "print(\"El arreglo se ve como:\")\r\n",
    "print(a)\r\n",
    "print('\\n')\r\n",
    "\r\n",
    "print(\"Antes de modificarlo:\")\r\n",
    "for x in np.nditer(a):\r\n",
    "   print(x,end=\",\")"
   ],
   "outputs": [],
   "metadata": {}
  },
  {
   "cell_type": "markdown",
   "source": [
    "#### Orden de iteración\n",
    "Si los mismos elementos se almacenan usando un orden diferente, el iterador elige la forma más eficiente de iterar sobre una matriz."
   ],
   "metadata": {}
  },
  {
   "cell_type": "code",
   "execution_count": null,
   "source": [
    "import numpy as np\r\n",
    "a = np.arange(0,60,5)\r\n",
    "a = a.reshape(3,4)\r\n",
    "\r\n",
    "print(\"El arreglo se ve como:\")\r\n",
    "print(a)\r\n",
    "print('\\n')\r\n",
    "   \r\n",
    "print(\"Transpuesto\")\r\n",
    "b = a.T\r\n",
    "print(b)\r\n",
    "print(\"\\n\")\r\n",
    "\r\n",
    "print(\"estilo de C:\")\r\n",
    "c = b.copy(order = 'C')\r\n",
    "print(c)\r\n",
    "for x in np.nditer(c):\r\n",
    "   print(x,end=\",\")\r\n",
    "print('\\n')\r\n",
    "\r\n",
    "print(\"Estilo de Fortran\")\r\n",
    "c = b.copy(order = 'F')\r\n",
    "print(c)\r\n",
    "for x in np.nditer(c):\r\n",
    "   print(x,end=\",\")"
   ],
   "outputs": [],
   "metadata": {}
  },
  {
   "cell_type": "markdown",
   "source": [
    "## Un paso adelante de Numpy\n",
    "\n",
    "Blaze se considera la próxima generación de Numpy y generaliza la semántica de Numpy para conjuntos de datos muy grandes que existen en una variedad de sistemas de archivos backend.\n",
    "Esto significa que Blaze está diseñado para manejar fuera del núcleo (es decir, demasiado grande para caber en la memoria RAM de una sola estación de trabajo) manipulaciones de datos y cálculos utilizando las familiares operaciones de Numpy"
   ],
   "metadata": {}
  },
  {
   "cell_type": "markdown",
   "source": [
    "## Gráficas con Python\n",
    "\n",
    "Existen un gran número de módulos para Python que facilitan la creación de gráficas. Nosotros nos concentramos en uno de los más básicos y poderosos llamado _matplotlib_.\n",
    "\n",
    "Como todos los grandes proyectos de código abierto, se originó para satisfacer una necesidad personal. En el momento de sus inicios, _John Hunter_ (lamentablemente falleció en 2012) usó principalmente _Matlab_ para la visualización científica, pero como él comenzó a integrar datos de fuentes dispares usando Python, se dio cuenta de que necesitaba una solución de Python para visualización, por lo que él solo escribió _Matplotlib_.\n",
    "\n",
    "John tenía algunos requisitos básicos para Matplotlib:\n",
    "\n",
    "- Los gráficos deben verse con calidad de publicación con un texto hermoso.\n",
    "- Los gráficos deben generar Postscript para su inclusión en documentos LATEX y publicaciones.\n",
    "- Impresión de calidad.\n",
    "- Los gráficos deben poder integrarse en una interfaz gráfica de usuario (GUI) para aplicaciones de desarrollo.\n",
    "- El código debe ser principalmente Python para permitir que los usuarios se conviertan en desarrolladores.\n",
    "- Los gráficos deben ser fáciles de hacer con solo unas pocas líneas de código para gráficos simples.\n",
    "\n",
    "Mientras Matplotlib contiene modulos con muchas funcionalidades para graficar, el módulo mas usado es _pyplot_. Pyplot contiene metodos que se usan en los diferentes componentes de los objetos `figure` (más adelante hablaremos de esto).\n",
    "\n",
    "Primero es necesario importarlo"
   ],
   "metadata": {}
  },
  {
   "cell_type": "code",
   "execution_count": null,
   "source": [
    "import matplotlib.pyplot as plt #Convención recomendada"
   ],
   "outputs": [],
   "metadata": {
    "tags": []
   }
  },
  {
   "cell_type": "markdown",
   "source": [
    "Matplotlib está construido sobre el paradigma de orientación a objetos. Esto significa que las gráficas se construyen paso a paso, y se pueden agregar elementos a la gráficas.\n",
    "\n",
    "`figure` es lo que se llama comunmente _canvas_(lienzo), mientras que `axes` es cada uno de los dibujos que se hacen en el lienzo. Luego un objeto `figure` puede contener varios objetos `axes`. \n",
    "\n",
    "Las dos zonas principales donde se dibujaran o sobre las que se interactuará serán:\n",
    "- __figure:__ Es una instancia de matplotlib.figure.Figure. Y es la ventana donde irá el o los gráficos en sí.\n",
    "\n",
    "___Sintaxis:___\n",
    "\n",
    "> ```python\n",
    "> plt.figure \n",
    "> ```\n",
    "\n",
    "- ___axes:___ Es una instancia de `matplotlib.axes.Axes`, que es el gráfico en sí donde se dibujará todo lo que le digamos y está localizada dentro de una figure\n",
    "___Sintaxis:___\n",
    "\n",
    "> ```python\n",
    "> plt.axes \n",
    "> ```\n",
    "\n",
    "Se puede usar la función `subplots()` para crear ambas\n",
    "\n",
    ">```\n",
    "> # creo un objeto figure y otro axis llamados fig y ax \n",
    "> fig, ax = plt.subplots()\n",
    ">```\n",
    "\n",
    "__Ejemplo:__ creemos una figure y un axis y grafiquemos una simple lista de python"
   ],
   "metadata": {}
  },
  {
   "cell_type": "code",
   "execution_count": null,
   "source": [
    "# Crea figure y un plot (objeto axis) \r\n",
    "fig, ax = plt.subplots()"
   ],
   "outputs": [],
   "metadata": {}
  },
  {
   "cell_type": "markdown",
   "source": [
    "__Nota:__ Si la gráfica no se muestrá, tenga en cuenta que se va a necesitar es que la sesión esté en modo interactivo, esto es: que cada que se realice un cambio en ésta, se muestre automáticamente. Para saber si se está en modo interactivo se usa `plt.isinteractive()`. Si el resultado de ejecutar esta linea es `False` entonces tiene el modo interactivo desactivado. Para cambiar de modo interactivo de a activo se usa `plt.ion()` y para regresar al modo interactivo apagado se usa `plt.ioff()`."
   ],
   "metadata": {}
  },
  {
   "cell_type": "code",
   "execution_count": null,
   "source": [
    "#Cambiemos el tamaño usando el atributo figsize\r\n",
    "fig, ax = plt.subplots(figsize=(8,5))"
   ],
   "outputs": [],
   "metadata": {}
  },
  {
   "cell_type": "markdown",
   "source": [
    "### Multiples gráficas\n",
    "\n",
    "Cuando se quiere maás de una gráfica en una figura, se tienen que crear varios objetos `axis` con diferentes nombres (como ax1, ax2, ...),y así se puede trabajar en cada uno de ellos de forma individual. Para esto se debe de decirle a la función subplots el número de filas y columnas que se desean.\n",
    "\n",
    ">```\n",
    ">plt.subplots(nfilas, ncolumnas)\n",
    ">```\n",
    "\n",
    "__Ejemplo:__ Una figura, con dos gráficas, distribuidas en una fila y dos columnas"
   ],
   "metadata": {}
  },
  {
   "cell_type": "code",
   "execution_count": null,
   "source": [
    "# Figure con dos plots\r\n",
    "# dentro de la tupla se asignan los axis\r\n",
    "fig, (ax1, ax2) = plt.subplots(1, 2, figsize = (8, 5))"
   ],
   "outputs": [],
   "metadata": {}
  },
  {
   "cell_type": "code",
   "execution_count": null,
   "source": [
    "# Figure con tres plots\r\n",
    "fig, (ax1, ax2, ax3) = plt.subplots(3, 1, figsize = (10, 10))"
   ],
   "outputs": [],
   "metadata": {}
  },
  {
   "cell_type": "markdown",
   "source": [
    "### Graficando Datos\n",
    "\n",
    "Los datos pueden ser graficado llamando el objeto `axis`, junto con el método `plot()` y espesificando los argumentos de los ejes \"x\" y \"y\".\n",
    "\n",
    "__Ejemplo:__ "
   ],
   "metadata": {}
  },
  {
   "cell_type": "code",
   "execution_count": null,
   "source": [
    "# Precio del cafe \r\n",
    "coffe_monthly_price = [0.8, 0.75, 1.05, 1.03, 0.95, 1.02, \r\n",
    "                          1.23, 1.32, 1.44, 1.31, 1.59, 1.84]\r\n",
    "# Meses del año\r\n",
    "months = [\"Ene\", \"Feb\", \"Mar\", \"Abr\", \"May\", \"Jun\", \"Jul\", \r\n",
    "          \"Ago\", \"Sep\", \"Oct\", \"Nov\", \"Dic\"]\r\n",
    "\r\n",
    "# Definimos figura y grafica\r\n",
    "fig, ax = plt.subplots(figsize=(10, 6))\r\n",
    "\r\n",
    "# Graficamos los datos\r\n",
    "ax.plot(months,\r\n",
    "        coffe_monthly_price)\r\n",
    "#Para esconder [<matplotlib.lines.Line2D at 0x7f65018db1c0>]\r\n",
    "#plt.show()"
   ],
   "outputs": [],
   "metadata": {}
  },
  {
   "cell_type": "markdown",
   "source": [
    "### Otros tipos de gráficas \"Dispersión\" y \"Barras\"\n",
    "\n",
    "Los gráficos de pyplot son por defecto puntos conectados por lineas (line plots). Se pueden usar otros tipos de gráficos muy útiles, como son las barras y la dispersión (bar plots y scatter plots).\n",
    "\n",
    "__Ejemplo:__ usemos el mismo ejemplo anterior pero con estos diferentes tipos de gráficas."
   ],
   "metadata": {}
  },
  {
   "cell_type": "code",
   "execution_count": null,
   "source": [
    "fig, ax = plt.subplots(figsize=(10, 6))\r\n",
    "\r\n",
    "# Creo el scatter plot\r\n",
    "ax.scatter(months, \r\n",
    "           coffe_monthly_price)\r\n",
    "\r\n",
    "plt.show()"
   ],
   "outputs": [],
   "metadata": {}
  },
  {
   "cell_type": "code",
   "execution_count": null,
   "source": [
    "fig, ax = plt.subplots(figsize=(10, 6))\r\n",
    "\r\n",
    "# Creo bar plot\r\n",
    "ax.bar(months, \r\n",
    "       coffe_monthly_price)\r\n",
    "\r\n",
    "plt.show()"
   ],
   "outputs": [],
   "metadata": {}
  },
  {
   "cell_type": "markdown",
   "source": [
    "### Modificar características de los lienzos y las gráficas.\n",
    "\n",
    "Se pueden modificar las características de muchos objetos de matplotlib. Por ejemplo se pueden añadir más información a la grafica por medio de el aributo `title` o `labels`, tambíen para los ejes coordenados `xlabel` y `ylabel` usando el método `ax.set()`.\n",
    "\n",
    "__Ejemplo:__ "
   ],
   "metadata": {}
  },
  {
   "cell_type": "code",
   "execution_count": null,
   "source": [
    "# Usamos algunas funciones de numpy\r\n",
    "from numpy import linspace,sin\r\n",
    "# creamos un vector de 100 componentes que va desde 0 hats 10\r\n",
    "x = linspace(0,10,100)\r\n",
    "# Usamos este vector para crear otro del la función seno de 0 a 10\r\n",
    "y = sin(x)\r\n",
    "\r\n",
    "# Se define el plot\r\n",
    "fig, ax = plt.subplots(figsize=(10, 6))\r\n",
    "\r\n",
    "# los valores de x e y\r\n",
    "ax.plot(x, y)\r\n",
    "\r\n",
    "# Se ponen titulo y nombre de los ejes\r\n",
    "ax.set(title = \"Función seno de 0 a 10\",\r\n",
    "       xlabel = \"eje \\nx\",\r\n",
    "       ylabel = \"eje \\ny\")\r\n",
    "\r\n",
    "plt.show()\r\n",
    "#show()"
   ],
   "outputs": [],
   "metadata": {}
  },
  {
   "cell_type": "markdown",
   "source": [
    "### Cambiar el tipo de Marcador en la gráfica \n",
    "\n",
    "Para los plots lineales y de dispersión es posible cambiar el tipo de punto que se usa, con el argumento `marker=simbolo`. Algunos de los marcadores disponibles:\n",
    "\n",
    "| Simbolo    |    descripción del Marker|\n",
    "|------------|-----------------------|\n",
    "|   .        |\t   punto\n",
    "|   ,        |\t   pixel\n",
    "|   o        |\t   circulo\n",
    "|   v        |\t   trianglo abajo\n",
    "|   ^        |\t   trianglo arriva\n",
    "|   <        |\t   trianglo izquierda\n",
    "|   >        |\t   trianglo derecha\n",
    "\n",
    "__Ejemplo:__ Usando de nuevo el ejemplo del seno modificamos los marcadores"
   ],
   "metadata": {}
  },
  {
   "cell_type": "code",
   "execution_count": null,
   "source": [
    "# Usamos algunas funciones de numpy\r\n",
    "from numpy import linspace,sin\r\n",
    "# creamos un vector de 50 componentes que va desde 0 hats 10\r\n",
    "x = linspace(0,10,50)\r\n",
    "# Usamos este vector para crear otro del la función seno de 0 a 10\r\n",
    "y = sin(x)\r\n",
    "\r\n",
    "# Se define el plot\r\n",
    "fig, ax = plt.subplots(figsize=(10, 6))\r\n",
    "\r\n",
    "# los valores de x e y. Marcador \r\n",
    "ax.plot(x, y, marker = '<')\r\n",
    "\r\n",
    "# Se ponen titulo y nombre de los ejes\r\n",
    "ax.set(title = \"Función seno de 0 a 10\",\r\n",
    "       xlabel = \"x\",\r\n",
    "       ylabel = \"y\")\r\n",
    "\r\n",
    "plt.show()\r\n",
    "#show()"
   ],
   "outputs": [],
   "metadata": {}
  },
  {
   "cell_type": "markdown",
   "source": [
    "### Cambiar colores de los plots\n",
    "\n",
    "Usando el argumento `color` se puede cambiar el color de las gráficas y de los bordes con `edgecolor`. Algunos de los colores:\n",
    "\n",
    "    b: blue\n",
    "    g: green\n",
    "    r: red\n",
    "    c: cyan\n",
    "    m: magenta\n",
    "    y: yellow\n",
    "    k: black\n",
    "    w: white\n",
    "\n",
    "También se puede cambiar la transparencia de dichos colores con el argumento `alpha`\n",
    "\n",
    "__Ejemplo:__ Volviendo al ejemplo del precio del café"
   ],
   "metadata": {}
  },
  {
   "cell_type": "code",
   "execution_count": null,
   "source": [
    "fig, ax = plt.subplots(figsize=(10, 6))\r\n",
    "\r\n",
    "# Creo bar plot, y cambio el color y asigno transparencia\r\n",
    "ax.bar(months, \r\n",
    "       coffe_monthly_price,\r\n",
    "       color = 'darkblue',\r\n",
    "       edgecolor = 'red',\r\n",
    "       alpha = 0.4)\r\n",
    "\r\n",
    "coffe_monthly_price2= np.array(coffe_monthly_price)/2\r\n",
    "\r\n",
    "ax.plot(months, \r\n",
    "       coffe_monthly_price2,\r\n",
    "       color = 'yellow')\r\n",
    "\r\n",
    "ax.set(title = \"Precio mensual promedio\\n Café de Colombia\",\r\n",
    "       xlabel = \"Meses\",\r\n",
    "       ylabel = \"Precio\\n($)\")\r\n",
    "\r\n",
    "\r\n",
    "plt.show()"
   ],
   "outputs": [],
   "metadata": {}
  },
  {
   "cell_type": "markdown",
   "source": [
    "### Guardar figuras como imagenes\n",
    "\n",
    "La función de Matplotlib `savefig` se usa para guardar imagenes en formato _.png_ :\n",
    "\n",
    "__Sintaxis:__\n",
    "\n",
    ">```\n",
    ">plt.savefig(\"path/NombreDelArchivo.png\")\n",
    ">```\n",
    "\n",
    "\n",
    "__Ejemplo:__ Ejemplo del precio del cafe, donde implemento multiples gráficas y asignación de color usando `cmap`"
   ],
   "metadata": {}
  },
  {
   "cell_type": "code",
   "execution_count": null,
   "source": [
    "fig, (ax1, ax2) = plt.subplots(2, 1, figsize=(12, 12))\r\n",
    "\r\n",
    "fig.suptitle(\"Precio mensual promedio\\n Café de Colombia\", fontsize = 16)\r\n",
    "\r\n",
    "# x e y \r\n",
    "ax1.bar(months, \r\n",
    "       coffe_monthly_price,\r\n",
    "       color = 'cyan', \r\n",
    "       edgecolor = 'darkblue')\r\n",
    "\r\n",
    "# \r\n",
    "ax1.set(title = \"Gráfica de barras\",\r\n",
    "       xlabel = \"Meses\",\r\n",
    "       ylabel = \"Precio\\n($)\");\r\n",
    "\r\n",
    "# Le doy color a los puntos segun su posición usando cmap\r\n",
    "ax2.scatter(months, \r\n",
    "        coffe_monthly_price,\r\n",
    "        c = coffe_monthly_price,\r\n",
    "        cmap = 'YlGnBu')\r\n",
    "\r\n",
    "# \r\n",
    "ax2.set(title = \"Gráfica de dispersión\",\r\n",
    "       xlabel = \"Meses\",\r\n",
    "       ylabel = \"Precio\\n($)\")\r\n",
    "\r\n",
    "plt.savefig(\"Precio_mensual_promedio_Cafe_Colombia.png\")\r\n",
    "\r\n",
    "plt.show()"
   ],
   "outputs": [],
   "metadata": {}
  },
  {
   "cell_type": "markdown",
   "source": [
    "Es posible usar `plt.axes()` como sustituto de `plt.subplot()` si se quiere dibujar gráficos que no tengan que tener una forma ‘regular’ dentro de la ventana. En este caso si se quiere borrar el área del gráfico podemos usar plt.delaxes().\n",
    "También se puede hacer que no aparezca la ‘caja’ donde se dibuja el gráfico con `plt.box(False)` o si no hay ‘caja’ y queremos que aparezca podemos llamar a plt.box() y volver a hacer aparecer la ‘caja’. Otra cosa de utilidad es colocar una rejilla en el gráfico mediante plt.grid().\n",
    "\n",
    "__Nota:__ Se pueden hacer también axes polares con `plt.axes( polar = True)`, rejillas para polares con `plt.rgrid()` y `plt.thetagrids()`\n",
    "\n",
    "Matplotlib dibuja los ejes tal que se ajusten al gráfico pero si eso no es lo que nos interese en algún momento, entonces se puede hacer uso de `plt.axis()`. Esta Nos permite definir la longitud de los ejes, si queremos que aparezcan los mismos, si queremos que estos estén escalados,... Si solo nos interesa configurar uno de los ejes y dejar que el otro lo maneje matplotlib podemos usar `plt.xlim()`, `plt.xscale()`, `plt.ylim()` y `plt.yscale()`.\n",
    "\n",
    "Si queremos dejar el eje x o el eje y con escala logarítmica podemos usar, respectivamente, `plt.semilogx()` o `plt.semilogy()`. Podemos dibujar un segundo eje x o un segundo eje y usando `plt.twinx()` o `plt.twiny`, respectivamente.\n",
    "También podemos establecer unos márgenes alrededor de los límites de los ejes usando `plt.margins()`. \n",
    "\n",
    "__Ejemplo:__ Este es un script completo"
   ],
   "metadata": {}
  },
  {
   "cell_type": "code",
   "execution_count": null,
   "source": [
    "import numpy as np\r\n",
    "import matplotlib.pyplot as plt\r\n",
    "#plt.ion()\r\n",
    "# Dibujamos una línea recta azul\r\n",
    "plt.plot(np.arange(100), 'b') \r\n",
    "# Ponemos etiqueta al eje x\r\n",
    "plt.xlabel('Valores de x')\r\n",
    "# Ponemos etiqueta al eje y\r\n",
    "plt.ylabel(u'Línea azul') \r\n",
    "# Creamos un segundo eje y\r\n",
    "plt.twinx() \r\n",
    "# Dibuja una exponencial de 0 a 5 con la y representada en el\r\n",
    "# segundo eje y\r\n",
    "plt.plot(np.exp(np.linspace(0,5,100)), 'g')\r\n",
    "# Ponemos etiqueta al segundo eje y\r\n",
    "plt.ylabel(u'Línea verde') \r\n",
    "# Limitamos los valores del eje x para que vayan desde -10 a 110\r\n",
    "plt.xlim(-10,110)"
   ],
   "outputs": [],
   "metadata": {}
  },
  {
   "cell_type": "markdown",
   "source": [
    "### Más allá de Matplotlib\n",
    "_Chaco_ es parte de __Enthought Tool-Suite__ (ETS) e implementa muchas herramientas y conceptos de visualización de datos en tiempo real y sus widgets correspondientes. Está disponible en todas las principales plataformas, también se mantiene activamente y está bien documentado. _Chaco_ está orientado al desarrollo de aplicaciones GUI, en lugar de la visualización de datos basada en scripts. Depende del paquete _Traitspackage_ que también está disponible en ETS y en el __Enthought Canopy__."
   ],
   "metadata": {}
  },
  {
   "cell_type": "code",
   "execution_count": null,
   "source": [],
   "outputs": [],
   "metadata": {}
  }
 ]
}