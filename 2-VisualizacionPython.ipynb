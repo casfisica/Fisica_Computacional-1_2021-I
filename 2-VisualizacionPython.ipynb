{
 "metadata": {
  "language_info": {
   "codemirror_mode": {
    "name": "ipython",
    "version": 3
   },
   "file_extension": ".py",
   "mimetype": "text/x-python",
   "name": "python",
   "nbconvert_exporter": "python",
   "pygments_lexer": "ipython3",
   "version": "3.9.2-final"
  },
  "orig_nbformat": 2,
  "kernelspec": {
   "name": "python3",
   "display_name": "Python 3.9.2 64-bit",
   "metadata": {
    "interpreter": {
     "hash": "ac59ebe37160ed0dfa835113d9b8498d9f09ceb179beaac4002f036b9467c963"
    }
   }
  }
 },
 "nbformat": 4,
 "nbformat_minor": 2,
 "cells": [
  {
   "cell_type": "markdown",
   "metadata": {},
   "source": [
    "# Numpy y MatPlotLib \n",
    "\n",
    "Una de las grandes ventajas de Python es la gran cantidad de librerías especializadas que tiene. En este documento veremos tres de las más relevantes en ciencias. \n",
    "\n",
    "## Numpy \n",
    "\n",
    "Las listas de Python son muy útiles, pero tienen algunas limitaciones. Las listas en Python no se comportan como elementos matemáticos i.e. vectores o matrices, luego el programador tiene, en principio, que crear estos nuevos objetos. Numpy tiene muchos de los elementos matemáticos que comúnmente usamos, y la mayoría de sus propiedades. \n",
    "\n",
    "  \n",
    "__Ejemplo:__ creemos un arreglo de arreglos (Matriz) usando listas de Python, y veamos si la podemos operar como lo haríamos con una Matriz "
   ]
  },
  {
   "cell_type": "code",
   "execution_count": null,
   "metadata": {},
   "outputs": [],
   "source": [
    "M=[[11,12] , [21,22]]"
   ]
  },
  {
   "cell_type": "code",
   "execution_count": null,
   "metadata": {
    "tags": []
   },
   "outputs": [],
   "source": [
    "#La representación\n",
    "print(\"M=\",M)\n",
    "#Elementos\n",
    "print(\"M[1,1]=\",M[0][0],\", M[1,2]=\",M[0][1],\", M[2,1]=\",M[1][0],\", M[2,2]=\",M[1][1])\n",
    "#Suma\n",
    "print(\"M+M=\",M+M)\n",
    "#Multiplicación por un escalar (si se pone un float da error)\n",
    "print(\"4M=\",4*M)\n",
    "#Multiplicación \n",
    "print(\"M*M=\",M*M)"
   ]
  },
  {
   "cell_type": "markdown",
   "metadata": {},
   "source": [
    "__Ejemplo:__ Intentemos algo similar usando arreglos de numpy"
   ]
  },
  {
   "cell_type": "code",
   "execution_count": null,
   "metadata": {
    "tags": []
   },
   "outputs": [],
   "source": [
    "# Importamos numpy y le damos un sobrenombre np\n",
    "import numpy as np\n",
    "# Usamos el mismo arreglo anterior para inicializar el arreglo de numpy\n",
    "M = np.matrix(\n",
    "    [\n",
    "        [11,12],\n",
    "        [21,22]\n",
    "    ]\n",
    "    )\n",
    "#La representación\n",
    "print(\"M=\")\n",
    "print(M)\n",
    "#Elementos, note que se usa la notación M[F,C]\n",
    "print(\"M[1,1]=\",M[0,0],\", M[1,2]=\",M[0,1],\", M[2 1]=\",M[1,0],\", M[2,2]=\",M[1,1])\n",
    "#Suma\n",
    "print(\"M+M=\")\n",
    "print(M+M)\n",
    "#Multiplicación por un escalar\n",
    "print(\"1.5*M=\")\n",
    "print(1.5*M)\n",
    "#Multiplicación por entrada\n",
    "print(\"M*M=\")\n",
    "print(M*M)\n",
    "#producto punto (escalar)\n",
    "print(\"M.M=\")\n",
    "print(np.dot(M,M))\n",
    "#producto cruz\n",
    "print(\"MxM=\")\n",
    "print(np.cross(M,M))"
   ]
  },
  {
   "cell_type": "markdown",
   "metadata": {},
   "source": [
    "__Nota:__ Lo anterior se puede hacer con arreglos de numpy, pero se debe de tener en cuenta que el producto interno de matrices está definido para objetos matrices y para arreglos se debe de especificar el método `.dot`.\n",
    "\n",
    "\n",
    "También están casi todas las operaciones más comunes sobre matrices. \n",
    " \n",
    "\n",
    "__Ejemplos:__ Determinantes, transposición, inversa, autovalores ... "
   ]
  },
  {
   "cell_type": "code",
   "execution_count": null,
   "metadata": {
    "tags": []
   },
   "outputs": [],
   "source": [
    "#Transpuesta\n",
    "print(\"MT=\")\n",
    "print(np.transpose(M))\n",
    "#Inverza\n",
    "print(\"M-1=\")\n",
    "print(np.invert(M))\n",
    "#Determinante\n",
    "print(\"det(M)=\")\n",
    "print(np.linalg.det(M))\n",
    "#Autovalores\n",
    "print(\"lamda(M)=\")\n",
    "print(np.linalg.eigvals(M))\n",
    "#Autovectores\n",
    "print(\"AutoVec(M)=\")\n",
    "print(np.linalg.eig(M))"
   ]
  },
  {
   "source": [
    "### Uso de memoria con Numpy\n",
    "Numpy proporciona especifcación de arregols de tamaño de bytes en Python. \n",
    "\n",
    "__Ejemplo:__ \n",
    "a continuación creamos una vector de tres números, cada uno de cuatro bytes de longitud (32 bits) como se muestra en la propiedad *itemize*. La primera línea importa Numpy como `np`, que es la convención recomendada. La siguiente línea crea un arreglo de números float de 32 bits. La propiedad *itemize* muestra el número de bytes por elemento."
   ],
   "cell_type": "markdown",
   "metadata": {}
  },
  {
   "cell_type": "code",
   "execution_count": null,
   "metadata": {},
   "outputs": [],
   "source": [
    "import numpy as np # convención recommendada\n",
    "#Creo vector x de punto flotante de 32 bits\n",
    "x = np.array([1,2,3],dtype=np.float32)\n",
    "x.itemsize"
   ]
  },
  {
   "cell_type": "markdown",
   "metadata": {},
   "source": [
    "Una ventaja de numpy sobre otras librerías numéricas en pthon es el uso del paquete de algebra lineal escrito en `Fortran` _LINPACK_, que es mucho más rápido que cualquier implementación hecha en python directamente. Otra ventaja que tienen los arreglos de numpy, es que son interpretados naturalmente por las funciones dentro de numpy, luego una función que calcula algo sobre un numero, si se le pasa un arreglo de numpy, entrega un arreglo de resultados.\n",
    "\n",
    "__Ejemplo:__ Calculemos coseno de un arreglo de numpy"
   ]
  },
  {
   "cell_type": "code",
   "execution_count": null,
   "metadata": {
    "tags": []
   },
   "outputs": [],
   "source": [
    "#Numpy también tiene constantes matemáticas incluidas \n",
    "Pi=np.pi    #Uso el pi de numpy\n",
    "x=np.array([Pi/2,Pi/4,Pi/6,Pi/8,Pi/10])\n",
    "print(np.cos(x))"
   ]
  },
  {
   "cell_type": "markdown",
   "metadata": {},
   "source": [
    "En el caso de ecuaciones lineales, numpy tiene herramientas que pueden llegar a ser muy útiles\n",
    "\n",
    "__Ejemplo:__ Si tenemos un sistema de ecuaciones cuya solución está dado por el $Mx=b$ donde $b=[0,1,2,6]$ y $M=[[1,2,2,3],[1,1,1,2],[2,3,4,5],[1,2,3,4]]$. Se puede encontrar la solución usando `linalg.solve() ` "
   ]
  },
  {
   "cell_type": "code",
   "execution_count": null,
   "metadata": {
    "tags": []
   },
   "outputs": [],
   "source": [
    "#Defino el la matriz\n",
    "M=np.array([[1,2,2,3],[1,1,1,2],[2,3,4,5],[1,2,3,4]])\n",
    "#Defino el vector\n",
    "b=np.array([0,1,2,6])\n",
    "#asigno el vector x que soluciona el sistema de ecuaciones\n",
    "x= np.linalg.solve(M,b)\n",
    "print(x)"
   ]
  },
  {
   "cell_type": "markdown",
   "metadata": {},
   "source": [
    "Otras funciones interesantes en _Numpy_ son:\n",
    "> - `arange(inicio, final, separacion)`: Similar a `range()` pero entrega un arreglo de numpy, y su paso no tiene que ser entero\n",
    "> - `linspace(inicio, final, npuntos)`: Crea arreglos linearmente espaciados,\n",
    "> - `logspace(inicio, final, npuntos)`: Crea arreglos logaritmicamente espaciados.\n",
    "> - `zeros([npuntos])`: Entrega arreglos de ceros, y se puede espesificar el tipo de dato i.e. float, int u otro. _npuntos_ puede ser un arreglo\n",
    "> - `ones([npuntos])`: como _zeros_ pero con unos\n",
    "\n",
    "__Ejemplos:__ Veamos un ejemplo de cada uno de estas funciones"
   ]
  },
  {
   "cell_type": "code",
   "execution_count": null,
   "metadata": {
    "tags": []
   },
   "outputs": [],
   "source": [
    "# arreglo de 0 a 2 con pasos de 0.3\n",
    "print(np.arange(0, 2, 0.3))"
   ]
  },
  {
   "cell_type": "code",
   "execution_count": null,
   "metadata": {
    "tags": []
   },
   "outputs": [],
   "source": [
    "# Rango linearmente espaciado de 0 a 100 con 11 puntos\n",
    "print(np.linspace(0, 100, 11))"
   ]
  },
  {
   "cell_type": "code",
   "execution_count": null,
   "metadata": {
    "tags": []
   },
   "outputs": [],
   "source": [
    "# Rango logaritmicamente espaciado de 1 a 100 con 10 puntos\n",
    "print(np.logspace(1, 100, 11))"
   ]
  },
  {
   "cell_type": "code",
   "execution_count": null,
   "metadata": {
    "tags": []
   },
   "outputs": [],
   "source": [
    "# matriz de 3x5 de ceros enteros\n",
    "print(np.zeros([3,5]),int)"
   ]
  },
  {
   "cell_type": "code",
   "execution_count": null,
   "metadata": {
    "tags": []
   },
   "outputs": [],
   "source": [
    "# matriz de 5x3 de unos de texto\n",
    "print(np.ones([5,3]), str)"
   ]
  },
  {
   "source": [
    "### Iterando en NumPy\n",
    "\n",
    "El paquete NumPy contiene un objeto iterador `numpy.nditer`. Este objeto iterador multidimensional mediante el cual es posible iterar sobre cualquier arreglo de NumPy. Cada elemento de una matriz se visita mediante la interfaz Iterator estándar de Python.\n",
    "\n",
    "__Ejemplo:__ Creemos una matriz 3X4 usando la función `arange()` e iteremos sobre ella usando `nditer`."
   ],
   "cell_type": "markdown",
   "metadata": {}
  },
  {
   "cell_type": "code",
   "execution_count": null,
   "metadata": {},
   "outputs": [],
   "source": [
    "import numpy as np\n",
    "a = np.arange(0,60,5)\n",
    "# reshape Da una nueva forma a un arreglo sin cambiar sus datos\n",
    "a = a.reshape(3,4)\n",
    "\n",
    "print(\"El arreglo se ve como:\")\n",
    "print(a)\n",
    "print('\\n')\n",
    "\n",
    "print(\"Antes de modificarlo:\")\n",
    "for x in np.nditer(a):\n",
    "   print(x,end=\",\")"
   ]
  },
  {
   "source": [
    "#### Orden de iteración\n",
    "Si los mismos elementos se almacenan usando un orden diferente, el iterador elige la forma más eficiente de iterar sobre una matriz."
   ],
   "cell_type": "markdown",
   "metadata": {}
  },
  {
   "cell_type": "code",
   "execution_count": null,
   "metadata": {},
   "outputs": [],
   "source": [
    "import numpy as np\n",
    "a = np.arange(0,60,5)\n",
    "a = a.reshape(3,4)\n",
    "\n",
    "print(\"El arreglo se ve como:\")\n",
    "print(a)\n",
    "print('\\n')\n",
    "   \n",
    "print(\"Transpuesto\")\n",
    "b = a.T\n",
    "print(b)\n",
    "print(\"\\n\")\n",
    "\n",
    "print(\"estilo de C:\")\n",
    "c = b.copy(order = 'C')\n",
    "print(c)\n",
    "for x in np.nditer(c):\n",
    "   print(x,end=\",\")\n",
    "print('\\n')\n",
    "\n",
    "print(\"Estilo de Fortran\")\n",
    "c = b.copy(order = 'F')\n",
    "print(c)\n",
    "for x in np.nditer(c):\n",
    "   print(x,end=\",\")"
   ]
  },
  {
   "source": [
    "## Un paso adelante de Numpy\n",
    "\n",
    "Blaze se considera la próxima generación de Numpy y generaliza la semántica de Numpy para conjuntos de datos muy grandes que existen en una variedad de sistemas de archivos backend.\n",
    "Esto significa que Blaze está diseñado para manejar fuera del núcleo (es decir, demasiado grande para caber en la memoria RAM de una sola estación de trabajo) manipulaciones de datos y cálculos utilizando las familiares operaciones de Numpy"
   ],
   "cell_type": "markdown",
   "metadata": {}
  },
  {
   "cell_type": "markdown",
   "metadata": {},
   "source": [
    "## Gráficas con Python\n",
    "\n",
    "Existen un gran número de módulos para Python que facilitan la creación de gráficas. Nosotros nos concentramos en uno de los más básicos y poderosos llamado _matplotlib_.\n",
    "\n",
    "Como todos los grandes proyectos de código abierto, se originó para satisfacer una necesidad personal. En el momento de sus inicios, _John Hunter_ (lamentablemente falleció en 2012) usó principalmente _Matlab_ para la visualización científica, pero como él comenzó a integrar datos de fuentes dispares usando Python, se dio cuenta de que necesitaba una solución de Python para visualización, por lo que él solo escribió _Matplotlib_.\n",
    "\n",
    "John tenía algunos requisitos básicos para Matplotlib:\n",
    "\n",
    "- Los gráficos deben verse con calidad de publicación con un texto hermoso.\n",
    "- Los gráficos deben generar Postscript para su inclusión en documentos LATEX y publicaciones.\n",
    "- Impresión de calidad.\n",
    "- Los gráficos deben poder integrarse en una interfaz gráfica de usuario (GUI) para aplicaciones de desarrollo.\n",
    "- El código debe ser principalmente Python para permitir que los usuarios se conviertan en desarrolladores.\n",
    "- Los gráficos deben ser fáciles de hacer con solo unas pocas líneas de código para gráficos simples.\n",
    "\n",
    "Mientras Matplotlib contiene modulos con muchas funcionalidades para graficar, el módulo mas usado es _pyplot_. Pyplot contiene metodos que se usan en los diferentes componentes de los objetos `figure` (más adelante hablaremos de esto).\n",
    "\n",
    "Primero es necesario importarlo"
   ]
  },
  {
   "cell_type": "code",
   "execution_count": null,
   "metadata": {
    "tags": []
   },
   "outputs": [],
   "source": [
    "import matplotlib.pyplot as plt #Convención recomendada"
   ]
  },
  {
   "cell_type": "markdown",
   "metadata": {},
   "source": [
    "Matplotlib está construido sobre el paradigma de orientación a objetos. Esto significa que las gráficas se construyen paso a paso, y se pueden agregar elementos a la gráficas.\n",
    "\n",
    "`figure` es lo que se llama comunmente _canvas_(lienzo), mientras que `axes` es cada uno de los dibujos que se hacen en el lienzo. Luego un objeto `figure` puede contener varios objetos `axes`. \n",
    "\n",
    "Las dos zonas principales donde se dibujaran o sobre las que se interactuará serán:\n",
    "- __figure:__ Es una instancia de matplotlib.figure.Figure. Y es la ventana donde irá el o los gráficos en sí.\n",
    "\n",
    "___Sintaxis:___\n",
    "\n",
    "> ```python\n",
    "> plt.figure \n",
    "> ```\n",
    "\n",
    "- ___axes:___ Es una instancia de `matplotlib.axes.Axes`, que es el gráfico en sí donde se dibujará todo lo que le digamos y está localizada dentro de una figure\n",
    "___Sintaxis:___\n",
    "\n",
    "> ```python\n",
    "> plt.axes \n",
    "> ```\n",
    "\n",
    "Se puede usar la función `subplots()` para crear ambas\n",
    "\n",
    ">```\n",
    "> # creo un objeto figure y otro axis llamados fig y ax \n",
    "> fig, ax = plt.subplots()\n",
    ">```\n",
    "\n",
    "__Ejemplo:__ creemos una figure y un axis y grafiquemos una simple lista de python"
   ]
  },
  {
   "cell_type": "code",
   "execution_count": null,
   "metadata": {},
   "outputs": [],
   "source": [
    "# Crea figure y un plot (objeto axis) \n",
    "fig, ax = plt.subplots()"
   ]
  },
  {
   "cell_type": "markdown",
   "metadata": {},
   "source": [
    "__Nota:__ Si la gráfica no se muestrá, tenga en cuenta que se va a necesitar es que la sesión esté en modo interactivo, esto es: que cada que se realice un cambio en ésta, se muestre automáticamente. Para saber si se está en modo interactivo se usa `plt.isinteractive()`. Si el resultado de ejecutar esta linea es `False` entonces tiene el modo interactivo desactivado. Para cambiar de modo interactivo de a activo se usa `plt.ion()` y para regresar al modo interactivo apagado se usa `plt.ioff()`."
   ]
  },
  {
   "cell_type": "code",
   "execution_count": null,
   "metadata": {},
   "outputs": [],
   "source": [
    "#Cambiemos el tamaño usando el atributo figsize\n",
    "fig, ax = plt.subplots(figsize=(8,5))"
   ]
  },
  {
   "cell_type": "markdown",
   "metadata": {},
   "source": [
    "### Multiples gráficas\n",
    "\n",
    "Cuando se quiere maás de una gráfica en una figura, se tienen que crear varios objetos `axis` con diferentes nombres (como ax1, ax2, ...),y así se puede trabajar en cada uno de ellos de forma individual. Para esto se debe de decirle a la función subplots el número de filas y columnas que se desean.\n",
    "\n",
    ">```\n",
    ">plt.subplots(nfilas, ncolumnas)\n",
    ">```\n",
    "\n",
    "__Ejemplo:__ Una figura, con dos gráficas, distribuidas en una fila y dos columnas"
   ]
  },
  {
   "cell_type": "code",
   "execution_count": null,
   "metadata": {},
   "outputs": [],
   "source": [
    "# Figure con dos plots\n",
    "# dentro de la tupla se asignan los axis\n",
    "fig, (ax1, ax2) = plt.subplots(1, 2, figsize = (8, 5))"
   ]
  },
  {
   "cell_type": "code",
   "execution_count": null,
   "metadata": {},
   "outputs": [],
   "source": [
    "# Figure con tres plots\n",
    "fig, (ax1, ax2, ax3) = plt.subplots(3, 1, figsize = (10, 10))"
   ]
  },
  {
   "cell_type": "markdown",
   "metadata": {},
   "source": [
    "### Graficando Datos\n",
    "\n",
    "Los datos pueden ser graficado llamando el objeto `axis`, junto con el método `plot()` y espesificando los argumentos de los ejes \"x\" y \"y\".\n",
    "\n",
    "__Ejemplo:__ "
   ]
  },
  {
   "cell_type": "code",
   "execution_count": null,
   "metadata": {},
   "outputs": [],
   "source": [
    "# Precio del cafe \n",
    "coffe_monthly_price = [0.8, 0.75, 1.05, 1.03, 0.95, 1.02, \n",
    "                          1.23, 1.32, 1.44, 1.31, 1.59, 1.84]\n",
    "# Meses del año\n",
    "months = [\"Ene\", \"Feb\", \"Mar\", \"Abr\", \"May\", \"Jun\", \"Jul\", \n",
    "          \"Ago\", \"Sep\", \"Oct\", \"Nov\", \"Dic\"]\n",
    "\n",
    "# Definimos figura y grafica\n",
    "fig, ax = plt.subplots(figsize=(10, 6))\n",
    "\n",
    "# Graficamos los datos\n",
    "ax.plot(months,\n",
    "        coffe_monthly_price)\n",
    "#Para esconder [<matplotlib.lines.Line2D at 0x7f65018db1c0>]\n",
    "#plt.show()"
   ]
  },
  {
   "cell_type": "markdown",
   "metadata": {},
   "source": [
    "### Otros tipos de gráficas \"Dispersión\" y \"Barras\"\n",
    "\n",
    "Los gráficos de pyplot son por defecto puntos conectados por lineas (line plots). Se pueden usar otros tipos de gráficos muy útiles, como son las barras y la dispersión (bar plots y scatter plots).\n",
    "\n",
    "__Ejemplo:__ usemos el mismo ejemplo anterior pero con estos diferentes tipos de gráficas."
   ]
  },
  {
   "cell_type": "code",
   "execution_count": null,
   "metadata": {},
   "outputs": [],
   "source": [
    "fig, ax = plt.subplots(figsize=(10, 6))\n",
    "\n",
    "# Creo el scatter plot\n",
    "ax.scatter(months, \n",
    "           coffe_monthly_price)\n",
    "\n",
    "plt.show()"
   ]
  },
  {
   "cell_type": "code",
   "execution_count": null,
   "metadata": {},
   "outputs": [],
   "source": [
    "fig, ax = plt.subplots(figsize=(10, 6))\n",
    "\n",
    "# Creo bar plot\n",
    "ax.bar(months, \n",
    "       coffe_monthly_price)\n",
    "\n",
    "plt.show()"
   ]
  },
  {
   "cell_type": "markdown",
   "metadata": {},
   "source": [
    "### Modificar características de los lienzos y las gráficas.\n",
    "\n",
    "Se pueden modificar las características de muchos objetos de matplotlib. Por ejemplo se pueden añadir más información a la grafica por medio de el aributo `title` o `labels`, tambíen para los ejes coordenados `xlabel` y `ylabel` usando el método `ax.set()`.\n",
    "\n",
    "__Ejemplo:__ "
   ]
  },
  {
   "cell_type": "code",
   "execution_count": null,
   "metadata": {},
   "outputs": [],
   "source": [
    "# Usamos algunas funciones de numpy\n",
    "from numpy import linspace,sin\n",
    "# creamos un vector de 100 componentes que va desde 0 hats 10\n",
    "x = linspace(0,10,100)\n",
    "# Usamos este vector para crear otro del la función seno de 0 a 10\n",
    "y = sin(x)\n",
    "\n",
    "# Se define el plot\n",
    "fig, ax = plt.subplots(figsize=(10, 6))\n",
    "\n",
    "# los valores de x e y\n",
    "ax.plot(x, y)\n",
    "\n",
    "# Se ponen titulo y nombre de los ejes\n",
    "ax.set(title = \"Función seno de 0 a 10\",\n",
    "       xlabel = \"eje \\nx\",\n",
    "       ylabel = \"eje \\ny\")\n",
    "\n",
    "plt.show()\n",
    "#show()"
   ]
  },
  {
   "cell_type": "markdown",
   "metadata": {},
   "source": [
    "### Cambiar el tipo de Marcador en la gráfica \n",
    "\n",
    "Para los plots lineales y de dispersión es posible cambiar el tipo de punto que se usa, con el argumento `marker=simbolo`. Algunos de los marcadores disponibles:\n",
    "\n",
    "| Simbolo    |    descripción del Marker|\n",
    "|------------|-----------------------|\n",
    "|   .        |\t   punto\n",
    "|   ,        |\t   pixel\n",
    "|   o        |\t   circulo\n",
    "|   v        |\t   trianglo abajo\n",
    "|   ^        |\t   trianglo arriva\n",
    "|   <        |\t   trianglo izquierda\n",
    "|   >        |\t   trianglo derecha\n",
    "\n",
    "__Ejemplo:__ Usando de nuevo el ejemplo del seno modificamos los marcadores"
   ]
  },
  {
   "cell_type": "code",
   "execution_count": null,
   "metadata": {},
   "outputs": [],
   "source": [
    "# Usamos algunas funciones de numpy\n",
    "from numpy import linspace,sin\n",
    "# creamos un vector de 50 componentes que va desde 0 hats 10\n",
    "x = linspace(0,10,50)\n",
    "# Usamos este vector para crear otro del la función seno de 0 a 10\n",
    "y = sin(x)\n",
    "\n",
    "# Se define el plot\n",
    "fig, ax = plt.subplots(figsize=(10, 6))\n",
    "\n",
    "# los valores de x e y. Marcador \n",
    "ax.plot(x, y, marker = '<')\n",
    "\n",
    "# Se ponen titulo y nombre de los ejes\n",
    "ax.set(title = \"Función seno de 0 a 10\",\n",
    "       xlabel = \"x\",\n",
    "       ylabel = \"y\")\n",
    "\n",
    "plt.show()\n",
    "#show()"
   ]
  },
  {
   "cell_type": "markdown",
   "metadata": {},
   "source": [
    "### Cambiar colores de los plots\n",
    "\n",
    "Usando el argumento `color` se puede cambiar el color de las gráficas y de los bordes con `edgecolor`. Algunos de los colores:\n",
    "\n",
    "    b: blue\n",
    "    g: green\n",
    "    r: red\n",
    "    c: cyan\n",
    "    m: magenta\n",
    "    y: yellow\n",
    "    k: black\n",
    "    w: white\n",
    "\n",
    "También se puede cambiar la transparencia de dichos colores con el argumento `alpha`\n",
    "\n",
    "__Ejemplo:__ Volviendo al ejemplo del precio del café"
   ]
  },
  {
   "cell_type": "code",
   "execution_count": null,
   "metadata": {},
   "outputs": [],
   "source": [
    "fig, ax = plt.subplots(figsize=(10, 6))\n",
    "\n",
    "# Creo bar plot, y cambio el color y asigno transparencia\n",
    "ax.bar(months, \n",
    "       coffe_monthly_price,\n",
    "       color = 'darkblue',\n",
    "       edgecolor = 'red',\n",
    "       alpha = 0.4)\n",
    "\n",
    "coffe_monthly_price2= np.array(coffe_monthly_price)/2\n",
    "\n",
    "ax.plot(months, \n",
    "       coffe_monthly_price2,\n",
    "       color = 'yellow')\n",
    "\n",
    "ax.set(title = \"Precio mensual promedio\\n Café de Colombia\",\n",
    "       xlabel = \"Meses\",\n",
    "       ylabel = \"Precio\\n($)\")\n",
    "\n",
    "\n",
    "plt.show()"
   ]
  },
  {
   "cell_type": "markdown",
   "metadata": {},
   "source": [
    "### Guardar figuras como imagenes\n",
    "\n",
    "La función de Matplotlib `savefig` se usa para guardar imagenes en formato _.png_ :\n",
    "\n",
    "__Sintaxis:__\n",
    "\n",
    ">```\n",
    ">plt.savefig(\"path/NombreDelArchivo.png\")\n",
    ">```\n",
    "\n",
    "\n",
    "__Ejemplo:__ Ejemplo del precio del cafe, donde implemento multiples gráficas y asignación de color usando `cmap`"
   ]
  },
  {
   "cell_type": "code",
   "execution_count": null,
   "metadata": {},
   "outputs": [],
   "source": [
    "fig, (ax1, ax2) = plt.subplots(2, 1, figsize=(12, 12))\n",
    "\n",
    "fig.suptitle(\"Precio mensual promedio\\n Café de Colombia\", fontsize = 16)\n",
    "\n",
    "# x e y \n",
    "ax1.bar(months, \n",
    "       coffe_monthly_price,\n",
    "       color = 'cyan', \n",
    "       edgecolor = 'darkblue')\n",
    "\n",
    "# \n",
    "ax1.set(title = \"Gráfica de barras\",\n",
    "       xlabel = \"Meses\",\n",
    "       ylabel = \"Precio\\n($)\");\n",
    "\n",
    "# Le doy color a los puntos segun su posición usando cmap\n",
    "ax2.scatter(months, \n",
    "        coffe_monthly_price,\n",
    "        c = coffe_monthly_price,\n",
    "        cmap = 'YlGnBu')\n",
    "\n",
    "# \n",
    "ax2.set(title = \"Gráfica de dispersión\",\n",
    "       xlabel = \"Meses\",\n",
    "       ylabel = \"Precio\\n($)\")\n",
    "\n",
    "plt.savefig(\"Precio_mensual_promedio_Cafe_Colombia.png\")\n",
    "\n",
    "plt.show()"
   ]
  },
  {
   "cell_type": "markdown",
   "metadata": {},
   "source": [
    "Es posible usar `plt.axes()` como sustituto de `plt.subplot()` si se quiere dibujar gráficos que no tengan que tener una forma ‘regular’ dentro de la ventana. En este caso si se quiere borrar el área del gráfico podemos usar plt.delaxes().\n",
    "También se puede hacer que no aparezca la ‘caja’ donde se dibuja el gráfico con `plt.box(False)` o si no hay ‘caja’ y queremos que aparezca podemos llamar a plt.box() y volver a hacer aparecer la ‘caja’. Otra cosa de utilidad es colocar una rejilla en el gráfico mediante plt.grid().\n",
    "\n",
    "__Nota:__ Se pueden hacer también axes polares con `plt.axes( polar = True)`, rejillas para polares con `plt.rgrid()` y `plt.thetagrids()`\n",
    "\n",
    "Matplotlib dibuja los ejes tal que se ajusten al gráfico pero si eso no es lo que nos interese en algún momento, entonces se puede hacer uso de `plt.axis()`. Esta Nos permite definir la longitud de los ejes, si queremos que aparezcan los mismos, si queremos que estos estén escalados,... Si solo nos interesa configurar uno de los ejes y dejar que el otro lo maneje matplotlib podemos usar `plt.xlim()`, `plt.xscale()`, `plt.ylim()` y `plt.yscale()`.\n",
    "\n",
    "Si queremos dejar el eje x o el eje y con escala logarítmica podemos usar, respectivamente, `plt.semilogx()` o `plt.semilogy()`. Podemos dibujar un segundo eje x o un segundo eje y usando `plt.twinx()` o `plt.twiny`, respectivamente.\n",
    "También podemos establecer unos márgenes alrededor de los límites de los ejes usando `plt.margins()`. \n",
    "\n",
    "__Ejemplo:__ Este es un script completo"
   ]
  },
  {
   "cell_type": "code",
   "execution_count": null,
   "metadata": {},
   "outputs": [],
   "source": [
    "import numpy as np\n",
    "import matplotlib.pyplot as plt\n",
    "#plt.ion()\n",
    "# Dibujamos una línea recta azul\n",
    "plt.plot(np.arange(100), 'b') \n",
    "# Ponemos etiqueta al eje x\n",
    "plt.xlabel('Valores de x')\n",
    "# Ponemos etiqueta al eje y\n",
    "plt.ylabel(u'Línea azul') \n",
    "# Creamos un segundo eje y\n",
    "plt.twinx() \n",
    "# Dibuja una exponencial de 0 a 5 con la y representada en el\n",
    "# segundo eje y\n",
    "plt.plot(np.exp(np.linspace(0,5,100)), 'g')\n",
    "# Ponemos etiqueta al segundo eje y\n",
    "plt.ylabel(u'Línea verde') \n",
    "# Limitamos los valores del eje x para que vayan desde -10 a 110\n",
    "plt.xlim(-10,110)"
   ]
  },
  {
   "source": [
    "### Más allá de Matplotlib\n",
    "_Chaco_ es parte de __Enthought Tool-Suite__ (ETS) e implementa muchas herramientas y conceptos de visualización de datos en tiempo real y sus widgets correspondientes. Está disponible en todas las principales plataformas, también se mantiene activamente y está bien documentado. _Chaco_ está orientado al desarrollo de aplicaciones GUI, en lugar de la visualización de datos basada en scripts. Depende del paquete _Traitspackage_ que también está disponible en ETS y en el __Enthought Canopy__."
   ],
   "cell_type": "markdown",
   "metadata": {}
  },
  {
   "cell_type": "code",
   "execution_count": null,
   "metadata": {},
   "outputs": [],
   "source": []
  }
 ]
}