{
 "metadata": {
  "language_info": {
   "codemirror_mode": {
    "name": "ipython",
    "version": 3
   },
   "file_extension": ".py",
   "mimetype": "text/x-python",
   "name": "python",
   "nbconvert_exporter": "python",
   "pygments_lexer": "ipython3",
   "version": 3
  },
  "orig_nbformat": 2
 },
 "nbformat": 4,
 "nbformat_minor": 2,
 "cells": [
  {
   "source": [
    "## scipy.interpolate\tInterpolation\n",
    "## scipy.io\tData input and output\n",
    "## scipy.linalg\tLinear algebra routines\n",
    "## scipy.ndimage\tn-dimensional image package\n",
    "## scipy.odr\tOrthogonal distance regression\n",
    "## scipy.optimize\tOptimization\n",
    "## scipy.signal\tSignal processing\n",
    "## scipy.sparse\tSparse matrices\n",
    "## scipy.spatial\tSpatial data structures and algorithms\n",
    "## scipy.special\tAny special mathematical functions\n",
    "## scipy.stats\tStatistics"
   ],
   "cell_type": "markdown",
   "metadata": {}
  },
  {
   "cell_type": "code",
   "execution_count": null,
   "metadata": {},
   "outputs": [],
   "source": []
  }
 ]
}