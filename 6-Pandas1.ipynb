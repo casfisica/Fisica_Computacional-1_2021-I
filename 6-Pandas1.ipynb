{
 "metadata": {
  "language_info": {
   "codemirror_mode": {
    "name": "ipython",
    "version": 3
   },
   "file_extension": ".py",
   "mimetype": "text/x-python",
   "name": "python",
   "nbconvert_exporter": "python",
   "pygments_lexer": "ipython3",
   "version": "3.9.2"
  },
  "orig_nbformat": 2,
  "kernelspec": {
   "name": "python392jvsc74a57bd0ac59ebe37160ed0dfa835113d9b8498d9f09ceb179beaac4002f036b9467c963",
   "display_name": "Python 3.9.2 64-bit"
  },
  "metadata": {
   "interpreter": {
    "hash": "ac59ebe37160ed0dfa835113d9b8498d9f09ceb179beaac4002f036b9467c963"
   }
  }
 },
 "nbformat": 4,
 "nbformat_minor": 2,
 "cells": [
  {
   "source": [
    "# Pandas 1\n",
    "es un paquete de código abierto para Python que contiene herramientas de análisis y manipulación de datos de alto desempeño ampliamente utilizada.\n",
    "A diferencia de `NumPy`, su estructura de datos básica similar a una matriz, el objeto `DataFrame`, puede contener\n",
    "tipos de datos heterogéneos (foats, enteros, cadenas, fechas, etc.) que pueden estructurarse en una jerarquía e indexada. Proporciona una gran cantidad de funciones vectorizadas para la limpieza, transformación y agregamiento de datos eficientemente utilizando modismos similares a los utilizados por `NumPy`. Su nombre deriva del término \"PANel DAta\", que se refiere a conjuntos de datos de varias variables seguidas durante varios períodos de tiempo.\n",
    "\n",
    "# Estructuras de dato de Pandas\n",
    "Actualmente _Pandas_ maneja tres tipos de estructuras de datos, construidos a partir de arreglos de numpy:\n",
    "- __Series__    : Arreglos unidimencionales, cuyo tamaño es inmutable.\n",
    "- __DataFrames__: Arreglo bidimencional, con tamaño mutable, se puede considerar un contenedor de _Series_.\n",
    "- __Panel:__    : Arreglo tridimencional, con tamaño mutale, se puede considerar un contenedor de _DataFrames_.\n",
    "\n",
    "## Series\n",
    "\n",
    "__Sintaxis:__\n",
    ">```\n",
    ">   pandas.Series( data, index, dtype, copy)\n",
    ">```\n",
    "\n",
    "Donde `data` pueden ser listas de python o arreglos de numpy o diccionarios. `index` es un identificador, por defecto se usa `np.arrange(n)`, `dtype` es el tipo de datos que contiene, que por defecto python lo infiere. `copy` si se copian los datos, por defecto _False_. Se suele pensar en las series de _Pandas_ como una columna de Exel (openOffice, LibreOffice), con el nombre de la fila (_index_).\n",
    "\n",
    "__Ejemplos:__ Creemos algunas series"
   ],
   "cell_type": "markdown",
   "metadata": {}
  },
  {
   "cell_type": "code",
   "execution_count": 1,
   "metadata": {
    "tags": []
   },
   "outputs": [
    {
     "output_type": "stream",
     "name": "stdout",
     "text": [
      "Serie Vacía\n",
      "Series([], dtype: float64)\n",
      "Serie de strings\n",
      "0    Camilo\n",
      "1    Andres\n",
      "2    Andrea\n",
      "3     Paula\n",
      "4    Carlos\n",
      "dtype: object\n",
      "a    21\n",
      "b    55\n",
      "c    31\n",
      "d    56\n",
      "e    90\n",
      "Name: Serie de Enteros, dtype: int32\n",
      "<ipython-input-1-cef14edbf8ad>:5: DeprecationWarning: The default dtype for empty Series will be 'object' instead of 'float64' in a future version. Specify a dtype explicitly to silence this warning.\n",
      "  empty_serie = pd.Series()#Genera un Warning\n"
     ]
    }
   ],
   "source": [
    "import numpy as np\n",
    "import pandas as pd\n",
    "\n",
    "# Un arreglo vacío\n",
    "empty_serie = pd.Series()#Genera un Warning\n",
    "print(\"Serie Vacía\")\n",
    "print(empty_serie)\n",
    "\n",
    "# Un arreglo de strings desde un arreglo de numpy\n",
    "#como no se paso index, entonces usa el default\n",
    "str_arr = np.array([\"Camilo\",\"Andres\",\"Andrea\",\"Paula\",\"Carlos\"])\n",
    "str_serie = pd.Series(str_arr)\n",
    "print(\"Serie de strings\")\n",
    "print(str_serie)\n",
    "\n",
    "# Un arreglo de enteros desde un diccionario\n",
    "#note que los indices cambiaron por las keys del diccionario\n",
    "#También le ponemos nombre\n",
    "int_dic = {'a':21,'b':55,'c':31,'d':56,'e':90}\n",
    "int_serie = pd.Series(int_dic, name=\"Serie de Enteros\",dtype=int)\n",
    "print(int_serie)"
   ]
  },
  {
   "source": [
    "Una vez construida la serie, se puede acceder a los datos de manera similar a los arreglos de numpy (narray), tambíen es posible recuperar los datos usando el índice (etiquetas en `index`). Tenga en cuenta que muchas veces estas dos formas van a coincidir (en el caso que se use el default)\n",
    "\n",
    "__Ejemplo:__ Varias formas de acceder a los datos de una serie\n"
   ],
   "cell_type": "markdown",
   "metadata": {}
  },
  {
   "cell_type": "code",
   "execution_count": 2,
   "metadata": {
    "tags": []
   },
   "outputs": [
    {
     "output_type": "stream",
     "name": "stdout",
     "text": [
      "int_serie[0]: 21 \n\nint_serie['a']: 21 \n\nint_serie[['a','b','d']]:\na    21\nb    55\nd    56\nName: Serie de Enteros, dtype: int32 \n\nint_serie[2::-1]:\nc    31\nb    55\na    21\nName: Serie de Enteros, dtype: int32 \n\nint_serie['d':'b':-1]:\nd    56\nc    31\nb    55\nName: Serie de Enteros, dtype: int32 \n\nint_serie.d:\n56 \n\n"
     ]
    }
   ],
   "source": [
    "# Imprimo el primer elemento de la lista usando:\n",
    "#usando la posición como en un narray\n",
    "print(\"int_serie[0]:\", int_serie[0],'\\n')\n",
    "#usando el indice (etiqueta o label)\n",
    "print(\"int_serie['a']:\", int_serie['a'],'\\n')\n",
    "#Y varios elementos\n",
    "print(\"int_serie[['a','b','d']]:\")\n",
    "print(int_serie[['a','b','d']],'\\n')\n",
    "#O usando el slicing [start:stop:step] de python\n",
    "print(\"int_serie[2::-1]:\")\n",
    "print(int_serie[2::-1],'\\n')\n",
    "#Inclusive con los indices\n",
    "print(\"int_serie['d':'b':-1]:\")\n",
    "print(int_serie['d':'b':-1],'\\n')\n",
    "#El identificador, se puede usar la etiqueta como identificador\n",
    "print(\"int_serie.d:\")\n",
    "print(int_serie.d,'\\n')"
   ]
  },
  {
   "source": [
    "### Operaciones numéricas.\n",
    "\n",
    "Por supuesto, es posible realizar operaciones numéricas sobre datos en serie, en un formato vectorizado como con las matrices NumPy\n",
    "\n",
    "__Ejemplo:__"
   ],
   "cell_type": "markdown",
   "metadata": {}
  },
  {
   "cell_type": "code",
   "execution_count": 3,
   "metadata": {},
   "outputs": [
    {
     "output_type": "stream",
     "name": "stdout",
     "text": [
      "Bogota          260\nCali            250\nLeticia         814\nBarranquilla    445\nQuibdo          140\nName: Distancia/Millas, dtype: int64 \n\nBogota           418.080\nCali             402.000\nLeticia         1308.912\nBarranquilla     715.560\nQuibdo           225.120\nName: Distancia/Km, dtype: float64\n"
     ]
    }
   ],
   "source": [
    "#Creamos una serie\n",
    "x_City_milles = pd.Series(data=[260,250,814,445,140]\n",
    "    ,index=['Bogota','Cali','Leticia','Barranquilla','Quibdo']\n",
    "    ,name='Distancia/Millas'\n",
    "    ,dtype=np.int64)\n",
    "\n",
    "print(x_City_milles,'\\n')\n",
    "\n",
    "millesToKm = 1.608\n",
    "#Multiplicamos como un vector de numpy\n",
    "x_City_Km = x_City_milles*millesToKm\n",
    "x_City_Km.name = 'Distancia/Km'\n",
    "print(x_City_Km)"
   ]
  },
  {
   "source": [
    "Las operaciones de comparación y el filtrado de una serie con una operación booleana crean un nuevo Serie\n",
    "\n",
    "__Ejemplo:__ encontrmos las ciudades que están más lejos de 500_Km_"
   ],
   "cell_type": "markdown",
   "metadata": {}
  },
  {
   "cell_type": "code",
   "execution_count": 4,
   "metadata": {},
   "outputs": [
    {
     "output_type": "execute_result",
     "data": {
      "text/plain": [
       "Bogota          False\n",
       "Cali            False\n",
       "Leticia          True\n",
       "Barranquilla     True\n",
       "Quibdo          False\n",
       "Name: Distancia/Km, dtype: bool"
      ]
     },
     "metadata": {},
     "execution_count": 4
    }
   ],
   "source": [
    "x_City_Km > 500"
   ]
  },
  {
   "cell_type": "code",
   "execution_count": 5,
   "metadata": {},
   "outputs": [
    {
     "output_type": "execute_result",
     "data": {
      "text/plain": [
       "Leticia         1308.912\n",
       "Barranquilla     715.560\n",
       "Name: Distancia/Km, dtype: float64"
      ]
     },
     "metadata": {},
     "execution_count": 5
    }
   ],
   "source": [
    "#Noten que se puede usar esta Serie de boleanos\n",
    "# para filtrar la lista\n",
    "x_City_Km[x_City_Km > 500]"
   ]
  },
  {
   "cell_type": "code",
   "execution_count": 6,
   "metadata": {},
   "outputs": [
    {
     "output_type": "execute_result",
     "data": {
      "text/plain": [
       "Bogota           418.080\n",
       "Cali             402.000\n",
       "Leticia         1308.912\n",
       "Barranquilla     715.560\n",
       "Quibdo           225.120\n",
       "Name: Distancia/Km, dtype: float64"
      ]
     },
     "metadata": {},
     "execution_count": 6
    }
   ],
   "source": [
    "#Noten que se puede usar tambíen un diccinario de boleanos\n",
    "# para filtrar la lista, con los mismos índices\n",
    "x_City_Km[{'Bogota':False,'Cali':False,'Leticia':False,'Barranquilla':False,'Quibdo':False}]"
   ]
  },
  {
   "cell_type": "code",
   "execution_count": 7,
   "metadata": {},
   "outputs": [
    {
     "output_type": "stream",
     "name": "stdout",
     "text": [
      "Distancia a  Cali :  402.0\n",
      "Distancia a  Leticia :  402.0\n"
     ]
    }
   ],
   "source": [
    "#Tambien se puede usar tests\n",
    "listaDeCiudades= ['Envigado','Cali','Leticia','quibdo','Jardín']\n",
    "#Recorro la lista\n",
    "for ciudad in listaDeCiudades:\n",
    "    #Miro si la ciudad está en mi serie\n",
    "    if ciudad in x_City_Km:\n",
    "        print('Distancia a ',ciudad,': ', x_City_Km['Cali'])\n"
   ]
  },
  {
   "source": [
    "Cuando dos series se combinan, éstas se organizan usandos sus etiqueta de índice.\n",
    "\n",
    "__Ejemplo:__ Creamos dos series con las masas y radios de diferentes cuerpos del sistema solar. Usamos estas dos series para crear otra, con la aceleracion gravitacional en la superficie."
   ],
   "cell_type": "markdown",
   "metadata": {}
  },
  {
   "cell_type": "code",
   "execution_count": 8,
   "metadata": {},
   "outputs": [
    {
     "output_type": "stream",
     "name": "stdout",
     "text": [
      "Objeto\nCallisto          NaN\nEuropa            NaN\nGanimedes    1.425681\nIo           1.795799\nLuna         1.624129\nTierra       9.819973\nName: g /m.s-2, dtype: float64\n"
     ]
    }
   ],
   "source": [
    "#Serie de masas\n",
    "masses = pd.Series ({'Ganimedes': 1.482e23 \n",
    "    ,'Callisto': 1.076e23 \n",
    "    ,'Io': 8.932e22 \n",
    "    ,'Europa': 4.800e22 \n",
    "    ,'Luna': 7.342e22 \n",
    "    ,'Tierra': 5.972e24}, name='masa /kg')\n",
    "#Serie de radios\n",
    "radii = pd.Series ({'Ganimedes': 2.634e6\n",
    "    ,'Io': 1.822e6 \n",
    "    ,'Luna': 1.737e6 \n",
    "    ,'Tierra': 6.371e6}, name='radios /m')\n",
    "#Constante de Cavendish\n",
    "from scipy.constants import G\n",
    "surface_g = G*masses/radii**2\n",
    "surface_g.name = 'g /m.s-2'\n",
    "surface_g.index.name = 'Objeto'\n",
    "print(surface_g)"
   ]
  },
  {
   "source": [
    "Puesto que como no hay correspondencia entre las dos listas para Europa y Calisto, el valor es `NaN` (Not a Number), esto se puede filtrar usando los métodos `notnull()` o `dropna()` "
   ],
   "cell_type": "markdown",
   "metadata": {}
  },
  {
   "cell_type": "code",
   "execution_count": 9,
   "metadata": {},
   "outputs": [
    {
     "output_type": "stream",
     "name": "stdout",
     "text": [
      "Objeto\nCallisto     False\nEuropa       False\nGanimedes     True\nIo            True\nLuna          True\nTierra        True\nName: g /m.s-2, dtype: bool \n\nObjeto\nGanimedes    1.425681\nIo           1.795799\nLuna         1.624129\nTierra       9.819973\nName: g /m.s-2, dtype: float64 \n\nObjeto\nGanimedes    1.425681\nIo           1.795799\nLuna         1.624129\nTierra       9.819973\nName: g /m.s-2, dtype: float64 \n\n"
     ]
    }
   ],
   "source": [
    "#notnull() produce eun serie de boleanos\n",
    "print(surface_g.notnull(),'\\n')\n",
    "#Y se puede usar como filtro para mostrar los valores\n",
    "print(surface_g[surface_g.notnull()],'\\n')\n",
    "#de madera sencilla con dropna()\n",
    "print(surface_g.dropna(),'\\n')"
   ]
  },
  {
   "source": [
    "## DataFrames\n",
    "Se suele comparar los `DataFrames` con hojas de calculo de Exel.\n",
    "\n",
    "__Sintaxis:__ \n",
    "\n",
    ">```\n",
    ">   pandas.DataFrame( data, index, columns, dtype, copy)\n",
    ">```\n",
    "\n",
    "Donde `data` pueden ser varios tipos de datos como narray, series, map, lists, dict, constants e inclusive otro _DataFrame_. `index` se usa para etiquetar las filas y el valor por defecto es posicional (como en el caso de las Series). `columns` Son las etiquetas para las columnas, es opcional y por defecto es posicional. `dtype` es el tipo de datos por columna. `copy` para copiar los datos, por defecto False.\n",
    "\n",
    "__Ejemplos:__ Creemos algunos DataFrames\n"
   ],
   "cell_type": "markdown",
   "metadata": {}
  },
  {
   "cell_type": "code",
   "execution_count": 10,
   "metadata": {
    "tags": []
   },
   "outputs": [
    {
     "output_type": "stream",
     "name": "stdout",
     "text": [
      "DataFrame Vacio\nEmpty DataFrame\nColumns: []\nIndex: []\n------------------------------------\nDataFrame Desde una lista de listas\n     Nombre  Edad\n0    Camilo  10.0\n1    Carlos  40.0\n2     Mario   7.0\n3   Daniela  22.0\n4  Josefina  86.0\n------------------------------------\nDataFrame desde un diccionario\n      Referencias  precios\nfila1        0001      100\nfila2        0002      200\nfila3        0003      300\nfila4        0004      400\nfila5        0005      500\n------------------------------------\nDataFrame desde una lista de diccionarios\n  Referencia  Precio   Descripcion\n0        001     100  referencia 1\n1        002     200           NaN\n2        003     300  referencia 3\n3        004     400           NaN\nDataFrame por atributos\n                   mass     radius   planet\nGanimedes  1.482000e+23  2634000.0  Jupiter\nCallisto   1.076000e+23        NaN  Jupiter\nIo         8.932000e+22  1822000.0  Jupiter\nEuropa     4.800000e+22        NaN  Jupiter\nLuna       7.342000e+22  1737000.0   Tierra\n"
     ]
    }
   ],
   "source": [
    "#Primero un DataFrame Vacio\n",
    "empty_data_frame = pd.DataFrame()\n",
    "print(\"DataFrame Vacio\")\n",
    "print(empty_data_frame)\n",
    "print(\"------------------------------------\")\n",
    "#Ahora uno usando una lista de listas\n",
    "lista_Listas = [[\"Camilo\",10],[\"Carlos\",40],[\"Mario\",7],[\"Daniela\",22],[\"Josefina\",86]]\n",
    "DF_lista = pd.DataFrame(lista_Listas,columns=[\"Nombre\",\"Edad\"],dtype=float)    #obligo a que los datos sean float\n",
    "print(\"DataFrame Desde una lista de listas\")\n",
    "print(DF_lista) \n",
    "print(\"------------------------------------\")\n",
    "#Usando un diccionario\n",
    "dictionary = {'Referencias':[\"0001\",\"0002\",\"0003\",\"0004\",\"0005\"]\n",
    "                ,'precios':[100,200,300,400,500]}\n",
    "DF_dic = pd.DataFrame(dictionary,index=[\"fila1\",\"fila2\",\"fila3\",\"fila4\",\"fila5\"])  #Cambio el indice de las filas\n",
    "print(\"DataFrame desde un diccionario\")\n",
    "print(DF_dic)\n",
    "print(\"------------------------------------\")\n",
    "#Desde una lista de diccionarios\n",
    "dict_list = [\n",
    "    {'Referencia':\"001\",'Precio':100, 'Descripcion':\"referencia 1\"},\n",
    "    {'Referencia':\"002\",'Precio':200},\n",
    "    {'Referencia':\"003\",'Precio':300, 'Descripcion':\"referencia 3\"},\n",
    "    {'Referencia':\"004\",'Precio':400}]\n",
    "DF_dict_list = pd.DataFrame(dict_list)\n",
    "print(\"DataFrame desde una lista de diccionarios\")\n",
    "print(DF_dict_list)\n",
    "#Usando los atributos de Dataframe\n",
    "#data son las columnas\n",
    "data = {'mass': [1.482e23 , 1.076e23 , 8.932e22 , 4.800e22 , 7.342e22],\n",
    "'radius': [2.634e6 , None , 1.822e6 , None , 1.737e6],\n",
    "'planet': ['Jupiter', 'Jupiter', 'Jupiter', 'Jupiter', 'Tierra']\n",
    "}\n",
    "#index son los indices de las filas\n",
    "index = ['Ganimedes', 'Callisto', 'Io', 'Europa', 'Luna']\n",
    "Atributes = pd.DataFrame(data , index=index)\n",
    "print(\"DataFrame por atributos\")\n",
    "print(Atributes)"
   ]
  },
  {
   "source": [
    "Note que en la última definición, donde faltaron items (descripcion) DataFrame pone automaticamente un NaN (Not a Number) para indicar que no se proporciono ese dato.\n",
    "\n",
    "## Acceder columnas, filas y celdas\n",
    "\n",
    "Una columna individual puede obtenerse indexando o por atributo (si su nombre es válido). Dado que las columnas son una serie de pandas, los valores individuales se pueden recuperar por posición o referencia a la etiqueta del índice."
   ],
   "cell_type": "markdown",
   "metadata": {}
  },
  {
   "cell_type": "code",
   "execution_count": 11,
   "metadata": {},
   "outputs": [
    {
     "output_type": "stream",
     "name": "stdout",
     "text": [
      "Ganimedes    1.482000e+23\nCallisto     1.076000e+23\nIo           8.932000e+22\nEuropa       4.800000e+22\nLuna         7.342000e+22\nName: mass, dtype: float64 \n\nAtributes['mass'][2]=  8.932e+22 \n\nAtributes['mass']['Io']=  8.932e+22 \n\n"
     ]
    }
   ],
   "source": [
    "#Una columna\n",
    "print(Atributes['mass'],'\\n')\n",
    "#Una celda por posición\n",
    "print(\"Atributes['mass'][2]= \",Atributes['mass'][2],'\\n')\n",
    "#Una celda por referencia\n",
    "print(\"Atributes['mass']['Io']= \",Atributes['mass']['Io'],'\\n')"
   ]
  },
  {
   "source": [
    "Ahora, para recuperar columnas y valores individuales, esto es bueno, pero la asignación plantea un problema (`warning`), aunque funciona."
   ],
   "cell_type": "markdown",
   "metadata": {}
  },
  {
   "cell_type": "code",
   "execution_count": 12,
   "metadata": {},
   "outputs": [
    {
     "output_type": "stream",
     "name": "stdout",
     "text": [
      "Atributes['mass']['Io']=  9e+22 \n",
      "\n",
      "<ipython-input-12-46f700e86058>:1: SettingWithCopyWarning: \n",
      "A value is trying to be set on a copy of a slice from a DataFrame\n",
      "\n",
      "See the caveats in the documentation: https://pandas.pydata.org/pandas-docs/stable/user_guide/indexing.html#returning-a-view-versus-a-copy\n",
      "  Atributes['mass']['Io'] = 9.0e22\n"
     ]
    }
   ],
   "source": [
    "Atributes['mass']['Io'] = 9.0e22\n",
    "print(\"Atributes['mass']['Io']= \",Atributes['mass']['Io'],'\\n')"
   ]
  },
  {
   "source": [
    "El mensaje es una advertencia general sobre que la *indexación encadenada* ([..] [..]) puede provocar resultados impredecibles cuando se utilizan para la asignación: dependiendo de cómo se almacenan los datos en la memoria, es posible que la expresión de indexación produzca una copia de los datos en lugar de una modificación. \n",
    "Indexación o asignación encadenada deben de evitarse. Se pueden usar dos métodos de `DataFrame`, `loc` e `iloc`, para acceder y asignar de manera confiable las columnas, filas y celdas; Se recomienda __MUCHO__ su uso. `loc` selecciona por fila y etiquetas de columna.\n",
    "\n",
    "__Nota:__ Tenga en cuenta que mientras que la indexación encadenada se refiere a una celda como `[col][fila]`, el `.loc` es de la forma `[fila, col]` o `[fila][col]`."
   ],
   "cell_type": "markdown",
   "metadata": {}
  },
  {
   "cell_type": "code",
   "execution_count": 13,
   "metadata": {},
   "outputs": [
    {
     "output_type": "stream",
     "name": "stdout",
     "text": [
      "mass      89999999999999995805696.0\n",
      "radius                    1822000.0\n",
      "planet                      Jupiter\n",
      "Name: Io, dtype: object \n",
      "\n",
      "mass      89999999999999995805696.0\n",
      "planet                      Jupiter\n",
      "Name: Io, dtype: object \n",
      "\n",
      "Ganimedes    1.482000e+23\n",
      "Callisto     1.076000e+23\n",
      "Io           9.000000e+22\n",
      "Europa       4.800000e+22\n",
      "Luna         7.342000e+22\n",
      "Name: mass, dtype: float64 \n",
      "\n",
      "Io      Jupiter\n",
      "Luna     Tierra\n",
      "Name: planet, dtype: object \n",
      "\n",
      "                   mass     radius   planet\n",
      "Ganimedes  1.482000e+23  2634000.0  Jupiter\n",
      "Callisto   1.076000e+23        NaN  Jupiter\n",
      "Io         9.000000e+22  1822000.0  Jupiter\n",
      "Europa     4.800000e+22        NaN  Jupiter \n",
      "\n",
      "Atributes['mass']['Io']=  8.932e+22\n"
     ]
    }
   ],
   "source": [
    "#Se puede ver una fila\n",
    "print(Atributes.loc['Io'],'\\n')\n",
    "#Escoger algunos atributos\n",
    "print(Atributes.loc['Io',['mass','planet']],'\\n')\n",
    "#Usando slicing (muestro, solo las masas)\n",
    "print(Atributes.loc[:,'mass'],'\\n')\n",
    "#pasando varias filas y  una columna \n",
    "print(Atributes.loc[['Io','Luna'],'planet'],'\\n')\n",
    "#Y usando == los atruibutos\n",
    "print(Atributes.loc[Atributes.planet=='Jupiter'],'\\n')\n",
    "#Modo seguro de modificar las celdas\n",
    "Atributes.loc['Io','mass'] = 8.932e22\n",
    "print(\"Atributes['mass']['Io']= \",Atributes['mass']['Io'])"
   ]
  },
  {
   "source": [
    "El segundo método `iloc` se usa para encontar los elementos por posición"
   ],
   "cell_type": "markdown",
   "metadata": {}
  },
  {
   "cell_type": "code",
   "execution_count": 14,
   "metadata": {},
   "outputs": [
    {
     "output_type": "stream",
     "name": "stdout",
     "text": [
      "mass      89320000000000006291456.0\n",
      "radius                    1822000.0\n",
      "planet                      Jupiter\n",
      "Name: Io, dtype: object \n",
      "\n",
      "radius    1822000.0\n",
      "planet      Jupiter\n",
      "Name: Io, dtype: object \n",
      "\n",
      "Ganimedes    Jupiter\n",
      "Callisto     Jupiter\n",
      "Io           Jupiter\n",
      "Europa       Jupiter\n",
      "Luna          Tierra\n",
      "Name: planet, dtype: object \n",
      "\n",
      "Io      Jupiter\n",
      "Luna     Tierra\n",
      "Name: planet, dtype: object \n",
      "\n",
      "Atributes['mass']['Io']=  9e+22\n"
     ]
    }
   ],
   "source": [
    "#Se puede ver una fila\n",
    "print(Atributes.iloc[2],'\\n')\n",
    "#Escoger algunos atributos\n",
    "print(Atributes.iloc[2,[1,2]],'\\n')\n",
    "#Usando slicing (muestro, solo las masas)\n",
    "print(Atributes.iloc[:,2],'\\n')\n",
    "#pasando varias filas y  una columna \n",
    "print(Atributes.iloc[[2,4],2],'\\n')\n",
    "#Modo seguro de modificar las celdas\n",
    "Atributes.iloc[2,0] = 9.0e22\n",
    "print(\"Atributes['mass']['Io']= \",Atributes['mass']['Io'])"
   ]
  },
  {
   "source": [
    "\n",
    "## Modificar la estructura de un DataFrame\n",
    "Se puede modificar la estructura de un DataFrame Aumentando o borrando columnas al DF. También se puede seleccionar una columna y operar con ella de forma independiente, recordando que python usa _paso por referencia_.\n",
    "\n",
    "__Ejemplo:__ Seleccionemos una columna de `DF_dic`"
   ],
   "cell_type": "markdown",
   "metadata": {}
  },
  {
   "cell_type": "code",
   "execution_count": 15,
   "metadata": {
    "tags": []
   },
   "outputs": [
    {
     "output_type": "stream",
     "name": "stdout",
     "text": [
      "Antes de editar columna\n",
      "      Referencias  precios\n",
      "fila1        0001      100\n",
      "fila2        0002      200\n",
      "fila3        0003      300\n",
      "fila4        0004      400\n",
      "fila5        0005      500\n",
      "------------------------------------\n",
      "Despúes de editar columna\n",
      "      Referencias  precios\n",
      "fila1        0001      100\n",
      "fila2        0002      200\n",
      "fila3          03      300\n",
      "fila4        0004      400\n",
      "fila5        0005      500\n",
      "<ipython-input-15-e872241cb6b1>:11: SettingWithCopyWarning: \n",
      "A value is trying to be set on a copy of a slice from a DataFrame\n",
      "\n",
      "See the caveats in the documentation: https://pandas.pydata.org/pandas-docs/stable/user_guide/indexing.html#returning-a-view-versus-a-copy\n",
      "  RefCol['fila3'] = '03'\n"
     ]
    }
   ],
   "source": [
    "#Volvemos a crear el DF para evitar contaminación\n",
    "dictionary = {'Referencias':[\"0001\",\"0002\",\"0003\",\"0004\",\"0005\"],'precios':[100,200,300,400,500]}\n",
    "DF_dic = pd.DataFrame(dictionary,index=[\"fila1\",\"fila2\",\"fila3\",\"fila4\",\"fila5\"])  #Cambio el indice de las filas\n",
    "print(\"Antes de editar columna\")\n",
    "print(DF_dic)\n",
    "print(\"------------------------------------\")\n",
    "#Seleccion la columna Referencias y se la asigno al objeto RefCol\n",
    "RefCol = DF_dic['Referencias']\n",
    "#Modifico la fila3 (ojo con esto)\n",
    "#forma correcta RefCol.loc['fila3'] = '03'\n",
    "RefCol['fila3'] = '03'\n",
    "#Note que se modifica en el DataFrame \n",
    "print(\"Despúes de editar columna\")\n",
    "print(DF_dic)"
   ]
  },
  {
   "source": [
    "### Añadir o borrar columnas\n",
    "Otra cosa que se puede hacer, es crear o borrar columnas al DF.\n",
    "\n",
    "__Ejemplo:__ "
   ],
   "cell_type": "markdown",
   "metadata": {
    "tags": []
   }
  },
  {
   "cell_type": "code",
   "execution_count": 16,
   "metadata": {
    "tags": []
   },
   "outputs": [
    {
     "output_type": "stream",
     "name": "stdout",
     "text": [
      "DataFrame desde una lista de diccionarios\n  Referencia  Precio   Descripcion\n0        001     100  referencia 1\n1        002     200           NaN\n2        003     300  referencia 3\n3        004     400           NaN\n----------------------------------------------------------------------\n  Referencia  Precio   Descripcion  Precio al publico\n0        001     100  referencia 1                110\n1        002     200           NaN                210\n2        003     300  referencia 3                310\n3        004     400           NaN                410\n----------------------------------------------------------------------\n  Referencia  Precio   Descripcion  Precio al publico  % de Ganancia\n0        001     100  referencia 1                110       9.090909\n1        002     200           NaN                210       4.761905\n2        003     300  referencia 3                310       3.225806\n3        004     400           NaN                410       2.439024\n----------------------------------------------------------------------\n  Referencia  Precio   Descripcion  Precio al publico\n0        001     100  referencia 1                110\n1        002     200           NaN                210\n2        003     300  referencia 3                310\n3        004     400           NaN                410\n"
     ]
    }
   ],
   "source": [
    "#Creamos el DF\n",
    "dict_list = [\n",
    "    {'Referencia':\"001\",'Precio':100, 'Descripcion':\"referencia 1\"},\n",
    "    {'Referencia':\"002\",'Precio':200},\n",
    "    {'Referencia':\"003\",'Precio':300, 'Descripcion':\"referencia 3\"},\n",
    "    {'Referencia':\"004\",'Precio':400}]\n",
    "DF_dict_list = pd.DataFrame(dict_list)\n",
    "print(\"DataFrame desde una lista de diccionarios\")\n",
    "print(DF_dict_list)\n",
    "print(\"----------------------------------------------------------------------\")\n",
    "\n",
    "#Creo una nueva columna desde una lista contenida en una serie\n",
    "DF_dict_list[\"Precio al publico\"] = pd.Series([110,210,310,410])\n",
    "print(DF_dict_list)\n",
    "print(\"----------------------------------------------------------------------\")\n",
    "#creo una nueva columna construida con otras contenidas dentro del DF\n",
    "DF_dict_list[\"% de Ganancia\"] = (DF_dict_list[\"Precio al publico\"]\n",
    "                                    -DF_dict_list[\"Precio\"])*100/DF_dict_list[\"Precio al publico\"]\n",
    "print(DF_dict_list)\n",
    "print(\"----------------------------------------------------------------------\")\n",
    "# Y de nuevo borro la columna\n",
    "del DF_dict_list[\"% de Ganancia\"]\n",
    "print(DF_dict_list)"
   ]
  },
  {
   "source": [
    "### Seleccionar, añadir y borrar filas\n",
    "De manera similar los DF permiten seleccionar, añadir y borrar filas. \n",
    "\n",
    "__Ejemplos:__\n"
   ],
   "cell_type": "markdown",
   "metadata": {}
  },
  {
   "cell_type": "code",
   "execution_count": 17,
   "metadata": {
    "tags": []
   },
   "outputs": [
    {
     "output_type": "stream",
     "name": "stdout",
     "text": [
      "Antes de editar columna\n",
      "      Referencias  precios\n",
      "fila1        0001      100\n",
      "fila2        0002      200\n",
      "fila3        0003      300\n",
      "fila4        0004      400\n",
      "fila5        0005      500\n",
      "------------------------------------\n"
     ]
    }
   ],
   "source": [
    "#Usando un DF de un ejemplo pasado \n",
    "dictionary = {'Referencias':[\"0001\",\"0002\",\"0003\",\"0004\",\"0005\"],'precios':[100,200,300,400,500]}\n",
    "DF_dic = pd.DataFrame(dictionary,index=[\"fila1\",\"fila2\",\"fila3\",\"fila4\",\"fila5\"])  #Cambio el indice de las filas\n",
    "print(\"Antes de editar columna\")\n",
    "print(DF_dic)\n",
    "print(\"------------------------------------\")"
   ]
  },
  {
   "cell_type": "code",
   "execution_count": 18,
   "metadata": {},
   "outputs": [
    {
     "output_type": "stream",
     "name": "stdout",
     "text": [
      "Referencias    003\n",
      "precios        300\n",
      "Name: fila6, dtype: object\n",
      ".....................................\n",
      "Referencias    0004\n",
      "precios         400\n",
      "Name: fila4, dtype: object\n",
      ".....................................\n",
      "      Referencias  precios\n",
      "fila1        0001      100\n",
      "fila2        0002      200\n",
      "fila3        0003      300\n",
      "fila4        0004      400\n",
      "fila5        0005      500\n",
      "------------------------------------\n",
      "<ipython-input-18-a9013f82d998>:7: SettingWithCopyWarning: \n",
      "A value is trying to be set on a copy of a slice from a DataFrame\n",
      "\n",
      "See the caveats in the documentation: https://pandas.pydata.org/pandas-docs/stable/user_guide/indexing.html#returning-a-view-versus-a-copy\n",
      "  fila3[\"Referencias\"] = \"003\"\n"
     ]
    }
   ],
   "source": [
    "# Seleccionemos una filas, se hace pasandole el indice a la funcion loc\n",
    "#o tambien pasandole el numero el número de localización a iloc \n",
    "#Ojo son brackets [] no ()\n",
    "fila3 = DF_dic.loc[\"fila3\"]\n",
    "fila4 = DF_dic.iloc[3]\n",
    "#Si se trata de modificar, no quedan guardadas en el DF (ojo con esto)\n",
    "fila3[\"Referencias\"] = \"003\"\n",
    "#Cambio el nombre  (No lo hace)!!!!!!!!!!!!!!!!!!\n",
    "fila3.name = \"fila6\"\n",
    "print(fila3) \n",
    "print(\".....................................\")\n",
    "print(fila4) \n",
    "print(\".....................................\")\n",
    "print(DF_dic)\n",
    "print(\"------------------------------------\")"
   ]
  },
  {
   "cell_type": "code",
   "execution_count": 19,
   "metadata": {},
   "outputs": [
    {
     "output_type": "stream",
     "name": "stdout",
     "text": [
      "      Referencias  precios\n",
      "fila1        0001      100\n",
      "fila2        0002      200\n",
      "fila3        0003      300\n",
      "fila4        0004      400\n",
      "fila5        0005      500\n",
      "fila6         003      300\n",
      "fila4        0004      400\n",
      "------------------------------------\n",
      "      Referencias  precios\n",
      "fila1        0001      100\n",
      "fila2        0002      200\n",
      "fila3        0003      300\n",
      "fila5        0005      500\n",
      "fila6         003      300\n",
      "------------------------------------\n"
     ]
    }
   ],
   "source": [
    "# Añado un par de filas (mire muy bien la redaccion)\n",
    "DF_dic = DF_dic.append(fila3)\n",
    "DF_dic = DF_dic.append(fila4)\n",
    "print(DF_dic)\n",
    "print(\"------------------------------------\")\n",
    "# Borro las fila4 pues tiene un index repetido \n",
    "# Tenga cuidado con la forma del codigo\n",
    "DF_dic = DF_dic.drop(\"fila4\")\n",
    "print(DF_dic)\n",
    "print(\"------------------------------------\")"
   ]
  },
  {
   "source": [
    "Los DataFrames son las estructuras que más vamos a usar, luego es bueno tener algunos de sus atributos y métodos\n",
    "\n",
    "| FUNCTION                  | DESCRIPTION                                                                                                                                                                                                                      |\n",
    "|---------------------------|----------------------------------------------------------------------------------------------------------------------------------------------------------------------------------------------------------------------------------|\n",
    "| `index()`                   | Entrega el `index` (etiqueta de la fila) del DataFrame                                                                                                                                                                               |\n",
    "| `insert()`                  | Inserta una columna en el DF                                                                                                                                                                                         |\n",
    "| `add()`                     | Suma de dos DF                                                                                                                                               |\n",
    "| `sub()`                     | Resta de dos DF                                                                                                                                            |\n",
    "| `mul()`                     | Multiplicación de dos DF                                                                                                                                         |\n",
    "| `div()`                     | División de dos DF                                                                                                                                  |\n",
    "| `unique()`                  | Método que extrae los valores únicos del DF                                                                                                                                                                               |\n",
    "| `nunique()`                 | Entrega el número de valores únicos del DF                                                                                                                                                                       |\n",
    "| `value_counts()`            | Cuanta las ocurrencias de cada valor único dentro de la serie                                                                                                                                                     |\n",
    "| `columns()`                 | Entrega las etiquetas de las columnas                                                                                                                                                                                |\n",
    "| `axes`                      | Lista con los ejes (etiquetas de filas y columnas)                                                                                                                                                                     |\n",
    "| `isnull()`                  | Crea una lista de boleanos con True donde los valores son nulos                                                                                                                                                             |\n",
    "| `notnull()`                 | Crea una lista de boleanos con True donde los valores no son nulos                                                                                                                                                         |\n",
    "| `between()`                 | Extrae filas donde el valor de una columna se encuentra entre un rango predefinido                                                                                                                                                    |\n",
    "| `isin()`                    | Extrae filas de un DataFrame donde existe un valor de columna en una colección predefinida                                                                                                                                     |\n",
    "| `dtypes()`                  | Devuelve una serie con el tipo de datos de cada columna. El índice del resultado son las columnas del DataFrame original.                                                                                                                |\n",
    "| `astype()`                  | Convierte los tipos de datos en una serie                                                                                                                                                                                       |\n",
    "| `values`                  | Devuelve una representación Numpy del DataFrame, es decir, solo se devolverán los valores en el DataFrame, se eliminarán las etiquetas de los ejes                                                                                   |\n",
    "| `sort_values()`- `Set1`, `Set2` | Ordena un marco de datos en orden ascendente o descendente de la columna que se pasa como argumento                                                                                                                                                      |\n",
    "| `sort_index()`              | Ordena los valores en un DF en función de sus posiciones de índice o etiquetas en lugar de sus valores, y cuando un DF está hecho de dos o más DF el índice posterior se puede cambiar usando este método |\n",
    "| `loc[]`                     | Entrega filas según la etiqueta de índice                                                                                                                                                                                    |\n",
    "| `iloc[]`                    | Entrega filas según la posición de índice.                                                                                                                                                                                     |\n",
    "| `ix[]`                      | Entrega filas de DF según la etiqueta del índice o la posición del índice. Este método combina las mejores características de los métodos .loc [] y .iloc []                                                                           |\n",
    "| `rename()`                  | Para cambiar los nombres de las etiquetas de índice o los nombres de las columnas                                                                                                                                          |\n",
    "| `columns()`                 | Atributo alternativo para cambiar el nombre de la columna                                                                                                                                                                    |\n",
    "| `drop()`                    | Método para eliminar filas o columnas de un DataFrame                                                                                                                                                                        |\n",
    "| `pop()`                     | Método para eliminar filas o columnas de un DataFrame                                                                                                                                                                         |\n",
    "| `sample()`                  | Extrae una muestra aleatoria de filas o columnas de un DataFrame                                                                                                                                                             |\n",
    "| `nsmallest()`               | Entrega las filas con los valores más pequeños en una columna                                                                                                                                                                   |\n",
    "| `nlargest()`                | Entrega las filas con los valores más grandes en una columna                                                                                                                                                                    |\n",
    "| `shape()`                   | Entrega una tupla con la dimensión                                                                                                                                                          |\n",
    "| `ndim()`                    | Entrega un entero que representa el número de ejes o dimensiones de matriz. Devuelve 1 si Serie, de lo contrario devuelve 2 si DF                                                                                                |\n",
    "| `dropna()`                  | Permite al usuario analizar y eliminar filas o columnas con valores nulos de diferentes formas.                                                                                                                                       |\n",
    "| `fillna()`                  | Permite que el usuario reemplace los valores de `NaN` con algún valor propio                                                                                                                                                  |\n",
    "| `rank()`                    | Clasifica las entradas de una serie por sus valores                                                                                                                                                                      |\n",
    "| `query()`                   | Sintaxis alternativa basada en cadenas de caracteres para extraer un subconjunto de un DataFrame                                                                                                                                              |\n",
    "| `copy()`                    | Crea una copia independiente de un objeto pandas                                                                                                                                                                           |\n",
    "| `duplicated()`              | Crea una serie booleana y la usa para extraer filas que tienen valores duplicados                                                                                                                                           |\n",
    "| `drop_duplicates()`         | Opción alternativa para identificar filas duplicadas y eliminarlas mediante el filtrado                                                                                                                                |\n",
    "| `set_index()`               | Establece el índice de DF (etiquetas de fila) usando una o más columnas existentes                                                                                                                                                  |\n",
    "| `reset_index()`             | Restablece el índice de un DF. Este método establece una lista de enteros que van desde 0 hasta la longitud de los datos como índice                                                                                                                |\n",
    "| `where()`                   | Verificar un marco de datos para una o más condiciones y devuelve el resultado en consecuencia. De forma predeterminada, las filas que no cumplen la condición se rellenan con el valor NaN  |\n",
    "\n",
    "\n",
    "__Ejemplos:__ Algunos ejemplos del uso de los anteriores (y otros) atributos y métodos                                                  "
   ],
   "cell_type": "markdown",
   "metadata": {}
  },
  {
   "cell_type": "code",
   "execution_count": 20,
   "metadata": {
    "tags": []
   },
   "outputs": [
    {
     "output_type": "stream",
     "name": "stdout",
     "text": [
      "Axes\n[RangeIndex(start=0, stop=10, step=1)]\n------------------------------------\nrandom_series está vacio?\nFalse\n------------------------------------\nNúmero de dimensiones del objeto:\n1\n------------------------------------\nTamaño del objeto:\n10\n------------------------------------\nElementos únicos:\n[-0.48495118  1.58607879  1.32709067  1.11838326  0.35785394  0.01376912\n  0.50861365  0.44959899 -1.47746621 -0.56076286]\n------------------------------------\nLos tres primeros elelmentos:\n0   -0.484951\n1    1.586079\n2    1.327091\ndtype: float64\n------------------------------------\nLos tres últimos elelmentos:\n7    0.449599\n8   -1.477466\n9   -0.560763\ndtype: float64\n------------------------------------\n"
     ]
    }
   ],
   "source": [
    "#Creemos una serie con 10 números aleatorios\n",
    "random_series = pd.Series(np.random.randn(10))\n",
    "#print(random_series)\n",
    "# Miremos los ejes (axes)\n",
    "print(\"Axes\")\n",
    "print(random_series.axes)\n",
    "print(\"------------------------------------\")\n",
    "print(\"random_series está vacio?\")\n",
    "print(random_series.empty)\n",
    "print(\"------------------------------------\")\n",
    "print(\"Número de dimensiones del objeto:\")\n",
    "print(random_series.ndim)\n",
    "print(\"------------------------------------\")\n",
    "print(\"Tamaño del objeto:\")\n",
    "print(random_series.size)\n",
    "print(\"------------------------------------\")\n",
    "print(\"Elementos únicos:\")\n",
    "print(random_series.unique())\n",
    "print(\"------------------------------------\")\n",
    "print(\"Los tres primeros elelmentos:\")\n",
    "print(random_series.head(3))\n",
    "print(\"------------------------------------\")\n",
    "print(\"Los tres últimos elelmentos:\")\n",
    "print(random_series.tail(3))\n",
    "print(\"------------------------------------\")"
   ]
  },
  {
   "cell_type": "code",
   "execution_count": 21,
   "metadata": {
    "tags": []
   },
   "outputs": [
    {
     "output_type": "stream",
     "name": "stdout",
     "text": [
      "      Nombre  Edad  Calificacion\n0      Tomas    25          4.23\n1      Jaime    26          3.24\n2    Ricardo    25          3.98\n3    Viviana    23          2.56\n4  Estefania    30          3.20\n5     Carlos    29          4.60\n6      Jorge    23          3.80\n------------------------------------\n                  0      1        2        3          4       5      6\nNombre        Tomas  Jaime  Ricardo  Viviana  Estefania  Carlos  Jorge\nEdad             25     26       25       23         30      29     23\nCalificacion   4.23   3.24     3.98     2.56        3.2     4.6    3.8\n------------------------------------\n"
     ]
    }
   ],
   "source": [
    "#Desde un diccionario\n",
    "Grades_Dict = {'Nombre':pd.Series(['Tomas','Jaime','Ricardo','Viviana','Estefania','Carlos','Jorge']),\n",
    "   'Edad':pd.Series([25,26,25,23,30,29,23]),\n",
    "   'Calificacion':pd.Series([4.23,3.24,3.98,2.56,3.20,4.6,3.8])}\n",
    "\n",
    "# DataFrame\n",
    "Grades_DF = pd.DataFrame(Grades_Dict)\n",
    "print(Grades_DF)\n",
    "print(\"------------------------------------\")\n",
    "# Transpuesta\n",
    "print(Grades_DF.T)\n",
    "print(\"------------------------------------\")"
   ]
  },
  {
   "source": [
    "## Operaciones entre elementos del DF"
   ],
   "cell_type": "markdown",
   "metadata": {}
  },
  {
   "cell_type": "code",
   "execution_count": 22,
   "metadata": {
    "tags": []
   },
   "outputs": [
    {
     "output_type": "execute_result",
     "data": {
      "text/plain": [
       "    Documento    Apellido1   Apellido2    Nombre1    Nombre2  Nota1  Nota2  \\\n",
       "0   100064169    BOHORQUEZ      CHACON      DIEGO  ALEJANDRO      2      4   \n",
       "1   100363539        CABRA      PATINO   SANTIAGO                 0      4   \n",
       "2   107905013      CAICEDO    MARTINEZ     YEIMAR                 0      1   \n",
       "3     7432675     CARDENAS  COLMENARES     MANUEL     ARAUJO      0      4   \n",
       "4   100025427  CASTELLANOS    GONZALEZ      ANGIE    DANIELA      0      4   \n",
       "5   115715207       CATANO    MONSALVE     JULIAN                 4      3   \n",
       "6   100113849        DUQUE       HOYOS     ANDRES     FELIPE      3      2   \n",
       "7    10008685        DUQUE    QUINTERO  SEBASTIAN                 1      1   \n",
       "8    10456246      GALEANO       VAHOS     JAVIER      DARIO      4      2   \n",
       "9    10001883      GIRALDO    CARDENAS    MARIANA                 4      1   \n",
       "10   10113589        GOMEZ      POSADA     CAMILO     ANDRES      2      3   \n",
       "11   10075864        HENAO      CUERVO      DAVID     FELIPE      1      2   \n",
       "12    1516857    HERNANDEZ       GOMEZ       JUAN     CAMILO      1      3   \n",
       "13   10031883        LAGOS      OSORIO       LUIS   FERNANDO      0      4   \n",
       "14   10054782        MEJIA     FUENTES       JUAN     MANUEL      0      2   \n",
       "15   10078124        MEJIA    GONZALEZ     ANDRES                 0      4   \n",
       "16   10032997     MONSALVE      TORRES      SIMON                 1      1   \n",
       "17    4271868        ORTIZ   VELASQUEZ     GLADIS      JESUS      4      0   \n",
       "18   10537010      PENAGOS    GONZALEZ       JUAN      PABLO      4      1   \n",
       "19   10016972        PEREZ       GOMEZ      MATEO                 4      0   \n",
       "20   10628816     PULGARIN     ESTRADA       JUAN      DIEGO      1      3   \n",
       "21   10651441         RIOS       PEREZ    KATLEEN     JOHANA      2      3   \n",
       "22   10403569         RUIZ      GUERRA      JORGE    IGNACIO      4      0   \n",
       "23   10081111  SALDARRIAGA        MAZO      HEYDI     DAYANA      0      4   \n",
       "24   10251071     SASTOQUE    BUITRAGO  SEBASTIAN        NaN      4      4   \n",
       "25   10477629       VARGAS       ARIAS     DANIEL        NaN      3      1   \n",
       "26   10171337       ZAPATA   HERNANDEZ   VENANCIO        NaN      2      4   \n",
       "\n",
       "    Nota3  NotaFinal  \n",
       "0       2        NaN  \n",
       "1       2        NaN  \n",
       "2       3        NaN  \n",
       "3       1        NaN  \n",
       "4       2        NaN  \n",
       "5       4        NaN  \n",
       "6       3        NaN  \n",
       "7       3        NaN  \n",
       "8       3        NaN  \n",
       "9       4        NaN  \n",
       "10      3        NaN  \n",
       "11      2        NaN  \n",
       "12      4        NaN  \n",
       "13      0        NaN  \n",
       "14      3        NaN  \n",
       "15      1        NaN  \n",
       "16      2        NaN  \n",
       "17      1        NaN  \n",
       "18      4        NaN  \n",
       "19      0        NaN  \n",
       "20      3        NaN  \n",
       "21      1        NaN  \n",
       "22      2        NaN  \n",
       "23      4        NaN  \n",
       "24      4        NaN  \n",
       "25      4        NaN  \n",
       "26      2        NaN  "
      ],
      "text/html": "<div>\n<style scoped>\n    .dataframe tbody tr th:only-of-type {\n        vertical-align: middle;\n    }\n\n    .dataframe tbody tr th {\n        vertical-align: top;\n    }\n\n    .dataframe thead th {\n        text-align: right;\n    }\n</style>\n<table border=\"1\" class=\"dataframe\">\n  <thead>\n    <tr style=\"text-align: right;\">\n      <th></th>\n      <th>Documento</th>\n      <th>Apellido1</th>\n      <th>Apellido2</th>\n      <th>Nombre1</th>\n      <th>Nombre2</th>\n      <th>Nota1</th>\n      <th>Nota2</th>\n      <th>Nota3</th>\n      <th>NotaFinal</th>\n    </tr>\n  </thead>\n  <tbody>\n    <tr>\n      <th>0</th>\n      <td>100064169</td>\n      <td>BOHORQUEZ</td>\n      <td>CHACON</td>\n      <td>DIEGO</td>\n      <td>ALEJANDRO</td>\n      <td>2</td>\n      <td>4</td>\n      <td>2</td>\n      <td>NaN</td>\n    </tr>\n    <tr>\n      <th>1</th>\n      <td>100363539</td>\n      <td>CABRA</td>\n      <td>PATINO</td>\n      <td>SANTIAGO</td>\n      <td></td>\n      <td>0</td>\n      <td>4</td>\n      <td>2</td>\n      <td>NaN</td>\n    </tr>\n    <tr>\n      <th>2</th>\n      <td>107905013</td>\n      <td>CAICEDO</td>\n      <td>MARTINEZ</td>\n      <td>YEIMAR</td>\n      <td></td>\n      <td>0</td>\n      <td>1</td>\n      <td>3</td>\n      <td>NaN</td>\n    </tr>\n    <tr>\n      <th>3</th>\n      <td>7432675</td>\n      <td>CARDENAS</td>\n      <td>COLMENARES</td>\n      <td>MANUEL</td>\n      <td>ARAUJO</td>\n      <td>0</td>\n      <td>4</td>\n      <td>1</td>\n      <td>NaN</td>\n    </tr>\n    <tr>\n      <th>4</th>\n      <td>100025427</td>\n      <td>CASTELLANOS</td>\n      <td>GONZALEZ</td>\n      <td>ANGIE</td>\n      <td>DANIELA</td>\n      <td>0</td>\n      <td>4</td>\n      <td>2</td>\n      <td>NaN</td>\n    </tr>\n    <tr>\n      <th>5</th>\n      <td>115715207</td>\n      <td>CATANO</td>\n      <td>MONSALVE</td>\n      <td>JULIAN</td>\n      <td></td>\n      <td>4</td>\n      <td>3</td>\n      <td>4</td>\n      <td>NaN</td>\n    </tr>\n    <tr>\n      <th>6</th>\n      <td>100113849</td>\n      <td>DUQUE</td>\n      <td>HOYOS</td>\n      <td>ANDRES</td>\n      <td>FELIPE</td>\n      <td>3</td>\n      <td>2</td>\n      <td>3</td>\n      <td>NaN</td>\n    </tr>\n    <tr>\n      <th>7</th>\n      <td>10008685</td>\n      <td>DUQUE</td>\n      <td>QUINTERO</td>\n      <td>SEBASTIAN</td>\n      <td></td>\n      <td>1</td>\n      <td>1</td>\n      <td>3</td>\n      <td>NaN</td>\n    </tr>\n    <tr>\n      <th>8</th>\n      <td>10456246</td>\n      <td>GALEANO</td>\n      <td>VAHOS</td>\n      <td>JAVIER</td>\n      <td>DARIO</td>\n      <td>4</td>\n      <td>2</td>\n      <td>3</td>\n      <td>NaN</td>\n    </tr>\n    <tr>\n      <th>9</th>\n      <td>10001883</td>\n      <td>GIRALDO</td>\n      <td>CARDENAS</td>\n      <td>MARIANA</td>\n      <td></td>\n      <td>4</td>\n      <td>1</td>\n      <td>4</td>\n      <td>NaN</td>\n    </tr>\n    <tr>\n      <th>10</th>\n      <td>10113589</td>\n      <td>GOMEZ</td>\n      <td>POSADA</td>\n      <td>CAMILO</td>\n      <td>ANDRES</td>\n      <td>2</td>\n      <td>3</td>\n      <td>3</td>\n      <td>NaN</td>\n    </tr>\n    <tr>\n      <th>11</th>\n      <td>10075864</td>\n      <td>HENAO</td>\n      <td>CUERVO</td>\n      <td>DAVID</td>\n      <td>FELIPE</td>\n      <td>1</td>\n      <td>2</td>\n      <td>2</td>\n      <td>NaN</td>\n    </tr>\n    <tr>\n      <th>12</th>\n      <td>1516857</td>\n      <td>HERNANDEZ</td>\n      <td>GOMEZ</td>\n      <td>JUAN</td>\n      <td>CAMILO</td>\n      <td>1</td>\n      <td>3</td>\n      <td>4</td>\n      <td>NaN</td>\n    </tr>\n    <tr>\n      <th>13</th>\n      <td>10031883</td>\n      <td>LAGOS</td>\n      <td>OSORIO</td>\n      <td>LUIS</td>\n      <td>FERNANDO</td>\n      <td>0</td>\n      <td>4</td>\n      <td>0</td>\n      <td>NaN</td>\n    </tr>\n    <tr>\n      <th>14</th>\n      <td>10054782</td>\n      <td>MEJIA</td>\n      <td>FUENTES</td>\n      <td>JUAN</td>\n      <td>MANUEL</td>\n      <td>0</td>\n      <td>2</td>\n      <td>3</td>\n      <td>NaN</td>\n    </tr>\n    <tr>\n      <th>15</th>\n      <td>10078124</td>\n      <td>MEJIA</td>\n      <td>GONZALEZ</td>\n      <td>ANDRES</td>\n      <td></td>\n      <td>0</td>\n      <td>4</td>\n      <td>1</td>\n      <td>NaN</td>\n    </tr>\n    <tr>\n      <th>16</th>\n      <td>10032997</td>\n      <td>MONSALVE</td>\n      <td>TORRES</td>\n      <td>SIMON</td>\n      <td></td>\n      <td>1</td>\n      <td>1</td>\n      <td>2</td>\n      <td>NaN</td>\n    </tr>\n    <tr>\n      <th>17</th>\n      <td>4271868</td>\n      <td>ORTIZ</td>\n      <td>VELASQUEZ</td>\n      <td>GLADIS</td>\n      <td>JESUS</td>\n      <td>4</td>\n      <td>0</td>\n      <td>1</td>\n      <td>NaN</td>\n    </tr>\n    <tr>\n      <th>18</th>\n      <td>10537010</td>\n      <td>PENAGOS</td>\n      <td>GONZALEZ</td>\n      <td>JUAN</td>\n      <td>PABLO</td>\n      <td>4</td>\n      <td>1</td>\n      <td>4</td>\n      <td>NaN</td>\n    </tr>\n    <tr>\n      <th>19</th>\n      <td>10016972</td>\n      <td>PEREZ</td>\n      <td>GOMEZ</td>\n      <td>MATEO</td>\n      <td></td>\n      <td>4</td>\n      <td>0</td>\n      <td>0</td>\n      <td>NaN</td>\n    </tr>\n    <tr>\n      <th>20</th>\n      <td>10628816</td>\n      <td>PULGARIN</td>\n      <td>ESTRADA</td>\n      <td>JUAN</td>\n      <td>DIEGO</td>\n      <td>1</td>\n      <td>3</td>\n      <td>3</td>\n      <td>NaN</td>\n    </tr>\n    <tr>\n      <th>21</th>\n      <td>10651441</td>\n      <td>RIOS</td>\n      <td>PEREZ</td>\n      <td>KATLEEN</td>\n      <td>JOHANA</td>\n      <td>2</td>\n      <td>3</td>\n      <td>1</td>\n      <td>NaN</td>\n    </tr>\n    <tr>\n      <th>22</th>\n      <td>10403569</td>\n      <td>RUIZ</td>\n      <td>GUERRA</td>\n      <td>JORGE</td>\n      <td>IGNACIO</td>\n      <td>4</td>\n      <td>0</td>\n      <td>2</td>\n      <td>NaN</td>\n    </tr>\n    <tr>\n      <th>23</th>\n      <td>10081111</td>\n      <td>SALDARRIAGA</td>\n      <td>MAZO</td>\n      <td>HEYDI</td>\n      <td>DAYANA</td>\n      <td>0</td>\n      <td>4</td>\n      <td>4</td>\n      <td>NaN</td>\n    </tr>\n    <tr>\n      <th>24</th>\n      <td>10251071</td>\n      <td>SASTOQUE</td>\n      <td>BUITRAGO</td>\n      <td>SEBASTIAN</td>\n      <td>NaN</td>\n      <td>4</td>\n      <td>4</td>\n      <td>4</td>\n      <td>NaN</td>\n    </tr>\n    <tr>\n      <th>25</th>\n      <td>10477629</td>\n      <td>VARGAS</td>\n      <td>ARIAS</td>\n      <td>DANIEL</td>\n      <td>NaN</td>\n      <td>3</td>\n      <td>1</td>\n      <td>4</td>\n      <td>NaN</td>\n    </tr>\n    <tr>\n      <th>26</th>\n      <td>10171337</td>\n      <td>ZAPATA</td>\n      <td>HERNANDEZ</td>\n      <td>VENANCIO</td>\n      <td>NaN</td>\n      <td>2</td>\n      <td>4</td>\n      <td>2</td>\n      <td>NaN</td>\n    </tr>\n  </tbody>\n</table>\n</div>"
     },
     "metadata": {},
     "execution_count": 22
    }
   ],
   "source": [
    "import random\n",
    "#Creemos un diccionario de Series con los nombres, apellidos,.....\n",
    "List_Dict = {\"Documento\": pd.Series([100064169,100363539,107905013,7432675,100025427,115715207,100113849,10008685,10456246,10001883,10113589,10075864,1516857,10031883,10054782,10078124,10032997,4271868,10537010,10016972,10628816,10651441,10403569,10081111,10251071,10477629,10171337],dtype=np.int64)\n",
    "\n",
    ",\"Apellido1\" : pd.Series([\"BOHORQUEZ\",\"CABRA\",\"CAICEDO\",\"CARDENAS\",\"CASTELLANOS\",\"CATANO\",\"DUQUE\",\"DUQUE\",\"GALEANO\",\"GIRALDO\",\"GOMEZ\",\"HENAO\",\"HERNANDEZ\",\"LAGOS\",\"MEJIA\",\"MEJIA\",\"MONSALVE\",\"ORTIZ\",\"PENAGOS\",\"PEREZ\",\"PULGARIN\",\"RIOS\",\"RUIZ\",\"SALDARRIAGA\",\"SASTOQUE\",\"VARGAS\",\"ZAPATA\"])\n",
    "\n",
    ",\"Apellido2\" : pd.Series([\"CHACON\",\"PATINO\",\"MARTINEZ\",\"COLMENARES\",\"GONZALEZ\",\"MONSALVE\",\"HOYOS\",\"QUINTERO\",\"VAHOS\",\"CARDENAS\",\"POSADA\",\"CUERVO\",\"GOMEZ\",\"OSORIO\",\"FUENTES\",\"GONZALEZ\",\"TORRES\",\"VELASQUEZ\",\"GONZALEZ\",\"GOMEZ\",\"ESTRADA\",\"PEREZ\",\"GUERRA\",\"MAZO\",\"BUITRAGO\",\"ARIAS\",\"HERNANDEZ\"])\n",
    "\n",
    ",\"Nombre1\" : pd.Series([\"DIEGO\",\"SANTIAGO\",\"YEIMAR\",\"MANUEL\",\"ANGIE\",\"JULIAN\",\"ANDRES\",\"SEBASTIAN\",\"JAVIER\",\"MARIANA\",\"CAMILO\",\"DAVID\",\"JUAN\",\"LUIS\",\"JUAN\",\"ANDRES\",\"SIMON\",\"GLADIS\",\"JUAN\",\"MATEO\",\"JUAN\",\"KATLEEN\",\"JORGE\",\"HEYDI\",\"SEBASTIAN\",\"DANIEL\",\"VENANCIO\"])\n",
    "\n",
    ",\"Nombre2\" : pd.Series([\"ALEJANDRO\",\"\",\"\",\"ARAUJO\",\"DANIELA\",\"\",\"FELIPE\",\"\",\"DARIO\",\"\",\"ANDRES\",\"FELIPE\",\"CAMILO\",\"FERNANDO\",\"MANUEL\",\"\",\"\",\"JESUS\",\"PABLO\",\"\",\"DIEGO\",\"JOHANA\",\"IGNACIO\",\"DAYANA\"])\n",
    "\n",
    ",\"Nota1\": pd.Series([random.randrange(0,5) for i in range(27)],dtype=np.int64)\n",
    "\n",
    ",\"Nota2\": pd.Series([random.randrange(0,5) for i in range(27)],dtype=np.int64)\n",
    "\n",
    ",\"Nota3\": pd.Series([random.randrange(0,5) for i in range(27)],dtype=np.int64)\n",
    "\n",
    ",\"NotaFinal\" : pd.Series(dtype=np.int64)}\n",
    "\n",
    "# DataFrame\n",
    "List_DF = pd.DataFrame(List_Dict)\n",
    "List_DF"
   ]
  },
  {
   "cell_type": "code",
   "execution_count": 23,
   "metadata": {
    "tags": []
   },
   "outputs": [
    {
     "output_type": "stream",
     "name": "stdout",
     "text": [
      "Sumando Sobre el primer eje del DataFrame (suma las columnas)\n\nDocumento                                            821481613\nApellido1    BOHORQUEZCABRACAICEDOCARDENASCASTELLANOSCATANO...\nApellido2    CHACONPATINOMARTINEZCOLMENARESGONZALEZMONSALVE...\nNombre1      DIEGOSANTIAGOYEIMARMANUELANGIEJULIANANDRESSEBA...\nNota1                                                       51\nNota2                                                       65\nNota3                                                       67\nNotaFinal                                                  0.0\ndtype: object\n------------------------------------\nSumando Sobre el segundo eje del DataFrame (suma las Filas) \n\n0     100064177.0\n1     100363545.0\n2     107905017.0\n3       7432680.0\n4     100025433.0\n5     115715218.0\n6     100113857.0\n7      10008690.0\n8      10456255.0\n9      10001892.0\n10     10113597.0\n11     10075869.0\n12      1516865.0\n13     10031887.0\n14     10054787.0\n15     10078129.0\n16     10033001.0\n17      4271873.0\n18     10537019.0\n19     10016976.0\n20     10628823.0\n21     10651447.0\n22     10403575.0\n23     10081119.0\n24     10251083.0\n25     10477637.0\n26     10171345.0\ndtype: float64\n------------------------------------\n"
     ]
    }
   ],
   "source": [
    "print(\"Sumando Sobre el primer eje del DataFrame (suma las columnas)\\n\")\n",
    "print(List_DF.sum(0))\n",
    "print(\"------------------------------------\") \n",
    "#En el caso que hayan varios tipos de datos, la suma se hace binaria\n",
    "print(\"Sumando Sobre el segundo eje del DataFrame (suma las Filas) \\n\")\n",
    "print(List_DF.sum(1))\n",
    "print(\"------------------------------------\")"
   ]
  },
  {
   "cell_type": "code",
   "execution_count": 24,
   "metadata": {
    "tags": []
   },
   "outputs": [
    {
     "output_type": "stream",
     "name": "stdout",
     "text": [
      "Documento    3.042524e+07\n",
      "Nota1        1.888889e+00\n",
      "Nota2        2.407407e+00\n",
      "Nota3        2.481481e+00\n",
      "NotaFinal             NaN\n",
      "dtype: float64\n",
      "------------------------------------\n",
      "Documento    4.024557e+07\n",
      "Nota1        1.648620e+00\n",
      "Nota2        1.448056e+00\n",
      "Nota3        1.251779e+00\n",
      "NotaFinal             NaN\n",
      "dtype: float64\n",
      "------------------------------------\n"
     ]
    }
   ],
   "source": [
    "#El promedio de la suma de las columnas numéricas\n",
    "print(List_DF.mean(0))\n",
    "print(\"------------------------------------\")\n",
    "#La desviación estandar tipo bessel de las columnas numéricas\n",
    "print(List_DF.std())\n",
    "print(\"------------------------------------\")"
   ]
  },
  {
   "source": [
    "Algunas funciones que actuan sobre todo el DF\n",
    "\n",
    "| Function  | Description                      |\n",
    "|-----------|----------------------------------|\n",
    "| count()   | Numero de los valores no nulos   |\n",
    "| sum()     | Suma de los valores              |\n",
    "| mean()    | Media de los Valores             |\n",
    "| median()  | Mediana de los valores           |\n",
    "| mode()    | Moda de los valores              |\n",
    "| std()     | Desviación estándar              |\n",
    "| min()     | Mínimo Valor                     |\n",
    "| max()     | Máximo Valor                     |\n",
    "| abs()     | Valor Absoluto                   |\n",
    "| prod()    | Producto                         |\n",
    "| cumsum()  | Suma cumulativa                  |\n",
    "| cumprod() | Producto Cumulativo              |"
   ],
   "cell_type": "markdown",
   "metadata": {}
  },
  {
   "cell_type": "code",
   "execution_count": 25,
   "metadata": {
    "tags": []
   },
   "outputs": [
    {
     "output_type": "stream",
     "name": "stdout",
     "text": [
      "          Documento      Nota1      Nota2      Nota3  NotaFinal\ncount  2.700000e+01  27.000000  27.000000  27.000000        0.0\nmean   3.042524e+07   1.888889   2.407407   2.481481        NaN\nstd    4.024557e+07   1.648620   1.448056   1.251779        NaN\nmin    1.516857e+06   0.000000   0.000000   0.000000        NaN\n25%    1.003244e+07   0.000000   1.000000   2.000000        NaN\n50%    1.017134e+07   2.000000   3.000000   3.000000        NaN\n75%    1.064013e+07   4.000000   4.000000   3.500000        NaN\nmax    1.157152e+08   4.000000   4.000000   4.000000        NaN\n"
     ]
    }
   ],
   "source": [
    "# Todo lo anterior se puede hacer con describe. Si se le pasa el argumento include='all', \n",
    "#muestra todas las columnas.\n",
    "# print(describe(include='all'))\n",
    "print(List_DF.describe())"
   ]
  },
  {
   "cell_type": "code",
   "execution_count": 26,
   "metadata": {},
   "outputs": [],
   "source": [
    "#List_DF.describe?"
   ]
  },
  {
   "source": [
    "### Función `pipe`\n",
    "Una de las funciones más útiles de las hojas de cálculo es crear funciones y aplicarlas sobre el conjuntos de datos.\n",
    "La función pipe permite aplicar funciones.\n",
    "\n",
    "__Ejemplo:__"
   ],
   "cell_type": "markdown",
   "metadata": {}
  },
  {
   "cell_type": "code",
   "execution_count": 27,
   "metadata": {
    "tags": []
   },
   "outputs": [
    {
     "output_type": "stream",
     "name": "stdout",
     "text": [
      "       col1      col2      col3\n0 -0.480100  1.053953  0.518694\n1  0.859653 -0.222037  0.567539\n2 -0.163555  0.005021 -0.336091\n3 -2.104480  0.039931 -0.309088\n4  0.860877  2.193744 -1.843029\n---------------------------------\n       col1      col2      col3\n0  3.519900  5.053953  4.518694\n1  4.859653  3.777963  4.567539\n2  3.836445  4.005021  3.663909\n3  1.895520  4.039931  3.690912\n4  4.860877  6.193744  2.156971\n"
     ]
    }
   ],
   "source": [
    "#Creemos una función\n",
    "def Suma(a,b):\n",
    "   return a+b\n",
    "RandomDataFrame = pd.DataFrame(np.random.randn(5,3),columns=['col1','col2','col3'])\n",
    "print(RandomDataFrame)\n",
    "# Se debe pasar los argumentos usando comas, la función \"suma\" toma los dos argumentos que se le pasa\n",
    "#y devuelve la suma, a pipe se le pasa el nombre de la función y los argumentos separados por comas\n",
    "print(\"---------------------------------\")\n",
    "print(RandomDataFrame.pipe(Suma,4)) #Le suma 4 a todas las entradas del DF"
   ]
  },
  {
   "source": [
    "### Función `apply`\n",
    "Funciones arbitrarias se pueden aplicar a lo largo de los ejes de un DataFrame o Panel usando el método `apply()`, esta toma un argumento de eje opcional. De forma predeterminada, la operación se realiza en columnas, tomando cada columna como una matriz.\n",
    "\n",
    "__Sintaxis:__\n",
    ">```\n",
    ">   DataFrame.apply(func, axis=0, broadcast=None, raw=False, reduce=None, result_type=None, args=(), **kwds)\n",
    ">```\n",
    "\n",
    "donde `func` es la función que se aplicará a cada columna o fila. Esta función acepta una serie y devuelve una serie. `eje` eje a lo largo del cual se aplica la función en el marco de datos. Valor predeterminado 0. Si el valor es 0, aplica la función a cada columna. Si el valor es 1, aplica la función a cada fila.\n",
    "`args` lista de argumentos para pasar a la función.\n",
    "\n",
    "__Ejemplo:__"
   ],
   "cell_type": "markdown",
   "metadata": {}
  },
  {
   "cell_type": "code",
   "execution_count": 28,
   "metadata": {
    "tags": []
   },
   "outputs": [
    {
     "output_type": "stream",
     "name": "stdout",
     "text": [
      "       col1      col2      col3\n0 -0.822159 -1.552267  1.573095\n1  2.970326 -2.361326 -0.838997\n2  0.000018  0.600286  0.478594\n3 -0.589752  0.530558 -0.317763\n4 -1.266912 -0.345147  0.555195\n---------------------------------\n       col1      col2      col3\n0 -2.466477 -4.656801  4.719285\n1  8.910978 -7.083977 -2.516992\n2  0.000055  1.800857  1.435782\n3 -1.769255  1.591674 -0.953288\n4 -3.800737 -1.035441  1.665586\n"
     ]
    }
   ],
   "source": [
    "#Creemos una función\n",
    "def Func(a,b):\n",
    "   return a*b+a\n",
    "RandomDataFrame = pd.DataFrame(np.random.randn(5,3),columns=['col1','col2','col3'])\n",
    "print(RandomDataFrame)\n",
    "print(\"---------------------------------\")\n",
    "print(RandomDataFrame.apply(Func,axis=1,args=[2]))"
   ]
  },
  {
   "source": [
    "## Iteraciones\n",
    "La iteración de un DataFrame da nombres de columna. \n",
    "\n",
    "__Ejemplo:__"
   ],
   "cell_type": "markdown",
   "metadata": {}
  },
  {
   "cell_type": "code",
   "execution_count": 29,
   "metadata": {
    "tags": []
   },
   "outputs": [
    {
     "output_type": "stream",
     "name": "stdout",
     "text": [
      "Documento\nApellido1\nApellido2\nNombre1\nNombre2\nNota1\nNota2\nNota3\nNotaFinal\n"
     ]
    }
   ],
   "source": [
    "import random\n",
    "#Creemos un diccionario de Series con los nombres, apellidos,.....\n",
    "List_Dict = {\"Documento\": pd.Series([100064169,100363539,107905013,7432675,100025427,115715207,100113849,10008685,10456246,10001883,10113589,10075864,1516857,10031883,10054782,10078124,10032997,4271868,10537010,10016972,10628816,10651441,10403569,10081111,10251071,10477629,10171337],dtype=np.int64)\n",
    "\n",
    ",\"Apellido1\" : pd.Series([\"BOHORQUEZ\",\"CABRA\",\"CAICEDO\",\"CARDENAS\",\"CASTELLANOS\",\"CATANO\",\"DUQUE\",\"DUQUE\",\"GALEANO\",\"GIRALDO\",\"GOMEZ\",\"HENAO\",\"HERNANDEZ\",\"LAGOS\",\"MEJIA\",\"MEJIA\",\"MONSALVE\",\"ORTIZ\",\"PENAGOS\",\"PEREZ\",\"PULGARIN\",\"RIOS\",\"RUIZ\",\"SALDARRIAGA\",\"SASTOQUE\",\"VARGAS\",\"ZAPATA\"])\n",
    "\n",
    ",\"Apellido2\" : pd.Series([\"CHACON\",\"PATINO\",\"MARTINEZ\",\"COLMENARES\",\"GONZALEZ\",\"MONSALVE\",\"HOYOS\",\"QUINTERO\",\"VAHOS\",\"CARDENAS\",\"POSADA\",\"CUERVO\",\"GOMEZ\",\"OSORIO\",\"FUENTES\",\"GONZALEZ\",\"TORRES\",\"VELASQUEZ\",\"GONZALEZ\",\"GOMEZ\",\"ESTRADA\",\"PEREZ\",\"GUERRA\",\"MAZO\",\"BUITRAGO\",\"ARIAS\",\"HERNANDEZ\"])\n",
    "\n",
    ",\"Nombre1\" : pd.Series([\"DIEGO\",\"SANTIAGO\",\"YEIMAR\",\"MANUEL\",\"ANGIE\",\"JULIAN\",\"ANDRES\",\"SEBASTIAN\",\"JAVIER\",\"MARIANA\",\"CAMILO\",\"DAVID\",\"JUAN\",\"LUIS\",\"JUAN\",\"ANDRES\",\"SIMON\",\"GLADIS\",\"JUAN\",\"MATEO\",\"JUAN\",\"KATLEEN\",\"JORGE\",\"HEYDI\",\"SEBASTIAN\",\"DANIEL\",\"VENANCIO\"])\n",
    "\n",
    ",\"Nombre2\" : pd.Series([\"ALEJANDRO\",\"\",\"\",\"ARAUJO\",\"DANIELA\",\"\",\"FELIPE\",\"\",\"DARIO\",\"\",\"ANDRES\",\"FELIPE\",\"CAMILO\",\"FERNANDO\",\"MANUEL\",\"\",\"\",\"JESUS\",\"PABLO\",\"\",\"DIEGO\",\"JOHANA\",\"IGNACIO\",\"DAYANA\"])\n",
    "\n",
    ",\"Nota1\": pd.Series([random.randrange(0,5) for i in range(27)],dtype=np.int64)\n",
    "\n",
    ",\"Nota2\": pd.Series([random.randrange(0,5) for i in range(27)],dtype=np.int64)\n",
    "\n",
    ",\"Nota3\": pd.Series([random.randrange(0,5) for i in range(27)],dtype=np.int64)\n",
    "\n",
    ",\"NotaFinal\" : pd.Series(dtype=np.int64)\n",
    "}\n",
    "# DataFrame\n",
    "List_DF = pd.DataFrame(List_Dict)\n",
    "for col in List_DF:\n",
    "   print(col)"
   ]
  },
  {
   "source": [
    "Para iterar sobre el DataFrame, podemos usar las funciones:\n",
    "- `iteritems()` : para iterar sobre los pares (llave, valor).\n",
    "- `iterrows()`  : itera sobre las filas como pares (índice, serie).\n",
    "- `itertuples()`: itera sobre las filas como nombres de tuplas.\n",
    "\n",
    "__Ejemplos:__ Usando el DF anterior"
   ],
   "cell_type": "markdown",
   "metadata": {}
  },
  {
   "cell_type": "code",
   "execution_count": 30,
   "metadata": {
    "tags": []
   },
   "outputs": [
    {
     "output_type": "stream",
     "name": "stdout",
     "text": [
      "Documento\n---------------------------------\n0     100064169\n1     100363539\n2     107905013\n3       7432675\n4     100025427\n5     115715207\n6     100113849\n7      10008685\n8      10456246\n9      10001883\n10     10113589\n11     10075864\n12      1516857\n13     10031883\n14     10054782\n15     10078124\n16     10032997\n17      4271868\n18     10537010\n19     10016972\n20     10628816\n21     10651441\n22     10403569\n23     10081111\n24     10251071\n25     10477629\n26     10171337\nName: Documento, dtype: int64\n---------------------------------\nApellido1\n---------------------------------\n0       BOHORQUEZ\n1           CABRA\n2         CAICEDO\n3        CARDENAS\n4     CASTELLANOS\n5          CATANO\n6           DUQUE\n7           DUQUE\n8         GALEANO\n9         GIRALDO\n10          GOMEZ\n11          HENAO\n12      HERNANDEZ\n13          LAGOS\n14          MEJIA\n15          MEJIA\n16       MONSALVE\n17          ORTIZ\n18        PENAGOS\n19          PEREZ\n20       PULGARIN\n21           RIOS\n22           RUIZ\n23    SALDARRIAGA\n24       SASTOQUE\n25         VARGAS\n26         ZAPATA\nName: Apellido1, dtype: object\n---------------------------------\nApellido2\n---------------------------------\n0         CHACON\n1         PATINO\n2       MARTINEZ\n3     COLMENARES\n4       GONZALEZ\n5       MONSALVE\n6          HOYOS\n7       QUINTERO\n8          VAHOS\n9       CARDENAS\n10        POSADA\n11        CUERVO\n12         GOMEZ\n13        OSORIO\n14       FUENTES\n15      GONZALEZ\n16        TORRES\n17     VELASQUEZ\n18      GONZALEZ\n19         GOMEZ\n20       ESTRADA\n21         PEREZ\n22        GUERRA\n23          MAZO\n24      BUITRAGO\n25         ARIAS\n26     HERNANDEZ\nName: Apellido2, dtype: object\n---------------------------------\nNombre1\n---------------------------------\n0         DIEGO\n1      SANTIAGO\n2        YEIMAR\n3        MANUEL\n4         ANGIE\n5        JULIAN\n6        ANDRES\n7     SEBASTIAN\n8        JAVIER\n9       MARIANA\n10       CAMILO\n11        DAVID\n12         JUAN\n13         LUIS\n14         JUAN\n15       ANDRES\n16        SIMON\n17       GLADIS\n18         JUAN\n19        MATEO\n20         JUAN\n21      KATLEEN\n22        JORGE\n23        HEYDI\n24    SEBASTIAN\n25       DANIEL\n26     VENANCIO\nName: Nombre1, dtype: object\n---------------------------------\nNombre2\n---------------------------------\n0     ALEJANDRO\n1              \n2              \n3        ARAUJO\n4       DANIELA\n5              \n6        FELIPE\n7              \n8         DARIO\n9              \n10       ANDRES\n11       FELIPE\n12       CAMILO\n13     FERNANDO\n14       MANUEL\n15             \n16             \n17        JESUS\n18        PABLO\n19             \n20        DIEGO\n21       JOHANA\n22      IGNACIO\n23       DAYANA\n24          NaN\n25          NaN\n26          NaN\nName: Nombre2, dtype: object\n---------------------------------\nNota1\n---------------------------------\n0     0\n1     0\n2     2\n3     0\n4     1\n5     2\n6     3\n7     1\n8     0\n9     0\n10    3\n11    0\n12    4\n13    4\n14    1\n15    2\n16    3\n17    3\n18    4\n19    0\n20    0\n21    2\n22    0\n23    4\n24    0\n25    1\n26    3\nName: Nota1, dtype: int64\n---------------------------------\nNota2\n---------------------------------\n0     2\n1     2\n2     2\n3     4\n4     0\n5     2\n6     2\n7     0\n8     1\n9     4\n10    0\n11    3\n12    3\n13    3\n14    4\n15    2\n16    0\n17    4\n18    1\n19    1\n20    2\n21    0\n22    4\n23    3\n24    4\n25    3\n26    1\nName: Nota2, dtype: int64\n---------------------------------\nNota3\n---------------------------------\n0     4\n1     1\n2     1\n3     4\n4     2\n5     2\n6     4\n7     0\n8     2\n9     3\n10    2\n11    0\n12    1\n13    0\n14    4\n15    4\n16    0\n17    4\n18    1\n19    4\n20    1\n21    1\n22    3\n23    1\n24    1\n25    3\n26    2\nName: Nota3, dtype: int64\n---------------------------------\nNotaFinal\n---------------------------------\n0    NaN\n1    NaN\n2    NaN\n3    NaN\n4    NaN\n5    NaN\n6    NaN\n7    NaN\n8    NaN\n9    NaN\n10   NaN\n11   NaN\n12   NaN\n13   NaN\n14   NaN\n15   NaN\n16   NaN\n17   NaN\n18   NaN\n19   NaN\n20   NaN\n21   NaN\n22   NaN\n23   NaN\n24   NaN\n25   NaN\n26   NaN\nName: NotaFinal, dtype: float64\n---------------------------------\n"
     ]
    }
   ],
   "source": [
    "for key,value in List_DF.iteritems():\n",
    "    #Imprimo llaves\n",
    "    print(key)\n",
    "    print(\"---------------------------------\")\n",
    "    # El contenido de la llave\n",
    "    print(value)\n",
    "    print(\"---------------------------------\")"
   ]
  },
  {
   "cell_type": "code",
   "execution_count": 31,
   "metadata": {
    "tags": []
   },
   "outputs": [
    {
     "output_type": "stream",
     "name": "stdout",
     "text": [
      "0\n",
      "---------------------------------\n",
      "Documento    100064169\n",
      "Apellido1    BOHORQUEZ\n",
      "Apellido2       CHACON\n",
      "Nombre1          DIEGO\n",
      "Nombre2      ALEJANDRO\n",
      "Nota1                0\n",
      "Nota2                2\n",
      "Nota3                4\n",
      "NotaFinal          NaN\n",
      "Name: 0, dtype: object\n",
      "---------------------------------\n",
      "1\n",
      "---------------------------------\n",
      "Documento    100363539\n",
      "Apellido1        CABRA\n",
      "Apellido2       PATINO\n",
      "Nombre1       SANTIAGO\n",
      "Nombre2               \n",
      "Nota1                0\n",
      "Nota2                2\n",
      "Nota3                1\n",
      "NotaFinal          NaN\n",
      "Name: 1, dtype: object\n",
      "---------------------------------\n",
      "2\n",
      "---------------------------------\n",
      "Documento    107905013\n",
      "Apellido1      CAICEDO\n",
      "Apellido2     MARTINEZ\n",
      "Nombre1         YEIMAR\n",
      "Nombre2               \n",
      "Nota1                2\n",
      "Nota2                2\n",
      "Nota3                1\n",
      "NotaFinal          NaN\n",
      "Name: 2, dtype: object\n",
      "---------------------------------\n",
      "3\n",
      "---------------------------------\n",
      "Documento       7432675\n",
      "Apellido1      CARDENAS\n",
      "Apellido2    COLMENARES\n",
      "Nombre1          MANUEL\n",
      "Nombre2          ARAUJO\n",
      "Nota1                 0\n",
      "Nota2                 4\n",
      "Nota3                 4\n",
      "NotaFinal           NaN\n",
      "Name: 3, dtype: object\n",
      "---------------------------------\n",
      "4\n",
      "---------------------------------\n",
      "Documento      100025427\n",
      "Apellido1    CASTELLANOS\n",
      "Apellido2       GONZALEZ\n",
      "Nombre1            ANGIE\n",
      "Nombre2          DANIELA\n",
      "Nota1                  1\n",
      "Nota2                  0\n",
      "Nota3                  2\n",
      "NotaFinal            NaN\n",
      "Name: 4, dtype: object\n",
      "---------------------------------\n",
      "5\n",
      "---------------------------------\n",
      "Documento    115715207\n",
      "Apellido1       CATANO\n",
      "Apellido2     MONSALVE\n",
      "Nombre1         JULIAN\n",
      "Nombre2               \n",
      "Nota1                2\n",
      "Nota2                2\n",
      "Nota3                2\n",
      "NotaFinal          NaN\n",
      "Name: 5, dtype: object\n",
      "---------------------------------\n",
      "6\n",
      "---------------------------------\n",
      "Documento    100113849\n",
      "Apellido1        DUQUE\n",
      "Apellido2        HOYOS\n",
      "Nombre1         ANDRES\n",
      "Nombre2         FELIPE\n",
      "Nota1                3\n",
      "Nota2                2\n",
      "Nota3                4\n",
      "NotaFinal          NaN\n",
      "Name: 6, dtype: object\n",
      "---------------------------------\n",
      "7\n",
      "---------------------------------\n",
      "Documento     10008685\n",
      "Apellido1        DUQUE\n",
      "Apellido2     QUINTERO\n",
      "Nombre1      SEBASTIAN\n",
      "Nombre2               \n",
      "Nota1                1\n",
      "Nota2                0\n",
      "Nota3                0\n",
      "NotaFinal          NaN\n",
      "Name: 7, dtype: object\n",
      "---------------------------------\n",
      "8\n",
      "---------------------------------\n",
      "Documento    10456246\n",
      "Apellido1     GALEANO\n",
      "Apellido2       VAHOS\n",
      "Nombre1        JAVIER\n",
      "Nombre2         DARIO\n",
      "Nota1               0\n",
      "Nota2               1\n",
      "Nota3               2\n",
      "NotaFinal         NaN\n",
      "Name: 8, dtype: object\n",
      "---------------------------------\n",
      "9\n",
      "---------------------------------\n",
      "Documento    10001883\n",
      "Apellido1     GIRALDO\n",
      "Apellido2    CARDENAS\n",
      "Nombre1       MARIANA\n",
      "Nombre2              \n",
      "Nota1               0\n",
      "Nota2               4\n",
      "Nota3               3\n",
      "NotaFinal         NaN\n",
      "Name: 9, dtype: object\n",
      "---------------------------------\n",
      "10\n",
      "---------------------------------\n",
      "Documento    10113589\n",
      "Apellido1       GOMEZ\n",
      "Apellido2      POSADA\n",
      "Nombre1        CAMILO\n",
      "Nombre2        ANDRES\n",
      "Nota1               3\n",
      "Nota2               0\n",
      "Nota3               2\n",
      "NotaFinal         NaN\n",
      "Name: 10, dtype: object\n",
      "---------------------------------\n",
      "11\n",
      "---------------------------------\n",
      "Documento    10075864\n",
      "Apellido1       HENAO\n",
      "Apellido2      CUERVO\n",
      "Nombre1         DAVID\n",
      "Nombre2        FELIPE\n",
      "Nota1               0\n",
      "Nota2               3\n",
      "Nota3               0\n",
      "NotaFinal         NaN\n",
      "Name: 11, dtype: object\n",
      "---------------------------------\n",
      "12\n",
      "---------------------------------\n",
      "Documento      1516857\n",
      "Apellido1    HERNANDEZ\n",
      "Apellido2        GOMEZ\n",
      "Nombre1           JUAN\n",
      "Nombre2         CAMILO\n",
      "Nota1                4\n",
      "Nota2                3\n",
      "Nota3                1\n",
      "NotaFinal          NaN\n",
      "Name: 12, dtype: object\n",
      "---------------------------------\n",
      "13\n",
      "---------------------------------\n",
      "Documento    10031883\n",
      "Apellido1       LAGOS\n",
      "Apellido2      OSORIO\n",
      "Nombre1          LUIS\n",
      "Nombre2      FERNANDO\n",
      "Nota1               4\n",
      "Nota2               3\n",
      "Nota3               0\n",
      "NotaFinal         NaN\n",
      "Name: 13, dtype: object\n",
      "---------------------------------\n",
      "14\n",
      "---------------------------------\n",
      "Documento    10054782\n",
      "Apellido1       MEJIA\n",
      "Apellido2     FUENTES\n",
      "Nombre1          JUAN\n",
      "Nombre2        MANUEL\n",
      "Nota1               1\n",
      "Nota2               4\n",
      "Nota3               4\n",
      "NotaFinal         NaN\n",
      "Name: 14, dtype: object\n",
      "---------------------------------\n",
      "15\n",
      "---------------------------------\n",
      "Documento    10078124\n",
      "Apellido1       MEJIA\n",
      "Apellido2    GONZALEZ\n",
      "Nombre1        ANDRES\n",
      "Nombre2              \n",
      "Nota1               2\n",
      "Nota2               2\n",
      "Nota3               4\n",
      "NotaFinal         NaN\n",
      "Name: 15, dtype: object\n",
      "---------------------------------\n",
      "16\n",
      "---------------------------------\n",
      "Documento    10032997\n",
      "Apellido1    MONSALVE\n",
      "Apellido2      TORRES\n",
      "Nombre1         SIMON\n",
      "Nombre2              \n",
      "Nota1               3\n",
      "Nota2               0\n",
      "Nota3               0\n",
      "NotaFinal         NaN\n",
      "Name: 16, dtype: object\n",
      "---------------------------------\n",
      "17\n",
      "---------------------------------\n",
      "Documento      4271868\n",
      "Apellido1        ORTIZ\n",
      "Apellido2    VELASQUEZ\n",
      "Nombre1         GLADIS\n",
      "Nombre2          JESUS\n",
      "Nota1                3\n",
      "Nota2                4\n",
      "Nota3                4\n",
      "NotaFinal          NaN\n",
      "Name: 17, dtype: object\n",
      "---------------------------------\n",
      "18\n",
      "---------------------------------\n",
      "Documento    10537010\n",
      "Apellido1     PENAGOS\n",
      "Apellido2    GONZALEZ\n",
      "Nombre1          JUAN\n",
      "Nombre2         PABLO\n",
      "Nota1               4\n",
      "Nota2               1\n",
      "Nota3               1\n",
      "NotaFinal         NaN\n",
      "Name: 18, dtype: object\n",
      "---------------------------------\n",
      "19\n",
      "---------------------------------\n",
      "Documento    10016972\n",
      "Apellido1       PEREZ\n",
      "Apellido2       GOMEZ\n",
      "Nombre1         MATEO\n",
      "Nombre2              \n",
      "Nota1               0\n",
      "Nota2               1\n",
      "Nota3               4\n",
      "NotaFinal         NaN\n",
      "Name: 19, dtype: object\n",
      "---------------------------------\n",
      "20\n",
      "---------------------------------\n",
      "Documento    10628816\n",
      "Apellido1    PULGARIN\n",
      "Apellido2     ESTRADA\n",
      "Nombre1          JUAN\n",
      "Nombre2         DIEGO\n",
      "Nota1               0\n",
      "Nota2               2\n",
      "Nota3               1\n",
      "NotaFinal         NaN\n",
      "Name: 20, dtype: object\n",
      "---------------------------------\n",
      "21\n",
      "---------------------------------\n",
      "Documento    10651441\n",
      "Apellido1        RIOS\n",
      "Apellido2       PEREZ\n",
      "Nombre1       KATLEEN\n",
      "Nombre2        JOHANA\n",
      "Nota1               2\n",
      "Nota2               0\n",
      "Nota3               1\n",
      "NotaFinal         NaN\n",
      "Name: 21, dtype: object\n",
      "---------------------------------\n",
      "22\n",
      "---------------------------------\n",
      "Documento    10403569\n",
      "Apellido1        RUIZ\n",
      "Apellido2      GUERRA\n",
      "Nombre1         JORGE\n",
      "Nombre2       IGNACIO\n",
      "Nota1               0\n",
      "Nota2               4\n",
      "Nota3               3\n",
      "NotaFinal         NaN\n",
      "Name: 22, dtype: object\n",
      "---------------------------------\n",
      "23\n",
      "---------------------------------\n",
      "Documento       10081111\n",
      "Apellido1    SALDARRIAGA\n",
      "Apellido2           MAZO\n",
      "Nombre1            HEYDI\n",
      "Nombre2           DAYANA\n",
      "Nota1                  4\n",
      "Nota2                  3\n",
      "Nota3                  1\n",
      "NotaFinal            NaN\n",
      "Name: 23, dtype: object\n",
      "---------------------------------\n",
      "24\n",
      "---------------------------------\n",
      "Documento     10251071\n",
      "Apellido1     SASTOQUE\n",
      "Apellido2     BUITRAGO\n",
      "Nombre1      SEBASTIAN\n",
      "Nombre2            NaN\n",
      "Nota1                0\n",
      "Nota2                4\n",
      "Nota3                1\n",
      "NotaFinal          NaN\n",
      "Name: 24, dtype: object\n",
      "---------------------------------\n",
      "25\n",
      "---------------------------------\n",
      "Documento    10477629\n",
      "Apellido1      VARGAS\n",
      "Apellido2       ARIAS\n",
      "Nombre1        DANIEL\n",
      "Nombre2           NaN\n",
      "Nota1               1\n",
      "Nota2               3\n",
      "Nota3               3\n",
      "NotaFinal         NaN\n",
      "Name: 25, dtype: object\n",
      "---------------------------------\n",
      "26\n",
      "---------------------------------\n",
      "Documento     10171337\n",
      "Apellido1       ZAPATA\n",
      "Apellido2    HERNANDEZ\n",
      "Nombre1       VENANCIO\n",
      "Nombre2            NaN\n",
      "Nota1                3\n",
      "Nota2                1\n",
      "Nota3                2\n",
      "NotaFinal          NaN\n",
      "Name: 26, dtype: object\n",
      "---------------------------------\n"
     ]
    }
   ],
   "source": [
    "#Itera sobre los indices de las filas, y el valor\n",
    "for row_index,row in List_DF.iterrows():\n",
    "    print(row_index)\n",
    "    print(\"---------------------------------\")\n",
    "    print(row)\n",
    "    print(\"---------------------------------\")"
   ]
  },
  {
   "cell_type": "code",
   "execution_count": 32,
   "metadata": {
    "tags": []
   },
   "outputs": [
    {
     "output_type": "stream",
     "name": "stdout",
     "text": [
      "Pandas(Index=0, Documento=100064169, Apellido1='BOHORQUEZ', Apellido2='CHACON', Nombre1='DIEGO', Nombre2='ALEJANDRO', Nota1=0, Nota2=2, Nota3=4, NotaFinal=nan) \n\nPandas(Index=1, Documento=100363539, Apellido1='CABRA', Apellido2='PATINO', Nombre1='SANTIAGO', Nombre2='', Nota1=0, Nota2=2, Nota3=1, NotaFinal=nan) \n\nPandas(Index=2, Documento=107905013, Apellido1='CAICEDO', Apellido2='MARTINEZ', Nombre1='YEIMAR', Nombre2='', Nota1=2, Nota2=2, Nota3=1, NotaFinal=nan) \n\nPandas(Index=3, Documento=7432675, Apellido1='CARDENAS', Apellido2='COLMENARES', Nombre1='MANUEL', Nombre2='ARAUJO', Nota1=0, Nota2=4, Nota3=4, NotaFinal=nan) \n\nPandas(Index=4, Documento=100025427, Apellido1='CASTELLANOS', Apellido2='GONZALEZ', Nombre1='ANGIE', Nombre2='DANIELA', Nota1=1, Nota2=0, Nota3=2, NotaFinal=nan) \n\nPandas(Index=5, Documento=115715207, Apellido1='CATANO', Apellido2='MONSALVE', Nombre1='JULIAN', Nombre2='', Nota1=2, Nota2=2, Nota3=2, NotaFinal=nan) \n\nPandas(Index=6, Documento=100113849, Apellido1='DUQUE', Apellido2='HOYOS', Nombre1='ANDRES', Nombre2='FELIPE', Nota1=3, Nota2=2, Nota3=4, NotaFinal=nan) \n\nPandas(Index=7, Documento=10008685, Apellido1='DUQUE', Apellido2='QUINTERO', Nombre1='SEBASTIAN', Nombre2='', Nota1=1, Nota2=0, Nota3=0, NotaFinal=nan) \n\nPandas(Index=8, Documento=10456246, Apellido1='GALEANO', Apellido2='VAHOS', Nombre1='JAVIER', Nombre2='DARIO', Nota1=0, Nota2=1, Nota3=2, NotaFinal=nan) \n\nPandas(Index=9, Documento=10001883, Apellido1='GIRALDO', Apellido2='CARDENAS', Nombre1='MARIANA', Nombre2='', Nota1=0, Nota2=4, Nota3=3, NotaFinal=nan) \n\nPandas(Index=10, Documento=10113589, Apellido1='GOMEZ', Apellido2='POSADA', Nombre1='CAMILO', Nombre2='ANDRES', Nota1=3, Nota2=0, Nota3=2, NotaFinal=nan) \n\nPandas(Index=11, Documento=10075864, Apellido1='HENAO', Apellido2='CUERVO', Nombre1='DAVID', Nombre2='FELIPE', Nota1=0, Nota2=3, Nota3=0, NotaFinal=nan) \n\nPandas(Index=12, Documento=1516857, Apellido1='HERNANDEZ', Apellido2='GOMEZ', Nombre1='JUAN', Nombre2='CAMILO', Nota1=4, Nota2=3, Nota3=1, NotaFinal=nan) \n\nPandas(Index=13, Documento=10031883, Apellido1='LAGOS', Apellido2='OSORIO', Nombre1='LUIS', Nombre2='FERNANDO', Nota1=4, Nota2=3, Nota3=0, NotaFinal=nan) \n\nPandas(Index=14, Documento=10054782, Apellido1='MEJIA', Apellido2='FUENTES', Nombre1='JUAN', Nombre2='MANUEL', Nota1=1, Nota2=4, Nota3=4, NotaFinal=nan) \n\nPandas(Index=15, Documento=10078124, Apellido1='MEJIA', Apellido2='GONZALEZ', Nombre1='ANDRES', Nombre2='', Nota1=2, Nota2=2, Nota3=4, NotaFinal=nan) \n\nPandas(Index=16, Documento=10032997, Apellido1='MONSALVE', Apellido2='TORRES', Nombre1='SIMON', Nombre2='', Nota1=3, Nota2=0, Nota3=0, NotaFinal=nan) \n\nPandas(Index=17, Documento=4271868, Apellido1='ORTIZ', Apellido2='VELASQUEZ', Nombre1='GLADIS', Nombre2='JESUS', Nota1=3, Nota2=4, Nota3=4, NotaFinal=nan) \n\nPandas(Index=18, Documento=10537010, Apellido1='PENAGOS', Apellido2='GONZALEZ', Nombre1='JUAN', Nombre2='PABLO', Nota1=4, Nota2=1, Nota3=1, NotaFinal=nan) \n\nPandas(Index=19, Documento=10016972, Apellido1='PEREZ', Apellido2='GOMEZ', Nombre1='MATEO', Nombre2='', Nota1=0, Nota2=1, Nota3=4, NotaFinal=nan) \n\nPandas(Index=20, Documento=10628816, Apellido1='PULGARIN', Apellido2='ESTRADA', Nombre1='JUAN', Nombre2='DIEGO', Nota1=0, Nota2=2, Nota3=1, NotaFinal=nan) \n\nPandas(Index=21, Documento=10651441, Apellido1='RIOS', Apellido2='PEREZ', Nombre1='KATLEEN', Nombre2='JOHANA', Nota1=2, Nota2=0, Nota3=1, NotaFinal=nan) \n\nPandas(Index=22, Documento=10403569, Apellido1='RUIZ', Apellido2='GUERRA', Nombre1='JORGE', Nombre2='IGNACIO', Nota1=0, Nota2=4, Nota3=3, NotaFinal=nan) \n\nPandas(Index=23, Documento=10081111, Apellido1='SALDARRIAGA', Apellido2='MAZO', Nombre1='HEYDI', Nombre2='DAYANA', Nota1=4, Nota2=3, Nota3=1, NotaFinal=nan) \n\nPandas(Index=24, Documento=10251071, Apellido1='SASTOQUE', Apellido2='BUITRAGO', Nombre1='SEBASTIAN', Nombre2=nan, Nota1=0, Nota2=4, Nota3=1, NotaFinal=nan) \n\nPandas(Index=25, Documento=10477629, Apellido1='VARGAS', Apellido2='ARIAS', Nombre1='DANIEL', Nombre2=nan, Nota1=1, Nota2=3, Nota3=3, NotaFinal=nan) \n\nPandas(Index=26, Documento=10171337, Apellido1='ZAPATA', Apellido2='HERNANDEZ', Nombre1='VENANCIO', Nombre2=nan, Nota1=3, Nota2=1, Nota3=2, NotaFinal=nan) \n\n"
     ]
    }
   ],
   "source": [
    "#Itera simplemete sobre la fila\n",
    "for row in List_DF.itertuples():\n",
    "    print(row,'\\n')"
   ]
  },
  {
   "source": [
    "## Clasificación\n",
    "Hay dos formas de clasificación en pandas, usando las etiquetas `sort_index()` y usando los valores `sort_values()`.\n",
    "\n",
    "### Por Etiquetas:\n",
    "\n",
    "__Ejemplo:__"
   ],
   "cell_type": "markdown",
   "metadata": {}
  },
  {
   "cell_type": "code",
   "execution_count": 33,
   "metadata": {
    "tags": []
   },
   "outputs": [
    {
     "output_type": "stream",
     "name": "stdout",
     "text": [
      "       col1      col2      col3\n9 -0.975675 -0.340279  0.300939\n8  0.277723 -1.389186 -0.266570\n7  0.207885 -0.032008  1.992937\n6  0.151529 -1.176947  0.430692\n5 -0.691784  0.122266 -0.910900\n4 -1.093109 -0.222512 -0.580993\n3 -0.085925  0.838165  0.565605\n2 -0.704227  0.290640 -0.316406\n1 -2.581657 -1.257559 -0.825738\n0  0.022991  2.633983 -0.440371\n"
     ]
    }
   ],
   "source": [
    "RandomDataFrame = pd.DataFrame(np.random.randn(10,3),columns=['col1','col2','col3'])\n",
    "DF_Ordenado = RandomDataFrame.sort_index(ascending=False)\n",
    "print(DF_Ordenado)"
   ]
  },
  {
   "source": [
    "Al pasar el argumento del eje con un valor 0 o 1, la clasificación se puede realizar en las etiquetas de las columnas (`axis=0` Por defecto).\n",
    "\n",
    "__Ejemplo:__"
   ],
   "cell_type": "markdown",
   "metadata": {}
  },
  {
   "cell_type": "code",
   "execution_count": 34,
   "metadata": {
    "tags": []
   },
   "outputs": [
    {
     "output_type": "stream",
     "name": "stdout",
     "text": [
      "       col1      col2      col3\n0  0.022991  2.633983 -0.440371\n1 -2.581657 -1.257559 -0.825738\n2 -0.704227  0.290640 -0.316406\n3 -0.085925  0.838165  0.565605\n4 -1.093109 -0.222512 -0.580993\n5 -0.691784  0.122266 -0.910900\n6  0.151529 -1.176947  0.430692\n7  0.207885 -0.032008  1.992937\n8  0.277723 -1.389186 -0.266570\n9 -0.975675 -0.340279  0.300939\n--------------------------------\n       col3      col2      col1\n0 -0.440371  2.633983  0.022991\n1 -0.825738 -1.257559 -2.581657\n2 -0.316406  0.290640 -0.704227\n3  0.565605  0.838165 -0.085925\n4 -0.580993 -0.222512 -1.093109\n5 -0.910900  0.122266 -0.691784\n6  0.430692 -1.176947  0.151529\n7  1.992937 -0.032008  0.207885\n8 -0.266570 -1.389186  0.277723\n9  0.300939 -0.340279 -0.975675\n"
     ]
    }
   ],
   "source": [
    "#Este es el orden normal por etiqueta\n",
    "DF_Ordenado_0 = RandomDataFrame.sort_index(axis=0)\n",
    "print(DF_Ordenado_0)\n",
    "print(\"--------------------------------\")\n",
    "#Cambia el orden de las columnas\n",
    "DF_Ordenado_1 = RandomDataFrame.sort_index(axis=1,ascending=False)\n",
    "print(DF_Ordenado_1)"
   ]
  },
  {
   "source": [
    "### Por Valor\n",
    "\n",
    "`sort_values​​()` es el método para clasificar por valores. Acepta un argumento `by` que utilizará el nombre de columna del DataFrame con el que se ordenarán los valores.\n",
    "\n",
    "__Ejemplo:__"
   ],
   "cell_type": "markdown",
   "metadata": {}
  },
  {
   "cell_type": "code",
   "execution_count": 35,
   "metadata": {
    "tags": []
   },
   "outputs": [
    {
     "output_type": "stream",
     "name": "stdout",
     "text": [
      "       col1      col2      col3\n0 -0.132155 -0.270913 -1.155414\n1  0.476236  1.238734  0.268581\n2  1.313335 -1.181399 -0.802071\n3  1.529547 -0.631765  0.299760\n4  0.392369  0.468817 -1.056699\n5  2.681380 -0.491746 -1.192600\n6 -1.458826 -0.310664 -0.397957\n7  1.313602 -0.400679 -0.620010\n8  0.274030 -0.724735  0.101084\n9  0.099981 -0.734931 -0.986823\n--------------------------------\n       col1      col2      col3\n3  1.529547 -0.631765  0.299760\n1  0.476236  1.238734  0.268581\n8  0.274030 -0.724735  0.101084\n6 -1.458826 -0.310664 -0.397957\n7  1.313602 -0.400679 -0.620010\n2  1.313335 -1.181399 -0.802071\n9  0.099981 -0.734931 -0.986823\n4  0.392369  0.468817 -1.056699\n0 -0.132155 -0.270913 -1.155414\n5  2.681380 -0.491746 -1.192600\n"
     ]
    }
   ],
   "source": [
    "RandomDataFrame = pd.DataFrame(np.random.randn(10,3),columns=['col1','col2','col3'])\n",
    "#Sin ordenar\n",
    "print(RandomDataFrame)\n",
    "print(\"--------------------------------\")\n",
    "#Se ordenan los datos respecto a la col3\n",
    "DF_Ordenado_Valor_col3 = RandomDataFrame.sort_values(ascending=False,by=\"col3\")\n",
    "print(DF_Ordenado_Valor_col3)"
   ]
  },
  {
   "cell_type": "code",
   "execution_count": null,
   "metadata": {},
   "outputs": [],
   "source": []
  }
 ]
}