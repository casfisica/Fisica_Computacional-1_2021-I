{
 "metadata": {
  "language_info": {
   "codemirror_mode": {
    "name": "ipython",
    "version": 3
   },
   "file_extension": ".py",
   "mimetype": "text/x-python",
   "name": "python",
   "nbconvert_exporter": "python",
   "pygments_lexer": "ipython3",
   "version": "3.8.5-final"
  },
  "orig_nbformat": 2,
  "kernelspec": {
   "name": "python_defaultSpec_1598880616205",
   "display_name": "Python 3.8.5 64-bit"
  }
 },
 "nbformat": 4,
 "nbformat_minor": 2,
 "cells": [
  {
   "cell_type": "markdown",
   "metadata": {},
   "source": [
    "# Ejercicios de Python Basico Y GitHub\n",
    "\n",
    "## Funciones\n",
    "\n",
    "Una función es un bloque de código que se piensa de manera que se pueda reutilizar muchas veces mas. Las funciones son la base de la programación modular\n",
    "\n",
    "### Definir una función en Python 3\n",
    "\n",
    "- Se comienza por la palabra reservada def seguida por el nombre de la funcion y entre parentecis los argumentos (si tiene) separados por comas (si aplica).\n",
    "- La primera parte del bloque se sugiere que sea la ayuda de la función, entre comillas dobles. Esto es una descripción breve de que es lo que hace la función, y de los parámetros que recibe.\n",
    "- No se debe de olvidar la indentación y los dos puntos luego del nombre y los parámetros.\n",
    "- El argumento return sirve para retornar un valor al programa que llama a la función, y es opcional(return None).\n",
    "\n",
    "__Ejemplo:__\n",
    "\n"
   ]
  },
  {
   "cell_type": "code",
   "execution_count": 1,
   "metadata": {},
   "outputs": [],
   "source": [
    "def printstr( str ):\n",
    "   \"\"\"Imprime la cadena de caracteres que se le pase sin espacios\"\"\"\n",
    "   print(str.replace(\" \",\"\"))\n",
    "   return"
   ]
  },
  {
   "cell_type": "code",
   "execution_count": 2,
   "metadata": {
    "tags": []
   },
   "outputs": [
    {
     "output_type": "stream",
     "name": "stdout",
     "text": "HolaAmigosComoVan?\n"
    }
   ],
   "source": [
    "printstr(\"Hola Amigos Como Van?\")"
   ]
  },
  {
   "cell_type": "markdown",
   "metadata": {},
   "source": [
    "### Paso por referencia\n",
    "\n",
    "Todas las variables en python se pasan por referencia, luego si una variable se pone como argumento en una función, ésta podrá modificar el valor de dicha variable de manera interna.\n",
    "\n",
    "__Ejemplo:__"
   ]
  },
  {
   "cell_type": "code",
   "execution_count": 3,
   "metadata": {
    "tags": []
   },
   "outputs": [
    {
     "output_type": "stream",
     "name": "stdout",
     "text": "Valores fuera de la función  [10, 20, 30]\nValores dentro de la función:  [20, 40, 60]\nValores fuera de la función:  [20, 40, 60]\n"
    }
   ],
   "source": [
    "# Definición de la función\n",
    "def Duplica( lista ):\n",
    "   \"\"\"Función que duplica los valores de una lista dada\"\"\"\n",
    "   print (\"Valores fuera de la función \", lista)\n",
    "   for i in range(len(lista)):\n",
    "     lista[i]=2*lista[i]\n",
    "   print (\"Valores dentro de la función: \", lista)\n",
    "   return\n",
    "\n",
    "# Ahora se llama a la función Duplica \n",
    "mi_lista = [10,20,30]\n",
    "Duplica( mi_lista )\n",
    "print (\"Valores fuera de la función: \", mi_lista)"
   ]
  },
  {
   "cell_type": "markdown",
   "metadata": {},
   "source": [
    "### Argumentos de las funciones\n",
    "Se construir funciones con diferentes tipos de argumentos.\n",
    "\n",
    "1.  Argumentos obligatorios.\n",
    "2.  Argumentos keyword.\n",
    "3.  Argumentos por defecto.\n",
    "4.  Argumentos de longitud variable."
   ]
  },
  {
   "cell_type": "markdown",
   "metadata": {},
   "source": [
    "#### Argumentos obligatorios\n",
    "Son los argumentos que deben de ser pasados a la función en número y orden estricto, porque de otro modo saldrá un error de sintaxis.\n",
    "\n",
    "__Ejemplo:__"
   ]
  },
  {
   "cell_type": "code",
   "execution_count": 4,
   "metadata": {},
   "outputs": [],
   "source": [
    "def Cuenta( str ):\n",
    "    \"\"\"Cuenta el número de letras que tiene una cadena de caracteres y las imprime en orden\"\"\"\n",
    "\n",
    "    print (\"Tamaño: \",len(str))\n",
    "    n=1  \n",
    "    for i in str:\n",
    "        print(n,\": \",i)\n",
    "    return"
   ]
  },
  {
   "cell_type": "code",
   "execution_count": 5,
   "metadata": {},
   "outputs": [
    {
     "output_type": "error",
     "ename": "TypeError",
     "evalue": "Cuenta() missing 1 required positional argument: 'str'",
     "traceback": [
      "\u001b[0;31m---------------------------------------------------------------------------\u001b[0m",
      "\u001b[0;31mTypeError\u001b[0m                                 Traceback (most recent call last)",
      "\u001b[0;32m<ipython-input-5-bd3c0c7ff14d>\u001b[0m in \u001b[0;36m<module>\u001b[0;34m\u001b[0m\n\u001b[1;32m      1\u001b[0m \u001b[0;31m#Al ejecutar ésta función sin argumento se tiene un error\u001b[0m\u001b[0;34m\u001b[0m\u001b[0;34m\u001b[0m\u001b[0;34m\u001b[0m\u001b[0m\n\u001b[0;32m----> 2\u001b[0;31m \u001b[0mCuenta\u001b[0m\u001b[0;34m(\u001b[0m\u001b[0;34m)\u001b[0m\u001b[0;34m\u001b[0m\u001b[0;34m\u001b[0m\u001b[0m\n\u001b[0m",
      "\u001b[0;31mTypeError\u001b[0m: Cuenta() missing 1 required positional argument: 'str'"
     ]
    }
   ],
   "source": [
    "#Al ejecutar ésta función sin argumento se tiene un error\n",
    "Cuenta()"
   ]
  },
  {
   "cell_type": "code",
   "execution_count": 6,
   "metadata": {
    "tags": []
   },
   "outputs": [
    {
     "output_type": "stream",
     "name": "stdout",
     "text": "Tamaño:  6\n1 :  C\n1 :  a\n1 :  m\n1 :  i\n1 :  l\n1 :  o\n"
    }
   ],
   "source": [
    "#Al ejecutar ésta función con el argumento correcto\n",
    "Cuenta(\"Camilo\")"
   ]
  },
  {
   "cell_type": "markdown",
   "metadata": {},
   "source": [
    "#### Argumentos llave\n",
    "Estos argumentos están relacionados con la llamada de la función. Esto permite usar algunos de los argumentos, y ponerlos en orden diferente del de la definición.\n",
    "\n",
    "__Ejemplo:__"
   ]
  },
  {
   "cell_type": "code",
   "execution_count": 7,
   "metadata": {},
   "outputs": [],
   "source": [
    "# Definición de la función\n",
    "def printinfo(nombre, edad):\n",
    "   \"\"\"Imprime lo que se le pase\"\"\"\n",
    "   print(\"Nombre: \", nombre)\n",
    "   print(\"Age   : \", edad)\n",
    "   return;"
   ]
  },
  {
   "cell_type": "code",
   "execution_count": 8,
   "metadata": {
    "tags": []
   },
   "outputs": [
    {
     "output_type": "stream",
     "name": "stdout",
     "text": "Nombre:  camilo\nAge   :  32\n"
    }
   ],
   "source": [
    "# Se llama la función, con el orden de las entradas trocadas, pero bien identificadas con la llave.\n",
    "printinfo(edad=32, nombre=\"camilo\")"
   ]
  },
  {
   "cell_type": "markdown",
   "metadata": {},
   "source": [
    "#### Argumentos por defecto\n",
    "Son argumentos que tienen un valor asignado desde la definición de la función\n",
    "\n",
    "__Ejemplo:__\n"
   ]
  },
  {
   "cell_type": "code",
   "execution_count": 9,
   "metadata": {},
   "outputs": [],
   "source": [
    "# Definición de la función\n",
    "def printinfo2(nombre, edad, sexo = \"Masculino\"):\n",
    "    \"Imprime lo que se le pase\"\n",
    "    print (\"Nombre: \", nombre)\n",
    "    print (\"Age   : \", edad)\n",
    "    print (\"Sexo  : \", sexo)\n",
    "    return;"
   ]
  },
  {
   "cell_type": "code",
   "execution_count": 10,
   "metadata": {
    "tags": []
   },
   "outputs": [
    {
     "output_type": "stream",
     "name": "stdout",
     "text": "Nombre:  Andrea\nAge   :  22\nSexo  :  Femenino\n"
    }
   ],
   "source": [
    "# Se llama la función con argumentos completos\n",
    "printinfo2(\"Andrea\", 22, \"Femenino\")"
   ]
  },
  {
   "cell_type": "code",
   "execution_count": 11,
   "metadata": {
    "tags": []
   },
   "outputs": [
    {
     "output_type": "stream",
     "name": "stdout",
     "text": "Nombre:  Camilo\nAge   :  36\nSexo  :  Masculino\n"
    }
   ],
   "source": [
    "# Se llama la función sin el último argumento\n",
    "printinfo2(\"Camilo\", 36)"
   ]
  },
  {
   "cell_type": "markdown",
   "metadata": {},
   "source": [
    "#### Argumentos de longitud variable\n",
    "Hay ocasiones donde una función puede necesitar mas argumentos de los que se declaran en la definición.\n",
    "\n",
    "__Ejemplo:__"
   ]
  },
  {
   "cell_type": "code",
   "execution_count": 12,
   "metadata": {},
   "outputs": [],
   "source": [
    "# Definición de la función\n",
    "def Suma( arg1=0, arg2=0 , *vartuple ):\n",
    "   \"Suma todas los argumentos\"\n",
    "   suma=arg1 + arg2\n",
    "   for var in vartuple:\n",
    "      suma=suma+var\n",
    "   return suma"
   ]
  },
  {
   "cell_type": "code",
   "execution_count": 13,
   "metadata": {},
   "outputs": [
    {
     "output_type": "execute_result",
     "data": {
      "text/plain": "22"
     },
     "metadata": {},
     "execution_count": 13
    }
   ],
   "source": [
    "# Aqui se usa la función Suma con la cantidad \"normal\" de argumentos\n",
    "Suma(10, 12)\n"
   ]
  },
  {
   "cell_type": "code",
   "execution_count": 14,
   "metadata": {},
   "outputs": [
    {
     "output_type": "execute_result",
     "data": {
      "text/plain": "421"
     },
     "metadata": {},
     "execution_count": 14
    }
   ],
   "source": [
    "# Aqui se usa la función Suma con la cantidad \"extendida\" de argumentos\n",
    "Suma(70, 60, 50, 11, 200, 30)"
   ]
  },
  {
   "cell_type": "markdown",
   "metadata": {},
   "source": [
    "### Alcance (scope) de las variables\n",
    "No todas las variables pueden utilizar (leer, escribir), desde cualquier punto del programa. El alcance de las variables es desde donde o en donde es accesible por el programa, y depende de en que punto de éste fue declarada.\n",
    "Dependiendo del alcance se puede clasificar las variables (de python) en dos tipos:\n",
    "- Globales: Son las que se pueden ver en el cuerpo del programa o script.\n",
    "- Locales:Son las variables definidas dentro de una función, y a menos que se especifique lo contrario, no pueden ser vistas (leída o escrita) desde fuera de dicha función\n",
    "\n",
    "__Ejemplo:__"
   ]
  },
  {
   "cell_type": "code",
   "execution_count": 15,
   "metadata": {},
   "outputs": [],
   "source": [
    "# Definición de la función\n",
    "def sum( arg1, arg2 ):\n",
    "   # Suma los argumentos arg1 y arg2, imprime el valor de total(local), y entrega total.\"\n",
    "   total = arg1 + arg2 + Mi_Variable\n",
    "   print(\"Mi_Variable = \", Mi_Variable)\n",
    "   print (\"Total Local = \", total)\n",
    "   return total"
   ]
  },
  {
   "cell_type": "code",
   "execution_count": 16,
   "metadata": {},
   "outputs": [],
   "source": [
    "#Si defino la variable en el cuerpo del módulo (en el archivo .py o .ipynb en este caso), todas las funciones tienen acceso a ella. \n",
    "Mi_Variable=4"
   ]
  },
  {
   "cell_type": "code",
   "execution_count": 17,
   "metadata": {
    "tags": []
   },
   "outputs": [
    {
     "output_type": "stream",
     "name": "stdout",
     "text": "Mi_Variable =  4\nTotal Local =  7\n"
    },
    {
     "output_type": "execute_result",
     "data": {
      "text/plain": "7"
     },
     "metadata": {},
     "execution_count": 17
    }
   ],
   "source": [
    "#La función puede acceder a Mi_Variable\n",
    "sum(1,2)"
   ]
  },
  {
   "cell_type": "code",
   "execution_count": 18,
   "metadata": {},
   "outputs": [
    {
     "output_type": "error",
     "ename": "NameError",
     "evalue": "name 'total' is not defined",
     "traceback": [
      "\u001b[0;31m---------------------------------------------------------------------------\u001b[0m",
      "\u001b[0;31mNameError\u001b[0m                                 Traceback (most recent call last)",
      "\u001b[0;32m<ipython-input-18-6ba3a1ee36c7>\u001b[0m in \u001b[0;36m<module>\u001b[0;34m\u001b[0m\n\u001b[1;32m      1\u001b[0m \u001b[0;31m# Pero desde fuera de la función no se puede acceder a la variable total\u001b[0m\u001b[0;34m\u001b[0m\u001b[0;34m\u001b[0m\u001b[0;34m\u001b[0m\u001b[0m\n\u001b[0;32m----> 2\u001b[0;31m \u001b[0mprint\u001b[0m\u001b[0;34m(\u001b[0m\u001b[0mtotal\u001b[0m\u001b[0;34m)\u001b[0m\u001b[0;34m\u001b[0m\u001b[0;34m\u001b[0m\u001b[0m\n\u001b[0m",
      "\u001b[0;31mNameError\u001b[0m: name 'total' is not defined"
     ]
    }
   ],
   "source": [
    "# Pero desde fuera de la función no se puede acceder a la variable total\n",
    "print(total)"
   ]
  },
  {
   "cell_type": "markdown",
   "metadata": {},
   "source": [
    "## Módulos\n",
    "Un modulo es un archivo que contiene variables, funciones, clases, objetos e incluso programas principales, que permiten organizar el código de un programa de una manera más inteligible.\n",
    "\n",
    "__Ejemplo:__ En un archivo llamado new_func.py, está la siguiente definición de función\n",
    "\n",
    "```python\n",
    "def Multi( arg1=0, arg2=0 , *vartuple ):\n",
    "   \"Multiplica todos los argumentos\"\n",
    "   produc=arg1*arg2\n",
    " \n",
    "   for var in vartuple:\n",
    "      produc=produc*var\n",
    "   return produc\n",
    "\n",
    "```"
   ]
  },
  {
   "cell_type": "markdown",
   "metadata": {},
   "source": [
    "### La palabra reservada import\n",
    "\n",
    "Se puede usar cualquier código hecho en python como módulo, haciendo un import desde otro código, script o programa en pyton. esto es import modulo.\n",
    "\n",
    "Cuando el interprete se encuentra la palabra import, importa dicho modulo o módulos desde los directorios de búsqueda por defecto.\n",
    "\n",
    "__Ejemplo:__ Si se tiene el archivo new_func.py donde está definida la función Multi, esta se puede importar desde otro script, para ser usada\n"
   ]
  },
  {
   "cell_type": "code",
   "execution_count": 19,
   "metadata": {},
   "outputs": [
    {
     "output_type": "execute_result",
     "data": {
      "text/plain": "720"
     },
     "metadata": {},
     "execution_count": 19
    }
   ],
   "source": [
    "# Se importa el modulo new_func\n",
    "import new_func\n",
    "\n",
    "# Ahora se puede usar el código dentro de ese módulo en el nuevo programa\n",
    "new_func.Multi(2,3,4,5,6)"
   ]
  },
  {
   "cell_type": "markdown",
   "metadata": {},
   "source": [
    "### La palabra reservada from...import\n",
    "Esta expresión es usada cuando de determinado módulo solo se necesita algunas de los elementos que contiene.\n",
    "\n",
    "__Ejemplo:__ En el módulo new_func está la función fibo, dicha función recibe un entero n, y entrega una lista con los números de la serie de Fibonacci menores que n.\n",
    "\n",
    "```\n",
    "def fib(n):\n",
    "    \"Recibe un entero n, y entrega una lista con los números de fibonacci menores que n\"\n",
    "    result = []\n",
    "    a, b = 0, 1\n",
    "    while b < n:\n",
    "        result.append(b)\n",
    "        a, b = b, a+b\n",
    "    return result\n",
    "```\n",
    "\n",
    "Si se quiere hacer un script que sume los números Fibonacci menores que el número 100, entonces:"
   ]
  },
  {
   "cell_type": "code",
   "execution_count": 20,
   "metadata": {
    "tags": []
   },
   "outputs": [
    {
     "output_type": "stream",
     "name": "stdout",
     "text": "la suma de los números de Fibonacci menores que 100 es: 232\n"
    }
   ],
   "source": [
    "from new_func import Fib#Se importa la función fib desde el modulo new_func\n",
    "serie=Fib(100)  #La variable serie se llena con la serie de fibonacci hasta antes de 100\n",
    "sum=0\n",
    "for i in serie:\n",
    "    sum=sum+i\n",
    "\n",
    "print('la suma de los números de Fibonacci menores que 100 es:',sum)"
   ]
  },
  {
   "cell_type": "markdown",
   "metadata": {
    "tags": []
   },
   "source": [
    "Hay que notar que al usar \"from...import\" no se importa ningún otro item (objeto, variable, función...) desde el módulo new_func, y también hay que tener en cuenta que la función \"Fib\" se llama directamente y no por medio del operador \".\"(punto).\n",
    "\n",
    "### La palabra reservada from...import*\n",
    "Otro uso de \"from...import\" es el de importar todos los elementos de determinado módulo. Si se usa de esta manera, todos los elementos del módulo se van a cargar al programa y se podrán llamar directamente.\n",
    "\n",
    "__Ejemplo:__ resescribiendo el código que resuelve el problema del ejemplo anterior es, usando las funciones que están en el módulo new_func:"
   ]
  },
  {
   "cell_type": "code",
   "execution_count": 21,
   "metadata": {
    "tags": []
   },
   "outputs": [
    {
     "output_type": "stream",
     "name": "stdout",
     "text": "la suma de los números de Fibonacci menores que 100 es: 232\n"
    }
   ],
   "source": [
    "#Importo el módulo\n",
    "from new_func import *\n",
    "Lista = Fib(100)   #Se le asigna a \"Lista\" una lista con los números de fibonacci menores que 100.\n",
    "SumaFibo = SumLis(Lista)   #Uso la función SumLis para sumar las componentes de la lista \"Lista\", y se las asigno a SumaFibo\n",
    "print(\"la suma de los números de Fibonacci menores que 100 es:\" , SumaFibo)"
   ]
  },
  {
   "cell_type": "markdown",
   "metadata": {},
   "source": [
    "### Ejecutar módulos como un script\n",
    "\n",
    "Si un código se ejecuta como un modulo, el nombre de este está disponible en la variable global __name__ . Pero si este se ejecuta directamente entonces ésta variable tendrá el valor ;<par>__name__ = \"__main__\"</par>. Así si se quiere que el módulo ejecute algunas acciones al ser llamado como script, entonces se ponen dichas acciones después de un condicional.\n",
    "\n",
    "\n",
    "__Ejemplo:__ estas lineas en el módulo se ejcutan si se llama el script directamente \n",
    "```\n",
    "if __name__ == \"__main__\":\n",
    "    print(\"Módulo new_func como script\")\n",
    "```\n"
   ]
  },
  {
   "cell_type": "code",
   "execution_count": 22,
   "metadata": {
    "tags": []
   },
   "outputs": [
    {
     "output_type": "stream",
     "name": "stdout",
     "text": "Módulo new_func como script\n"
    }
   ],
   "source": [
    "#Correr new_func como script\n",
    "%run -i 'new_func.py'"
   ]
  },
  {
   "cell_type": "markdown",
   "metadata": {},
   "source": [
    "## Entrada, Salida y Archivos.\n",
    "Maneras en que el usuario interaccionar con el programa o script.\n",
    "\n",
    "### Mostrar texto en pantalla\n",
    "\n",
    "La manera mas sencilla de obtener una salida desde la pantalla, es por medio del comando print.\n",
    "\n",
    "__Ejemplos:__ Cuando se usa ```print()``` sin argumentos, se obtiene una nueva linea en blanco, pero tambien se puede usar el string que representa un salto de linea ```\"/n\"```\n"
   ]
  },
  {
   "cell_type": "code",
   "execution_count": 23,
   "metadata": {
    "tags": []
   },
   "outputs": [
    {
     "output_type": "stream",
     "name": "stdout",
     "text": "Abajo dos lineas en blando\n\n\nAbajo dos lineas en blando, usando '\\n'\n\n\nFin\n"
    }
   ],
   "source": [
    "print(\"Abajo dos lineas en blando\")\n",
    "print()\n",
    "print()\n",
    "print(\"Abajo dos lineas en blando, usando '\\\\n'\")\n",
    "print(\"\\n\")\n",
    "print(\"Fin\")"
   ]
  },
  {
   "cell_type": "markdown",
   "metadata": {
    "tags": []
   },
   "source": [
    "Tabien se pueden concatenar strings usando la funcion +.\n"
   ]
  },
  {
   "cell_type": "code",
   "execution_count": 24,
   "metadata": {
    "tags": []
   },
   "outputs": [
    {
     "output_type": "stream",
     "name": "stdout",
     "text": "Hola camilo\n"
    }
   ],
   "source": [
    "import os\n",
    "Saludo = \"Hola\" + \" \" + os.getlogin()\n",
    "print(Saludo)"
   ]
  },
  {
   "cell_type": "markdown",
   "metadata": {},
   "source": [
    "Para multiples entradas en ```print```, se puede modificar la separación entre ellos"
   ]
  },
  {
   "cell_type": "code",
   "execution_count": 25,
   "metadata": {
    "tags": []
   },
   "outputs": [
    {
     "output_type": "stream",
     "name": "stdout",
     "text": "/home/camilo/Clases/Ejemplos.py\n"
    }
   ],
   "source": [
    "print(\"\",\"home\", os.getlogin(), \"Clases\",\"Ejemplos.py\", sep=\"/\")"
   ]
  },
  {
   "cell_type": "markdown",
   "metadata": {},
   "source": [
    "Para modificar la trancisión entre prints se usa end=\"Opción\""
   ]
  },
  {
   "cell_type": "code",
   "execution_count": 26,
   "metadata": {
    "tags": []
   },
   "outputs": [
    {
     "output_type": "stream",
     "name": "stdout",
     "text": "Esta texto va en la primera linea, y ésta tambíen está en la primera linea. Aquí si hay salto\nSegunda linea\n"
    }
   ],
   "source": [
    "print('Esta texto va en la primera linea', end=', ') #Aquí la trancisión es una coma con espacio\n",
    "print('y ésta tambíen está en la primera linea', end='. ') #Aquí la trancisión es un punto con espacio\n",
    "print('Aquí si hay salto')\n",
    "print('Segunda linea')\n"
   ]
  },
  {
   "cell_type": "markdown",
   "metadata": {},
   "source": [
    "Formatted string literals (f-strings) se pueden usar junto con ```print``` para incluir valeres de variables dentro del string let you include the value of Python expressions inside a string by prefixing the string with f or F and writing expressions as {expression}."
   ]
  },
  {
   "cell_type": "code",
   "execution_count": 35,
   "metadata": {
    "tags": []
   },
   "outputs": [
    {
     "output_type": "stream",
     "name": "stdout",
     "text": "Esto es un f-string, que imprime el valor de Var = 3.142, con 3 números decimales\nEsto es un f-string, que imprime el valor de Var = 37.239, con 3 números decimales\nEsto es un f-string, que imprime el valor de Var = 76.287, con 3 números decimales\nEsto es un f-string, que imprime el valor de Var = 153.008, con 3 números decimales\nEsto es un f-string, que imprime el valor de Var = 305.794, con 3 números decimales\nEsto es un f-string, que imprime el valor de Var = 611.040, con 3 números decimales\nEsto es un f-string, que imprime el valor de Var = 1221.367, con 3 números decimales\nEsto es un f-string, que imprime el valor de Var = 2441.939, con 3 números decimales\nEsto es un f-string, que imprime el valor de Var = 4883.043, con 3 números decimales\nEsto es un f-string, que imprime el valor de Var = 9765.231, con 3 números decimales\n"
    }
   ],
   "source": [
    "Var = 3.1415\n",
    "for num in range(10):\n",
    "    print(f\"Esto es un f-string, que imprime el valor de Var = {Var:.3f}, con 3 números decimales\")\n",
    "    Var = (100/Var +2*Var -0.87612)\n"
   ]
  },
  {
   "cell_type": "markdown",
   "metadata": {},
   "source": [
    "## Leer desde el teclado\n",
    "Una característica muy útil de python, es que puede pedir al usuario que introduzca cierta información por medio del teclado. Python tiene un comando para leer datos desde la entrada estándar (casi siempre teclado). El comando input(), imprime la cadena de caracteres que se ponga dentro de los paréntesis, luego recibe datos desde la entrada estándar, y se los entrega (generalmente se asigna a una variable).\n",
    "\n",
    "> __Nota:__ Para la función input todo entra como cadenas de caracteres, luego si la entrada se va a usar como otra cosa (i.e. float, ent, etc.) se debe de debe de hacer una conversión o cast.\n",
    "\n",
    "__Ejemplo:__ "
   ]
  },
  {
   "cell_type": "code",
   "execution_count": 36,
   "metadata": {
    "tags": []
   },
   "outputs": [
    {
     "output_type": "stream",
     "name": "stdout",
     "text": "Gusto en conocerte  camilo\n"
    }
   ],
   "source": [
    "#Pregunto al usuario su nombre, y lo guardo en la variable Nom.\n",
    "#Esto puede que en algunos interpretes de notebooks no funcione, pero en scripts siempre\n",
    "Nom=input('¿Cual es tu nombre? ')\n",
    "#Utilizo la variable Nom\n",
    "print('Gusto en conocerte ',Nom)"
   ]
  },
  {
   "cell_type": "markdown",
   "metadata": {},
   "source": [
    "## Abrir y cerrar archivos\n",
    "\n",
    "Python maneja los archivos como objetos file, dichos objetos cuando son creados, se manipulan utilizando el operador \".\".\n",
    "\n",
    "### La función open\n",
    "Antes de realizar cualquier operación sobre un archivo, lo primero que se debe de hacer abrir dicho archivo. La función open crea un objeto tipo file, que se usa para llamar los métodos asociados a un archivo.\n",
    "\n",
    "__Sintaxis:__\n",
    "\n",
    " > `objecto_file = open(nombre_archivo [, modo_uso][, buffering])`\n",
    "\n",
    "- objecto_file: Nombre de la variable que va a guardar el objeto tipo file.\n",
    "- nombre_archivo: Nombre del archivo que se va a abrir.\n",
    "- modo_uso: Cual es el uso que se le va a dar a dicho archivo.\n",
    "> - __r__   : Abre el archivo en modo \"solo lectura\", situá el puntero al inicio del archivo\n",
    "> - __rb__  : Abre el archivo en modo \"solo lectura binaria\", situá el puntero al inicio del archivo\n",
    "> - __r+__  : Abre el archivo en modo \"lectura y escritura\", situá el puntero al inicio del archivo\n",
    "> - __rb+__ : Abre el archivo en modo \"lectura y escritura binario\", situá el puntero al inicio del archivo\n",
    "> - __w__   : Abre el archivo en modo \"solo escritura\", sobre escribe el archivo si existe, y sino crea uno nuevo\n",
    "> - __wb__  : Abre el archivo en modo \"solo escritura binario\", sobre escribe el archivo si existe, y sino crea uno nuevo\n",
    "> - __w+__  : Abre el archivo en modo \"lectura y escritura\", sobre escribe el archivo si existe, y sino crea uno nuevo\n",
    "> - __wb+__ : Abre el archivo en modo \"lectura y escritura binaria\", sobre escribe el archivo si existe, y sino crea uno nuevo\n",
    "> - __a__   : Abre el archivo en modo \"solo append\", situá el puntero al final del archivo, y sino existe crea uno nuevo\n",
    "> - __ab__  : Abre el archivo en modo \"solo append\", situá el puntero al final del archivo, y sino existe crea uno nuevo\n",
    "> - __a+__  : Abre el archivo en modo \"append Y lectura\", situá el puntero al final del archivo, y sino existe crea uno nuevo\n",
    "> - __ab+__ : Abre el archivo en modo \"append Y lectura binario\", situá el puntero al final del archivo, y sino existe crea uno nuevo\n",
    "- buffering: Uso de memoria temporal. Si se fija en 0 (cero) no hay buffering, si se pone en 1 (uno) se guarda de a una linea en la memoria temporal, mientras se accede al archivo. Para un entero mayor a uno, se lleva a cabo ese número de lineas de buffering, y para enteros negativos, el buffering se hace según el sistema (comportamiento por defecto.).\n",
    "\n",
    "#### Método `close()`\n",
    "El método `close()` de un objeto file, velca a memoria (flush) la información que no se ha escrito, y cierra el archivo. Luego de usar `close()` no se puede leer o escribir el archivo.\n",
    "\n",
    "_Ejemplo:__\n"
   ]
  },
  {
   "cell_type": "code",
   "execution_count": 46,
   "metadata": {
    "tags": []
   },
   "outputs": [
    {
     "output_type": "stream",
     "name": "stdout",
     "text": "Nombre del archivo:  resultados.txt\n¿Está cerrado?    :  False\nModo de apertura  :  wb\n¿Está cerrado?    :  True\n"
    }
   ],
   "source": [
    "# Abro el archivo resultados.txt, en modo escritura binario, y se lo asigno a la variable archivo1\n",
    "archivo1 = open(\"resultados.txt\", \"wb\")\n",
    "print(\"Nombre del archivo: \", archivo1.name)\n",
    "print(\"¿Está cerrado?    : \", archivo1.closed)\n",
    "print(\"Modo de apertura  : \", archivo1.mode)\n",
    "archivo1.close()\n",
    "print(\"¿Está cerrado?    : \", archivo1.closed)"
   ]
  },
  {
   "cell_type": "markdown",
   "metadata": {},
   "source": [
    "#### Método `write()`\n",
    "El método write() escribe cualquier cadena de caracteres en el archivo abierto. Las cadenas de caracteres en python no solo pueden guardar texto, también binarios.\n",
    "\n",
    "__Ejemplo:__ "
   ]
  },
  {
   "cell_type": "code",
   "execution_count": 47,
   "metadata": {
    "tags": []
   },
   "outputs": [
    {
     "output_type": "stream",
     "name": "stdout",
     "text": "Nombre del archivo:  resultados.txt\n¿Está cerrado? :  False\nModo de apertura :  w\n¿Está cerrado? :  True\n"
    }
   ],
   "source": [
    "#Pregunto al usuario su nombre, y lo guardo en la variable Nom.\n",
    "Nom=input('¿Cual es tu nombre? ')\n",
    "# Abro el archivo resultados.txt, en modo escritura, y se lo asigno a la variable archivo1\n",
    "archivo1 = open(\"resultados.txt\", \"w\")\n",
    "print (\"Nombre del archivo: \", archivo1.name)\n",
    "print (\"¿Está cerrado? : \", archivo1.closed)\n",
    "print (\"Modo de apertura : \", archivo1.mode)\n",
    "archivo1.write(\"Nombre\\n\") #Escribe la cadena de caracteres \"Nombre\", y \\n es un salto de linea\n",
    "archivo1.write(Nom) #Escribe la cadena de caracteres guardada en la variable Nom\n",
    "archivo1.write(\"\\n\") #Escribe un salto de linea\n",
    "archivo1.close()\n",
    "print (\"¿Está cerrado? : \", archivo1.closed)"
   ]
  },
  {
   "cell_type": "markdown",
   "metadata": {},
   "source": []
  },
  {
   "cell_type": "markdown",
   "metadata": {},
   "source": [
    "### Manejadores para archivos\n",
    "\n",
    "Aunque se tiene la opción de usar `open()` y `close()`, generalmente hay métodos más elaborados para leer y escribir archivos. \n",
    "\n",
    "A la hora de abrir y cerrar archivos, la forma ideal es usando Manejadores, que se hacen cargo del el manejo de memoria."
   ]
  },
  {
   "cell_type": "code",
   "execution_count": 43,
   "metadata": {
    "tags": []
   },
   "outputs": [
    {
     "output_type": "stream",
     "name": "stdout",
     "text": "0 Referencia, Color, Cantidad, TInicial, TFinal \n\n1 6, Blanco  ,91,0,11.78\n\n2 6, Blanco  ,91,11.78,23.56\n\n3 6, Blanco  ,91,23.56,35.34\n\n4 6, Blanco  ,91,35.34,47.12\n\n5 6, Blanco  ,91,47.12,58.9\n\n6 6, Blanco  ,91,58.9,70.68\n\n7 6, Blanco  ,91,70.68,82.46\n\n8 6, Blanco  ,91,82.46,94.24\n\n9 6, Blanco  ,91,94.24,106.02\n\n10 6, Blanco  ,91,106.02,117.8\n\n"
    }
   ],
   "source": [
    "with open('input.csv', 'r') as file_object:\n",
    "     for lnumber ,line in enumerate(file_object):\n",
    "         print(lnumber, line)\n",
    "         #Esta linea para el loop en la linea 11\n",
    "         if lnumber == 10: break"
   ]
  }
 ]
}