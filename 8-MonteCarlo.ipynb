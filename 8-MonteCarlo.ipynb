{
 "metadata": {
  "language_info": {
   "codemirror_mode": {
    "name": "ipython",
    "version": 3
   },
   "file_extension": ".py",
   "mimetype": "text/x-python",
   "name": "python",
   "nbconvert_exporter": "python",
   "pygments_lexer": "ipython3",
   "version": "3.9.2"
  },
  "orig_nbformat": 2,
  "kernelspec": {
   "name": "python3",
   "display_name": "Python 3.9.2 64-bit"
  },
  "interpreter": {
   "hash": "ef4c800377bbf5e33c22b32317d08627756e48ff809c13c8c6fbaacd1e58e059"
  }
 },
 "nbformat": 4,
 "nbformat_minor": 2,
 "cells": [
  {
   "cell_type": "markdown",
   "source": [
    "# Técnicas de Monte Carlo\n",
    "\n",
    "El nombre \"Monte Carlo\" se aplica a métodos aleatorios (o pseudoaleatorios) de resolución problemas en una computadora. Dicho nombre esdebido a una pequeña ciudad de la riviera francesa famosa por sus casinos. \n",
    "\n",
    "En términos más exactos, un Monte Carlo es un proceso estocástico numérico, es decir, una secuencia de estados cuya evolucion viene determinada por sucesos aleatorios. Recor demos que un suceso aleatorio es un conjunto de resultados que se producen con cierta\n",
    "probabilidad. Veamos un par de ejemplos ilustrativos.\n",
    "\n",
    "Un ejemplo clásico de estas técnicas es el de la estimación del área de una forma irregular. Digamos que tienes una forma extraña y se quiere encontrar su área. Una técnica de Monte Carlo para encontrar esta área sería rodear la forma con una forma de área conocida (un rectángulo por ejemplo) y luego genere una gran cantidad de puntos aleatorios dentro del área conocida. El área de la forma es (aproximadamente) la fracción de los puntos que caen dentro la forma, multiplicada por el área conocida que rodea la forma. (Ver Figura)\n",
    "\n",
    "<img src=\"Montecarlo1.png\" width=\"800\" height=\"487\">\n",
    "\n",
    "Para que este método funcione, es necesario que nuestros números aleatorios coincidan tres criterios: \n",
    "1. Deben estar distribuidos uniformemente. \n",
    "2. No estar correlacionados. \n",
    "3. La cantidad de puntos debe de ser alta."
   ],
   "metadata": {}
  },
  {
   "cell_type": "markdown",
   "source": [
    "# Números Aleatorios\n",
    "\n",
    "Generar números aleatorios es intrínsecamente difícil. Por lo general, renunciamos a los números verdaderamente aleatorios y usamos \"pseudoaleatorio\" en su lugar, secuencias de números. Si la secuencia de números cumple los criterios anteriormente mencionados, harán el trabajo incluso si no son técnicamente aleatorios\n",
    "\n",
    "Un ejemplo de un generador de números pseudoaleatorios, es el __generador lineal congruente__:\n",
    "$$x_{n+1}=(ax_n+b)\\mod c$$\n",
    "\n",
    "Este generador de números pseudoaleatorios toma una \"semilla\" $x_0$ y genera una serie de números que, dependiendo de las opciones de $a$, $b$ y $c$, pueden cumplir los criterios necesarios para las técnicas de Monte Carlo.\n",
    "\n",
    "__Ejemplo:__ Tomamos a = 65539, b = 0 y c = 231. Con una \"semilla\" inicial $x_0 = 1$, "
   ],
   "metadata": {}
  },
  {
   "cell_type": "code",
   "execution_count": 28,
   "source": [
    "#Defino el generador\r\n",
    "def Px(x0,a,b,c):\r\n",
    "    \"\"\"generador lineal congruente\"\"\"\r\n",
    "    return (a*x0+b)%c\r\n",
    "\r\n",
    "#Paso la semilla\r\n",
    "x_0 = 1\r\n",
    "for i in range(0,15):\r\n",
    "    x_0 = Px(x_0,65539,0,231)\r\n",
    "    print(x_0, end=\", \")"
   ],
   "outputs": [
    {
     "output_type": "stream",
     "name": "stdout",
     "text": [
      "166, 67, 34, 100, 199, 1, 166, 67, 34, 100, 199, 1, 166, 67, 34, "
     ]
    }
   ],
   "metadata": {}
  },
  {
   "cell_type": "markdown",
   "source": [
    "este genera la secuencia 166, 67, 34, 100, 199, 1. En este punto, el la secuencia se repite. \r\n",
    "\r\n",
    "Este conjunto de parámetros se utilizó mucho en los años 70 y principios de los 80 es llamado \"Randu\". Estos parámetros tienen la ventaja de ser fácil de calcular para la computadora, por lo que fue posible generar grandes secuencias rápidamente. Sin embargo, hay un problema que no fue descubierto hasta mucho después: ¡la secuencia Randu está altamente correlacionada! \r\n",
    "\r\n",
    "Python viene con un generador de números pseudoaleatorios llamado \"Merseinne Twister ”. Este es un generador muy rápido, y ha sido ampliamente probado por la comunidad matemática.\r\n",
    "\r\n",
    "En lugar de utilizar nuestro propio generador de números pseudoaleatorios y correr el riesgo de caer en algún problema, usaremos el de python. Para acceder a estas rutinas de números aleatorios, se importa el paquete `random`\r\n",
    "\r\n",
    "__Sintaxis:__\r\n",
    "\r\n",
    "        #Paquete random\r\n",
    "        import random\r\n",
    "\r\n",
    "        # Genera un número psudoaleatorio entre 0 y 1\r\n",
    "        random.random()\r\n",
    "        # Genera un número psudoaleatorio entre a y b\r\n",
    "        random.uniform (a,b)\r\n",
    "        # Un elemento aleatorio de la lista\r\n",
    "        random.choice(lista)\r\n",
    "        # elemento aleatorio que sigue la distribucion de gauss\r\n",
    "        random.gauss(mu,sigma)\r\n",
    "        # Un número entero aleatorio en el rango a,b\r\n",
    "        random.randint(a,b)\r\n",
    "\r\n",
    "__Ejemplo:__ Generemos 15 números aleatorios entre 1 y 10\r\n"
   ],
   "metadata": {}
  },
  {
   "cell_type": "code",
   "execution_count": 29,
   "source": [
    " #Paquete random\r\n",
    "import random\r\n",
    "\r\n",
    "for i in range(0,15):\r\n",
    "    print(random.uniform(1,10), end=\", \")\r\n"
   ],
   "outputs": [
    {
     "output_type": "stream",
     "name": "stdout",
     "text": [
      "1.234560716581687, 7.973048651074991, 9.595100257903008, 9.447196073945525, 9.899460563193106, 3.7913375213268075, 9.536179236384928, 3.665492454559049, 1.2537792824161176, 7.577605918450007, 5.00104932800399, 8.997951523682659, 6.872230712711044, 3.69673795859661, 2.1836660747848677, "
     ]
    }
   ],
   "metadata": {}
  },
  {
   "cell_type": "markdown",
   "source": [
    "Tambiíen lo podemos visualizar en un histograma, pero no 15 números sino 100 (o 1000, 10000, $10^{6}$), para ver el comportamiento en general."
   ],
   "metadata": {}
  },
  {
   "cell_type": "code",
   "execution_count": 30,
   "source": [
    "import matplotlib.pyplot as plt\r\n",
    "\r\n",
    "x = []\r\n",
    "for i in range(0,100):\r\n",
    "    x.append(random.uniform(1,10))\r\n",
    "\r\n",
    "plt.hist(x, bins = 10)\r\n",
    "plt.show()"
   ],
   "outputs": [
    {
     "output_type": "display_data",
     "data": {
      "text/plain": [
       "<Figure size 432x288 with 1 Axes>"
      ],
      "image/png": "[encoded data removed]"
     },
     "metadata": {
      "needs_background": "light"
     }
    }
   ],
   "metadata": {}
  },
  {
   "cell_type": "markdown",
   "source": [
    "# Integración\r\n",
    "\r\n",
    "Volvamos ahora al primer ejemplo. uno se puede preguntar \"¿Por qué hacer esto? \" pues si para que el programa determine si un punto aleatorio está dentro o fuera de la forma, el programa deberá tener una ecuación para la forma. Si el programa tiene una ecuación para la forma, ¿No debería ser posible encontrar el área integrando numéricamente, usando las técnicas numérica? Y esto en pricipio debería ser más rápido, que seleccionar al azar varios millones de puntos?\r\n",
    "\r\n",
    "Todos esos problemas son verdad, para problemas de baja dimensionalidad. Sin embargo, en dimensiones superiores, la integración numérica directa se vuelve más difícil puesto que el número de cálculos de funciones para la integración numérica crece exponencialmente con la dimensión. \r\n",
    "\r\n",
    "También es cierto que las integraciones de Monte Carlo (MC) también aumentanen su dificultad con la dimensión, pero el aumento es lineal. Esto significa, que si para una intergral en una dimensión debo de hacer $10$ veces algunos procedimientos, para una integral de dimensión de orden 10 tendré que llamar estas mismas funciones $10^{10}$ veces. Si esa misma integral se hace usando MC, puede que en una dimensión tome $1 \\times 10^6$ de llamadas pero para una de orden 10 será $10 \\times 10^6$\r\n",
    "\r\n",
    "__Ejemplo:__ Utilice la integración de Monte Carlo para encontrar el volumen de una esfera de radio 1 (sabemos que es $\\frac{2}{3}\\pi r^3$).\r\n",
    "\r\n",
    "Podemos usar la simetría del problema para encontrar el volumen de un cuarto de la esfera, luego multiplique por 4 para obtener nuestra respuesta final. Para el volumen conocido rodeando nuestra pieza desconocida, usemos el cubo unitario: $x$, $y$, y $z$ rango de 0 a 1. Este rango de valores corresponde exactamente al\r\n",
    "números aleatorios distribuidos uniformemente dados por `random.random()`.\r\n"
   ],
   "metadata": {}
  },
  {
   "cell_type": "code",
   "execution_count": 31,
   "source": [
    "from random import random\r\n",
    "from math import sqrt, pi\r\n",
    "\r\n",
    "#Numero de puntos totales\r\n",
    "N=100000\r\n",
    "#Contador de puntos en la esfera\r\n",
    "in_points=0\r\n",
    "for i in range(N):\r\n",
    "    #Creo una tupla con los valores x,y,z del punto en el espacio\r\n",
    "    point = (random(),random(),random())\r\n",
    "    #Calculo el radio\r\n",
    "    r = point[0]*point[0]+point[1]*point[1]+point[2]*point[2]\r\n",
    "    #Si el punto esta dentro del cuarto de esfera cuento\r\n",
    "    if r<1: in_points+=1\r\n",
    "\r\n",
    "#Calculo el volumen\r\n",
    "volumen = 4*in_points/N\r\n",
    "\r\n",
    "print(f\"Volumen MC de la esfera:      {volumen:4f} +- {4*sqrt(volumen)/sqrt(N):4f}\")\r\n",
    "print(f\"Volumen Teorico de la esfera: {(2/3)*pi:4f}\")"
   ],
   "outputs": [
    {
     "output_type": "stream",
     "name": "stdout",
     "text": [
      "Volumen MC de la esfera:      2.095640 +- 0.018311\n",
      "Volumen Teorico de la esfera: 2.094395\n"
     ]
    }
   ],
   "metadata": {}
  },
  {
   "cell_type": "markdown",
   "source": [
    "__Ejercicios:__ \r\n",
    "\r\n",
    "- Calcule $\\int_{0}^{\\pi}\\sin(x)dx$ usando MC. Informe su incertidumbre en el resultado y comparar con el resultado conocido.\r\n",
    "- El \"volumen\" de una esfera en dos dimensiones (también conocido como un \"círculo\") es $\\pi r^2$. El volumen de una esfera de tres dimensiones ($x^2 + y^2 + z^2 = r^2$) es $4\\pi r^3$. La ecuacion para una 4-esfera es $x^2 + y^2 + z^2 + w^2 = r^2$. Podemos adivinar, por extrapolación de los casos bidimensionales y tridimensionales, que el \"volumen\" de una 4-esfera es $\\alpha \\pi r^4$. Utilice la integración de Monte Carlo para estimar $\\alpha$."
   ],
   "metadata": {}
  },
  {
   "cell_type": "markdown",
   "source": [
    "# Métodos Estocásticos\r\n",
    "\r\n",
    "Si a un vaso con agua se le agrega una gota de tinte en el centro, luego de determinado tiempo la tinta se esparce y eventualmente se distribuye uniformemente a lo largo el agua. ¿Cómo modelaríamos este comportamiento computacionalmente?\r\n",
    "\r\n",
    "El método directo sería calcular la posición y la velocidad(momento) para cada molécula en vaso, pero esto plantea algunas dificultades de cálculo. Suponiendo $10^{23}$\r\n",
    "moléculas, con seis grados de libertad cada una, y si se usa un número de punto flotante de 4 bytes por cada grado de libertad, este método requeriría $2,4 \\times 10^{12}$ Tb solo para almacenar el estado del sistema en cualquier instante. \r\n",
    "\r\n",
    "Otro problema es que el método directo tiene una utilidad limitada, incluso si podría implementarse: Podríamos calcular el tiempo que tomaría las moléculas de tinta para distribuir uniformemente por el agua, pero luego, si se quiere saber algo de un sistema parecido con un parámetro diferente (i.e. volumen) se tendría que repetir el cálculo. \r\n",
    "\r\n",
    "En lugar del método directo, utilizamos métodos estocásticos. Los fundamentos detrás de estos métodos es que los conjuntos grandes actúan en \"promedio\" de cierta manera, incluso si los elementos individuales son aleatorios. Perdemos los detalles de cada una de las moléculas, y solo se tiene en cuenta el comportamiento del conjunto.\r\n",
    "\r\n",
    "## El problema del Borracho\r\n",
    "\r\n",
    "El método más simple, el _paseo aleatorio en una dimensión_. Comience con un individuo borracho parado en la acera fuera del bar. Este individuo puede dar un paso adelante o atrás. Para simplificar el modelo, asumiremos que la probabilidad de la dirección es $0,5$ y las longitudes de los pasos son todas iguales. Luego, ¿qué tan rápido, en promedio, esta caminata aleatoria mueve el individuo lejos del bar?\r\n"
   ],
   "metadata": {}
  },
  {
   "cell_type": "code",
   "execution_count": 34,
   "source": [
    "from math import sqrt\r\n",
    "from random import choice\r\n",
    "import numpy as np\r\n",
    "import matplotlib.pyplot as plt\r\n",
    "\r\n",
    "#Numero de pasos\r\n",
    "Pasos=100\r\n",
    "##de borachos\r\n",
    "Borrachos = 2000\r\n",
    "\r\n",
    "\r\n",
    "#Uso vectores para guardar el estado del sistema\r\n",
    "x = np.zeros([Pasos])\r\n",
    "t = range(Pasos)\r\n",
    "x_sum = np.zeros([Pasos])\r\n",
    "x2_sum = np.zeros([Pasos])\r\n",
    "\r\n",
    "#For sobre los borrachos\r\n",
    "for j in range(Borrachos):\r\n",
    "    #For sobre los pasos\r\n",
    "    for i in range(1,Pasos):\r\n",
    "        #Que tipo de paso da \r\n",
    "        if choice([0,1]):\r\n",
    "            #Paso atras\r\n",
    "            x[i] = x[i-1]-1\r\n",
    "        else:\r\n",
    "            #Paso adelante\r\n",
    "            x[i] = x[i-1]+1\r\n",
    "\r\n",
    "    #Sumar x, y x2\r\n",
    "    for i in range(Pasos):\r\n",
    "        x_sum[i] = x_sum[i]+ x[i]\r\n",
    "        x2_sum[i] = x2_sum[i] + x[i]*x[i]\r\n",
    "\r\n",
    "#Calculemos la media cuadratica de las posiciones\r\n",
    "x_avg = [ i/Borrachos for i in x_sum ]\r\n",
    "RMS = [ sqrt(i/Borrachos) for i in x2_sum]\r\n",
    "\r\n",
    "fig, (ax1, ax2) = plt.subplots(1, 2, figsize = (15, 8))\r\n",
    "\r\n",
    "\r\n",
    "#Ejemplo de un borracho\r\n",
    "ax2.plot( t , x , 'b' )\r\n",
    "ax2.set(title = \"Camino un Borracho\",\r\n",
    "       xlabel = \"Tiempo\",\r\n",
    "       ylabel = \"Posicion en pasos\")\r\n",
    "\r\n",
    "# los valores de x e y\r\n",
    "ax1.plot( t , x_avg , 'b' )\r\n",
    "ax1.plot( t ,RMS,  'g' )\r\n",
    "\r\n",
    "ax1.set(title = \"Promedio de Borrachos\",\r\n",
    "       xlabel = \"Tiempo\",\r\n",
    "       ylabel = \"Posicion promedio \\n RMS\")\r\n",
    "\r\n",
    "plt.show()"
   ],
   "outputs": [
    {
     "output_type": "display_data",
     "data": {
      "text/plain": [
       "<Figure size 1080x576 with 2 Axes>"
      ],
      "image/png": "[encoded data removed]"
     },
     "metadata": {
      "needs_background": "light"
     }
    }
   ],
   "metadata": {}
  },
  {
   "cell_type": "markdown",
   "source": [
    "Se Puede mostrar que el RMS va como $\\sqrt{t}$\n",
    "\n",
    "__Ejercicio:__\n",
    "\n",
    "¿Qué sucede en la caminata aleatoria unidimensional si el tamaño del paso es también al azar? Modele esta situación donde en lugar de aleatorizar el\n",
    "dirección de cada paso, elige un paso con una longitud aleatoria en el rango [-1, 1]. ¿Cuál es la dependencia del tiempo del desplazamiento RMS en este caso?\n"
   ],
   "metadata": {}
  },
  {
   "cell_type": "code",
   "execution_count": null,
   "source": [],
   "outputs": [],
   "metadata": {}
  }
 ]
}